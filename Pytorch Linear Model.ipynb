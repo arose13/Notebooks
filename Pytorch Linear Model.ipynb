{
 "cells": [
  {
   "cell_type": "markdown",
   "metadata": {},
   "source": [
    "# Playing with PyTorch\n",
    "\n",
    "<b>_A lot_</b> easier than Tensorflow but still not as slick as numpy I or whatever I'm imagining in my head. I guess I just dislike having to constantly dealing with typing."
   ]
  },
  {
   "cell_type": "code",
   "execution_count": 1,
   "metadata": {},
   "outputs": [
    {
     "name": "stderr",
     "output_type": "stream",
     "text": [
      "/home/stephen/miniconda3/lib/python3.6/site-packages/h5py/__init__.py:36: FutureWarning: Conversion of the second argument of issubdtype from `float` to `np.floating` is deprecated. In future, it will be treated as `np.float64 == np.dtype(float).type`.\n",
      "  from ._conv import register_converters as _register_converters\n",
      "Using TensorFlow backend.\n"
     ]
    }
   ],
   "source": [
    "import numpy as np\n",
    "import scipy.stats as stats\n",
    "import sklearn.linear_model as lms\n",
    "import matplotlib.pyplot as graph\n",
    "from tqdm import tqdm\n",
    "from sklearn.metrics import r2_score, mean_squared_error\n",
    "\n",
    "import torch\n",
    "import torch.nn as nn\n",
    "import torch.nn.functional as fx\n",
    "from torch.autograd import Variable, grad\n",
    "\n",
    "import pyro.distributions as pyrodist\n",
    "\n",
    "from rosey.helpers import vec_to_array\n",
    " \n",
    "graph.style.use('fivethirtyeight')"
   ]
  },
  {
   "cell_type": "code",
   "execution_count": 2,
   "metadata": {},
   "outputs": [
    {
     "data": {
      "image/png": "[encoded data removed]",
      "text/plain": [
       "<Figure size 432x288 with 1 Axes>"
      ]
     },
     "metadata": {},
     "output_type": "display_data"
    }
   ],
   "source": [
    "true_m = 2.5\n",
    "x = np.linspace(-1.0, 1.0, 100)\n",
    "y = true_m * x + stats.norm.rvs(size=x.shape)\n",
    "\n",
    "x, y = vec_to_array(x), vec_to_array(y)\n",
    "\n",
    "graph.title(mean_squared_error(y, true_m * x).round(4))\n",
    "graph.plot(x, y, '.', label='Data')\n",
    "graph.plot(x, 2.5*x, label='True')\n",
    "graph.legend()\n",
    "graph.show()"
   ]
  },
  {
   "cell_type": "code",
   "execution_count": 3,
   "metadata": {},
   "outputs": [],
   "source": [
    "def how_close(guess_m, guess_b):\n",
    "    return abs(guess_m - true_m), abs(guess_b)"
   ]
  },
  {
   "cell_type": "markdown",
   "metadata": {},
   "source": [
    "# SKLearn"
   ]
  },
  {
   "cell_type": "code",
   "execution_count": 4,
   "metadata": {},
   "outputs": [
    {
     "name": "stdout",
     "output_type": "stream",
     "text": [
      "[[2.37097698]] [-0.02193155]\n",
      "(array([[0.12902302]]), array([0.02193155]))\n"
     ]
    }
   ],
   "source": [
    "lm = lms.LinearRegression().fit(x, y)\n",
    "print(lm.coef_, lm.intercept_)\n",
    "print(how_close(lm.coef_, lm.intercept_))"
   ]
  },
  {
   "cell_type": "markdown",
   "metadata": {},
   "source": [
    "# PyTorch (Module Method)"
   ]
  },
  {
   "cell_type": "code",
   "execution_count": 5,
   "metadata": {},
   "outputs": [],
   "source": [
    "dtype = torch.FloatTensor\n",
    "y_torch, x_torch = torch.from_numpy(y), torch.from_numpy(x)\n",
    "\n",
    "y_torch = Variable(y_torch, requires_grad=False).type(dtype)\n",
    "x_torch = Variable(x_torch, requires_grad=False).type(dtype)\n",
    "\n",
    "class Model(nn.Module):\n",
    "    def __init__(self):\n",
    "        super(Model, self).__init__()\n",
    "        self.node = nn.Linear(in_features=1, out_features=1)\n",
    "    \n",
    "    def forward(self, x_in):\n",
    "        return self.node(x_in)  "
   ]
  },
  {
   "cell_type": "code",
   "execution_count": 6,
   "metadata": {},
   "outputs": [
    {
     "name": "stdout",
     "output_type": "stream",
     "text": [
      "Variable containing:\n",
      " 1.2034\n",
      "[torch.FloatTensor of size 1]\n",
      "\n",
      "[1.2034185]\n"
     ]
    }
   ],
   "source": [
    "print(((y_torch - (2.5 * x_torch)) ** 2).mean())\n",
    "print(((y_torch - (2.5 * x_torch)) ** 2).mean().data.numpy())"
   ]
  },
  {
   "cell_type": "code",
   "execution_count": 7,
   "metadata": {},
   "outputs": [
    {
     "name": "stderr",
     "output_type": "stream",
     "text": [
      "582 -> 1.19730:  11%|█         | 549/5000 [00:01<00:09, 454.27it/s]"
     ]
    },
    {
     "name": "stdout",
     "output_type": "stream",
     "text": [
      "[array([[2.3630676]], dtype=float32), array([-0.02193153], dtype=float32)]\n",
      "(array([[0.13693237]], dtype=float32), array([0.02193153], dtype=float32))\n"
     ]
    }
   ],
   "source": [
    "model = Model()\n",
    "loss_func = nn.MSELoss()\n",
    "learning_rate = 1e-2\n",
    "tolerance = 1e-9\n",
    "optimiser = torch.optim.Adam(model.parameters(), lr=learning_rate)\n",
    "mse_last = 1e6\n",
    "\n",
    "train_loop = tqdm(range(5000))\n",
    "for i in train_loop:\n",
    "    epoch = i + 1\n",
    "    \n",
    "    # Reset gradients\n",
    "    optimiser.zero_grad()\n",
    "    \n",
    "    # Predict\n",
    "    y_hat = model(x_torch)\n",
    "    \n",
    "    # Compute fit\n",
    "    mse_i = loss_func(y_hat, y_torch)\n",
    "    train_loop.set_description(f'{i} -> {mse_i.data[0]:0.5f}')    \n",
    "    \n",
    "    # Early termination condition\n",
    "    if ((mse_last - mse_i) < tolerance).data.numpy():\n",
    "        break\n",
    "    mse_last = mse_i.data[0]\n",
    "    \n",
    "    # Compute gradients and update weights\n",
    "    mse_i.backward()\n",
    "    \n",
    "    # NOTE: You can update the weights anyway you want!\n",
    "    # Example here http://pytorch.org/tutorials/beginner/pytorch_with_examples.html#pytorch-nn \n",
    "    # For now I'm just going to use Adam\n",
    "    optimiser.step()\n",
    "\n",
    "module_results = [p.data.numpy() for p in model.parameters()]\n",
    "print(module_results)\n",
    "print(how_close(*module_results))"
   ]
  },
  {
   "cell_type": "code",
   "execution_count": 8,
   "metadata": {},
   "outputs": [
    {
     "data": {
      "image/png": "[encoded data removed]",
      "text/plain": [
       "<Figure size 432x288 with 1 Axes>"
      ]
     },
     "metadata": {},
     "output_type": "display_data"
    }
   ],
   "source": [
    "graph.plot(x_torch.data.numpy(), y_torch.data.numpy(), '.')\n",
    "graph.plot(x_torch.data.numpy(), model(x_torch).data.numpy())\n",
    "graph.show()"
   ]
  },
  {
   "cell_type": "markdown",
   "metadata": {},
   "source": [
    "# PyTorch (Arbitrary Method)\n",
    "\n",
    "with functions"
   ]
  },
  {
   "cell_type": "code",
   "execution_count": 9,
   "metadata": {
    "scrolled": false
   },
   "outputs": [
    {
     "name": "stderr",
     "output_type": "stream",
     "text": [
      "\n",
      "  0%|          | 0/5000 [00:00<?, ?it/s]\u001b[A\n",
      "605 -> 1.19728 | y = 2.368 x + -0.022:  12%|█▏        | 589/5000 [00:01<00:09, 461.93it/s]"
     ]
    },
    {
     "name": "stdout",
     "output_type": "stream",
     "text": [
      "(0.13227558135986328, 0.022059213370084763)\n"
     ]
    }
   ],
   "source": [
    "def linear_model(x_in, m_in, b_in):\n",
    "    return (x_in * m_in) + b_in\n",
    "\n",
    "def mse_loss(true, pred):\n",
    "    return ((pred - true) ** 2).mean()\n",
    "\n",
    "\n",
    "# Model Variables\n",
    "m = Variable(torch.randn(1), requires_grad=True)\n",
    "b = Variable(torch.randn(1), requires_grad=True)\n",
    "\n",
    "\n",
    "# Training logic\n",
    "learning_rate = 1e-2\n",
    "loss_last = 1e6\n",
    "tolerance = 1e-9\n",
    "optimiser = torch.optim.Adam([m, b], lr=learning_rate)  # Optimise the list given\n",
    "train_loop = tqdm(range(5000))\n",
    "for i in train_loop:\n",
    "    epoch = i + 1\n",
    "    \n",
    "    # Reset gradients\n",
    "    optimiser.zero_grad()\n",
    "    \n",
    "    # Predict\n",
    "    y_pred = linear_model(x_torch, m, b)\n",
    "    loss_i = mse_loss(y_torch, y_pred)\n",
    "    train_loop.set_description(f'{epoch} -> {loss_i.data[0]:0.5f} | y = {m.data[0]:0.3f} x + {b.data[0]:0.3f}')\n",
    "    \n",
    "    # Check for early termination\n",
    "    if ((loss_last - loss_i) < tolerance).data.numpy():\n",
    "        break\n",
    "    loss_last = loss_i\n",
    "    \n",
    "    # Compute gradients and update weights\n",
    "    loss_i.backward()\n",
    "    optimiser.step()\n",
    "    \n",
    "print(how_close(m.data[0], b.data[0]))"
   ]
  },
  {
   "cell_type": "code",
   "execution_count": 10,
   "metadata": {},
   "outputs": [
    {
     "data": {
      "image/png": "[encoded data removed]",
      "text/plain": [
       "<Figure size 432x288 with 1 Axes>"
      ]
     },
     "metadata": {},
     "output_type": "display_data"
    }
   ],
   "source": [
    "graph.plot(x_torch.data.numpy(), y_torch.data.numpy(), '.')\n",
    "graph.plot(x_torch.data.numpy(), linear_model(x_torch, m, b).data.numpy())\n",
    "graph.show()"
   ]
  },
  {
   "cell_type": "markdown",
   "metadata": {},
   "source": [
    "# MLE in PyTorch \n",
    "\n",
    "Since the loss can literally be anything you can right"
   ]
  },
  {
   "cell_type": "code",
   "execution_count": 11,
   "metadata": {
    "scrolled": false
   },
   "outputs": [
    {
     "name": "stderr",
     "output_type": "stream",
     "text": [
      "\n",
      "  0%|          | 0/2500 [00:00<?, ?it/s]\u001b[A\n"
     ]
    },
    {
     "ename": "AttributeError",
     "evalue": "'float' object has no attribute 'data'",
     "output_type": "error",
     "traceback": [
      "\u001b[0;31m---------------------------------------------------------------------------\u001b[0m",
      "\u001b[0;31mAttributeError\u001b[0m                            Traceback (most recent call last)",
      "\u001b[0;32m<ipython-input-11-b43c0d35ea60>\u001b[0m in \u001b[0;36m<module>\u001b[0;34m()\u001b[0m\n\u001b[1;32m     28\u001b[0m     \u001b[0mloss_i\u001b[0m \u001b[0;34m=\u001b[0m \u001b[0mmle_loss\u001b[0m\u001b[0;34m(\u001b[0m\u001b[0my_torch\u001b[0m\u001b[0;34m,\u001b[0m \u001b[0my_pred\u001b[0m\u001b[0;34m,\u001b[0m \u001b[0msd\u001b[0m\u001b[0;34m)\u001b[0m\u001b[0;34m\u001b[0m\u001b[0m\n\u001b[1;32m     29\u001b[0m     train_loop.set_description(\n\u001b[0;32m---> 30\u001b[0;31m         \u001b[0;34mf'{epoch} -> {loss_i.data[0]:0.5f} | y = {m.data[0]:0.3f} x + {b.data[0]:0.3f}, eps = {sd.data[0]:0.3f}'\u001b[0m\u001b[0;34m\u001b[0m\u001b[0m\n\u001b[0m\u001b[1;32m     31\u001b[0m     )\n\u001b[1;32m     32\u001b[0m \u001b[0;34m\u001b[0m\u001b[0m\n",
      "\u001b[0;31mAttributeError\u001b[0m: 'float' object has no attribute 'data'"
     ]
    }
   ],
   "source": [
    "def mle_loss(true, pred, sd_hat):\n",
    "    residuals = pred - true\n",
    "    loglikelihood = torch.from_numpy(\n",
    "        stats.norm(0, sd_hat.data.numpy()).logpdf(residuals.data.numpy())\n",
    "    )\n",
    "    return -loglikelihood.sum()\n",
    "\n",
    "\n",
    "# Model Variables\n",
    "m = Variable(torch.randn(1), requires_grad=True)\n",
    "b = Variable(torch.randn(1), requires_grad=True)  # randn -> N(0, 1)\n",
    "sd = Variable(torch.rand(1), requires_grad=True)  # rand -> Unif(0, 1)\n",
    "\n",
    "\n",
    "# Training logic\n",
    "learning_rate = 1e-2\n",
    "loss_last = 1e6\n",
    "optimiser = torch.optim.Adam([m, b, sd], lr=learning_rate)  # Optimise the list given\n",
    "train_loop = tqdm(range(2500))\n",
    "for i in train_loop:\n",
    "    epoch = i + 1\n",
    "    \n",
    "    # Reset gradients\n",
    "    optimiser.zero_grad()\n",
    "    \n",
    "    # Predict\n",
    "    y_pred = linear_model(x_torch, m, b)\n",
    "    loss_i = mle_loss(y_torch, y_pred, sd)\n",
    "    train_loop.set_description(\n",
    "        f'{epoch} -> {loss_i.data[0]:0.5f} | y = {m.data[0]:0.3f} x + {b.data[0]:0.3f}, eps = {sd.data[0]:0.3f}'\n",
    "    )\n",
    "    \n",
    "    # Check for early termination\n",
    "    if ((loss_last - loss_i) < tolerance).data.numpy():\n",
    "        break\n",
    "    loss_last = loss_i\n",
    "    \n",
    "    # Compute gradients and update weights\n",
    "    loss_i.backward()\n",
    "    optimiser.step()\n",
    "    \n",
    "print(how_close(m.data[0], b.data[0]))"
   ]
  },
  {
   "cell_type": "code",
   "execution_count": null,
   "metadata": {},
   "outputs": [],
   "source": []
  }
 ],
 "metadata": {
  "kernelspec": {
   "display_name": "Python 3",
   "language": "python",
   "name": "python3"
  },
  "language_info": {
   "codemirror_mode": {
    "name": "ipython",
    "version": 3
   },
   "file_extension": ".py",
   "mimetype": "text/x-python",
   "name": "python",
   "nbconvert_exporter": "python",
   "pygments_lexer": "ipython3",
   "version": "3.6.4"
  }
 },
 "nbformat": 4,
 "nbformat_minor": 2
}
