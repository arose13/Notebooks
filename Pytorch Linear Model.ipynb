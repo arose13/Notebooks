{
 "cells": [
  {
   "cell_type": "markdown",
   "metadata": {},
   "source": [
    "# Playing with PyTorch\n",
    "\n",
    "<b>_A lot_</b> easier than Tensorflow but still not as slick as numpy I or whatever I'm imagining in my head. I guess I just dislike having to constantly dealing with typing."
   ]
  },
  {
   "cell_type": "code",
   "execution_count": 1,
   "metadata": {},
   "outputs": [],
   "source": [
    "import numpy as np\n",
    "import scipy.stats as stats\n",
    "import sklearn.linear_model as lms\n",
    "import matplotlib.pyplot as graph\n",
    "from tqdm import tqdm\n",
    "from sklearn.metrics import r2_score, mean_squared_error\n",
    "\n",
    "import torch\n",
    "import torch.nn as nn\n",
    "import torch.nn.functional as fx\n",
    "from torch.autograd import Variable\n",
    "\n",
    "from Helpers import vec_to_array\n",
    " \n",
    "graph.style.use('fivethirtyeight')"
   ]
  },
  {
   "cell_type": "code",
   "execution_count": 2,
   "metadata": {},
   "outputs": [
    {
     "data": {
      "image/png": "[encoded data removed]",
      "text/plain": [
       "<matplotlib.figure.Figure at 0x7f46a16bb5f8>"
      ]
     },
     "metadata": {},
     "output_type": "display_data"
    }
   ],
   "source": [
    "x = np.linspace(-1.0, 1.0, 100)\n",
    "y = 2.5 * x + stats.norm.rvs(size=x.shape)\n",
    "\n",
    "x, y = vec_to_array(x), vec_to_array(y)\n",
    "\n",
    "graph.title(mean_squared_error(y, 2.5*x).round(4))\n",
    "graph.plot(x, y, '.', label='Data')\n",
    "graph.plot(x, 2.5*x, label='True')\n",
    "graph.legend()\n",
    "graph.show()"
   ]
  },
  {
   "cell_type": "markdown",
   "metadata": {},
   "source": [
    "# SKLearn"
   ]
  },
  {
   "cell_type": "code",
   "execution_count": 3,
   "metadata": {},
   "outputs": [
    {
     "name": "stdout",
     "output_type": "stream",
     "text": [
      "[[2.20945675]] [-0.10411868]\n"
     ]
    }
   ],
   "source": [
    "lm = lms.LinearRegression().fit(x, y)\n",
    "print(lm.coef_, lm.intercept_)"
   ]
  },
  {
   "cell_type": "markdown",
   "metadata": {},
   "source": [
    "# PyTorch"
   ]
  },
  {
   "cell_type": "code",
   "execution_count": 4,
   "metadata": {},
   "outputs": [],
   "source": [
    "dtype = torch.FloatTensor\n",
    "y_torch, x_torch = torch.from_numpy(y), torch.from_numpy(x)\n",
    "\n",
    "y_torch = Variable(y_torch, requires_grad=False).type(dtype)\n",
    "x_torch = Variable(x_torch, requires_grad=False).type(dtype)\n",
    "\n",
    "class Model(nn.Module):\n",
    "    def __init__(self):\n",
    "        super(Model, self).__init__()\n",
    "        self.node = nn.Linear(in_features=1, out_features=1)\n",
    "    \n",
    "    def forward(self, x_in):\n",
    "        return self.node(x_in)  "
   ]
  },
  {
   "cell_type": "code",
   "execution_count": 5,
   "metadata": {},
   "outputs": [
    {
     "data": {
      "text/plain": [
       "array([1.0246387], dtype=float32)"
      ]
     },
     "execution_count": 5,
     "metadata": {},
     "output_type": "execute_result"
    }
   ],
   "source": [
    "((y_torch - (2.5 * x_torch)) ** 2).mean().data.numpy()"
   ]
  },
  {
   "cell_type": "code",
   "execution_count": 6,
   "metadata": {},
   "outputs": [
    {
     "name": "stderr",
     "output_type": "stream",
     "text": [
      "480 -> 0.9850990772247314:  19%|█▉        | 476/2500 [00:01<00:05, 381.29it/s]"
     ]
    },
    {
     "name": "stdout",
     "output_type": "stream",
     "text": [
      "[[2.2046196]]\n",
      "[-0.10411867]\n"
     ]
    }
   ],
   "source": [
    "model = Model()\n",
    "loss_func = nn.MSELoss()\n",
    "learning_rate = 1e-2\n",
    "tolerance = 1e-8\n",
    "optimiser = torch.optim.Adam(model.parameters(), lr=learning_rate)\n",
    "mse_last = 1e6\n",
    "\n",
    "train_loop = tqdm(range(2500))\n",
    "for i in train_loop:\n",
    "    i+=1\n",
    "    y_hat = model(x_torch)\n",
    "    \n",
    "    # Compute fit\n",
    "    mse_i = loss_func(y_hat, y_torch)\n",
    "    train_loop.set_description(f'{i} -> {mse_i.data[0]}')    \n",
    "    \n",
    "    # Early termination condition\n",
    "    if ((mse_last - mse_i) < tolerance).data.numpy():\n",
    "        break\n",
    "    mse_last = mse_i.data[0]\n",
    "    \n",
    "    # Zero the gradients before computing backprop\n",
    "    optimiser.zero_grad()\n",
    "    mse_i.backward()\n",
    "    \n",
    "    # NOTE: You can update the weights anyway you want!\n",
    "    # Example here http://pytorch.org/tutorials/beginner/pytorch_with_examples.html#pytorch-nn \n",
    "    # For now I'm just going to use Adam\n",
    "    optimiser.step()\n",
    "\n",
    "_ = [print(w.data.numpy()) for w in model.parameters()]"
   ]
  },
  {
   "cell_type": "code",
   "execution_count": 7,
   "metadata": {},
   "outputs": [
    {
     "data": {
      "image/png": "[encoded data removed]",
      "text/plain": [
       "<matplotlib.figure.Figure at 0x7f46a16cbdd8>"
      ]
     },
     "metadata": {},
     "output_type": "display_data"
    }
   ],
   "source": [
    "graph.plot(x_torch.data.numpy(), y_torch.data.numpy(), '.')\n",
    "graph.plot(x_torch.data.numpy(), model(x_torch).data.numpy())\n",
    "graph.show()"
   ]
  }
 ],
 "metadata": {
  "kernelspec": {
   "display_name": "Python 3",
   "language": "python",
   "name": "python3"
  },
  "language_info": {
   "codemirror_mode": {
    "name": "ipython",
    "version": 3
   },
   "file_extension": ".py",
   "mimetype": "text/x-python",
   "name": "python",
   "nbconvert_exporter": "python",
   "pygments_lexer": "ipython3",
   "version": "3.6.4"
  }
 },
 "nbformat": 4,
 "nbformat_minor": 2
}
