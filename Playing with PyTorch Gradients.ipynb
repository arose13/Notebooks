{
  "cells": [
    {
      "cell_type": "markdown",
      "metadata": {
        "id": "H25XmZfr9lGW"
      },
      "source": [
        "# Playing with PyTorch Gradients\n",
        "\n",
        "**GPU**\n",
        "- N = 1,000 & p = 1,000,000 || Runtime = 15s\n",
        "\n",
        "**CPU**\n",
        "- N = 1,000 & p = 1,000,000 || Runtime = 5m29"
      ]
    },
    {
      "cell_type": "code",
      "execution_count": 1,
      "metadata": {
        "colab": {
          "base_uri": "https://localhost:8080/"
        },
        "id": "GNHav_Qk6EaS",
        "outputId": "0a19916e-d3da-40dd-98c6-4d367c78be48"
      },
      "outputs": [
        {
          "name": "stdout",
          "output_type": "stream",
          "text": [
            "Device is cpu\n"
          ]
        }
      ],
      "source": [
        "import torch\n",
        "import torch.nn as nn\n",
        "from sklearn.model_selection import train_test_split\n",
        "from tqdm.auto import trange\n",
        "\n",
        "import matplotlib.pyplot as graph\n",
        "graph.style.use('fivethirtyeight')\n",
        "torch.manual_seed(42)\n",
        "device = torch.device(\"cuda\" if torch.cuda.is_available() else \"cpu\")\n",
        "# device = \"cpu\"\n",
        "if device == \"cuda\":\n",
        "    torch.set_default_dtype(torch.float16)  # halfs our memory usage\n",
        "print(f'Device is {device}')"
      ]
    },
    {
      "cell_type": "code",
      "execution_count": 2,
      "metadata": {
        "colab": {
          "base_uri": "https://localhost:8080/"
        },
        "id": "UeHujTjG6dOH",
        "outputId": "ae7e3103-9519-4d60-e210-6e29779cd9a6"
      },
      "outputs": [
        {
          "name": "stdout",
          "output_type": "stream",
          "text": [
            "tensor([ 2., -2.,  2.,  ...,  0.,  0.,  0.])\n",
            "torch.Size([1000, 1000000]) torch.Size([1000])\n",
            "torch.Size([900, 1000000]) torch.Size([900])\n",
            "torch.Size([100, 1000000]) torch.Size([100])\n"
          ]
        }
      ],
      "source": [
        "# Toy data\n",
        "n, p = int(1e3), int(1e6)\n",
        "\n",
        "true_beta = torch.zeros(p)\n",
        "true_beta[:4] = torch.tensor([2.0, -2.0, 2.0, 3.0])\n",
        "print(true_beta)\n",
        "\n",
        "x = torch.randn(n, p)\n",
        "y = x @ true_beta + 2.5 * torch.randn(n)\n",
        "\n",
        "x_train, x_test, y_train, y_test = train_test_split(x, y, test_size=0.1, random_state=42)\n",
        "\n",
        "print(x.shape, y.shape)\n",
        "print(x_train.shape, y_train.shape)\n",
        "print(x_test.shape, y_test.shape)"
      ]
    },
    {
      "cell_type": "code",
      "execution_count": 3,
      "metadata": {
        "colab": {
          "base_uri": "https://localhost:8080/",
          "height": 562,
          "referenced_widgets": [
            "b5ad4d32225a4ba4ae76b9f9e85846e1",
            "2c087e2b4de74ca9ba148df8a5f2f6b1",
            "fdd5671901c44fc29cdb963900925941",
            "907ec56466f14ab687163210c0ec1080",
            "699cb1634e5146ee8fad2e1ffb8bbce7",
            "ce6f804ab7974254b28297a1a067b7ad",
            "c4992de43c6d40f8a0c24a0fd74f783e",
            "0acf00792178482f95573a99653b24c7",
            "fa51ff929b0d4d03ad039d7e6d32d2d5",
            "c9aea12b459a432b81198c2a3a89f21f",
            "1862ea7ac751498095cd69f2e08d8f4a"
          ]
        },
        "id": "sUSYN31e6fUL",
        "outputId": "85b8d0f7-912d-4bb2-81b7-a37f54a4eebb"
      },
      "outputs": [
        {
          "data": {
            "application/vnd.jupyter.widget-view+json": {
              "model_id": "b5ad4d32225a4ba4ae76b9f9e85846e1",
              "version_major": 2,
              "version_minor": 0
            },
            "text/plain": [
              "  0%|          | 0/1000 [00:00<?, ?it/s]"
            ]
          },
          "metadata": {},
          "output_type": "display_data"
        },
        {
          "name": "stdout",
          "output_type": "stream",
          "text": [
            "Parameter containing:\n",
            "tensor([ 1.6620, -1.7095,  1.7882,  ...,  0.0000,  0.0000,  0.0000],\n",
            "       requires_grad=True)\n"
          ]
        },
        {
          "data": {
            "image/png": "[encoded data removed]",
            "text/plain": [
              "<Figure size 640x480 with 1 Axes>"
            ]
          },
          "metadata": {},
          "output_type": "display_data"
        }
      ],
      "source": [
        "class Lasso(nn.Module):\n",
        "    def __init__(self, p, lam=0.1, eps=1e-3):\n",
        "        super().__init__()\n",
        "        self.m = nn.Parameter(torch.zeros(p))\n",
        "        self.b = nn.Parameter(torch.zeros(1))\n",
        "        self.lam = lam\n",
        "        self.eps = eps\n",
        "\n",
        "        self.hist = []\n",
        "\n",
        "    def forward(self, x):\n",
        "        return x @ self.m + self.b\n",
        "\n",
        "    def calc_loss(self, y_pred, y_true):\n",
        "        # MSE + lam*||m||_1\n",
        "        return torch.mean((y_pred - y_true) ** 2) + self.lam * torch.sum(torch.abs(self.m))\n",
        "\n",
        "    def fit(self, x, y, epochs=1000, lr=0.1):\n",
        "        self.hist = []\n",
        "        self.b = nn.Parameter(torch.mean(y))\n",
        "\n",
        "        iterator = trange(epochs)\n",
        "        for _ in iterator:\n",
        "            # Zero gradients\n",
        "            self.zero_grad()\n",
        "\n",
        "            # Forward pass\n",
        "            y_hat = self.forward(x)\n",
        "\n",
        "            # Backward pass\n",
        "            loss = self.calc_loss(y_hat, y)\n",
        "            iterator.set_description(f\"Loss: {loss.item():.4f}\")\n",
        "\n",
        "            if len(self.hist) > 0 and abs(self.hist[-1] - loss.item()) < self.eps:\n",
        "                break\n",
        "\n",
        "            loss.backward()\n",
        "            with torch.no_grad():\n",
        "                m_grad_argmax = torch.argmax(torch.abs(self.m.grad))\n",
        "                m_max_grad = self.m.grad[m_grad_argmax]\n",
        "                m_new = torch.zeros_like(self.m.grad)\n",
        "                m_new[m_grad_argmax] = m_max_grad\n",
        "                m_new *= -lr\n",
        "\n",
        "                # Update parameters\n",
        "                self.m += m_new\n",
        "                self.hist.append(loss.item())\n",
        "\n",
        "        # Polishing step\n",
        "        with torch.no_grad():\n",
        "            self.m[torch.abs(self.m) < self.lam] = 0.0\n",
        "\n",
        "model = Lasso(p).to(device)\n",
        "model.fit(x_train.to(device), y_train.to(device))\n",
        "print(model.m)\n",
        "\n",
        "graph.plot(model.hist)\n",
        "graph.xlabel(\"Epochs\")\n",
        "graph.ylabel(\"Loss\")\n",
        "graph.show()"
      ]
    },
    {
      "cell_type": "code",
      "execution_count": 4,
      "metadata": {
        "colab": {
          "base_uri": "https://localhost:8080/",
          "height": 478
        },
        "id": "2GT-xahL6uH4",
        "outputId": "d92e3700-ea94-4f84-d377-abe892ab918d"
      },
      "outputs": [
        {
          "data": {
            "image/png": "[encoded data removed]",
            "text/plain": [
              "<Figure size 640x480 with 1 Axes>"
            ]
          },
          "metadata": {},
          "output_type": "display_data"
        }
      ],
      "source": [
        "graph.plot(true_beta[:10], '*', linewidth=2, label='True Coef')\n",
        "graph.plot(model.m[:10].detach().cpu(), 'x', linewidth=2, label='Estimated Coef')\n",
        "graph.ylabel('Coef')\n",
        "graph.xlabel('j')\n",
        "graph.legend()\n",
        "graph.xlim([-1, 10])\n",
        "graph.show()"
      ]
    }
  ],
  "metadata": {
    "colab": {
      "provenance": []
    },
    "kernelspec": {
      "display_name": "Python 3",
      "name": "python3"
    },
    "language_info": {
      "name": "python"
    },
    "widgets": {
      "application/vnd.jupyter.widget-state+json": {
        "0acf00792178482f95573a99653b24c7": {
          "model_module": "@jupyter-widgets/base",
          "model_module_version": "1.2.0",
          "model_name": "LayoutModel",
          "state": {
            "_model_module": "@jupyter-widgets/base",
            "_model_module_version": "1.2.0",
            "_model_name": "LayoutModel",
            "_view_count": null,
            "_view_module": "@jupyter-widgets/base",
            "_view_module_version": "1.2.0",
            "_view_name": "LayoutView",
            "align_content": null,
            "align_items": null,
            "align_self": null,
            "border": null,
            "bottom": null,
            "display": null,
            "flex": null,
            "flex_flow": null,
            "grid_area": null,
            "grid_auto_columns": null,
            "grid_auto_flow": null,
            "grid_auto_rows": null,
            "grid_column": null,
            "grid_gap": null,
            "grid_row": null,
            "grid_template_areas": null,
            "grid_template_columns": null,
            "grid_template_rows": null,
            "height": null,
            "justify_content": null,
            "justify_items": null,
            "left": null,
            "margin": null,
            "max_height": null,
            "max_width": null,
            "min_height": null,
            "min_width": null,
            "object_fit": null,
            "object_position": null,
            "order": null,
            "overflow": null,
            "overflow_x": null,
            "overflow_y": null,
            "padding": null,
            "right": null,
            "top": null,
            "visibility": null,
            "width": null
          }
        },
        "1862ea7ac751498095cd69f2e08d8f4a": {
          "model_module": "@jupyter-widgets/controls",
          "model_module_version": "1.5.0",
          "model_name": "DescriptionStyleModel",
          "state": {
            "_model_module": "@jupyter-widgets/controls",
            "_model_module_version": "1.5.0",
            "_model_name": "DescriptionStyleModel",
            "_view_count": null,
            "_view_module": "@jupyter-widgets/base",
            "_view_module_version": "1.2.0",
            "_view_name": "StyleView",
            "description_width": ""
          }
        },
        "2c087e2b4de74ca9ba148df8a5f2f6b1": {
          "model_module": "@jupyter-widgets/controls",
          "model_module_version": "1.5.0",
          "model_name": "HTMLModel",
          "state": {
            "_dom_classes": [],
            "_model_module": "@jupyter-widgets/controls",
            "_model_module_version": "1.5.0",
            "_model_name": "HTMLModel",
            "_view_count": null,
            "_view_module": "@jupyter-widgets/controls",
            "_view_module_version": "1.5.0",
            "_view_name": "HTMLView",
            "description": "",
            "description_tooltip": null,
            "layout": "IPY_MODEL_ce6f804ab7974254b28297a1a067b7ad",
            "placeholder": "​",
            "style": "IPY_MODEL_c4992de43c6d40f8a0c24a0fd74f783e",
            "value": "Loss: 2.8774:  46%"
          }
        },
        "699cb1634e5146ee8fad2e1ffb8bbce7": {
          "model_module": "@jupyter-widgets/base",
          "model_module_version": "1.2.0",
          "model_name": "LayoutModel",
          "state": {
            "_model_module": "@jupyter-widgets/base",
            "_model_module_version": "1.2.0",
            "_model_name": "LayoutModel",
            "_view_count": null,
            "_view_module": "@jupyter-widgets/base",
            "_view_module_version": "1.2.0",
            "_view_name": "LayoutView",
            "align_content": null,
            "align_items": null,
            "align_self": null,
            "border": null,
            "bottom": null,
            "display": null,
            "flex": null,
            "flex_flow": null,
            "grid_area": null,
            "grid_auto_columns": null,
            "grid_auto_flow": null,
            "grid_auto_rows": null,
            "grid_column": null,
            "grid_gap": null,
            "grid_row": null,
            "grid_template_areas": null,
            "grid_template_columns": null,
            "grid_template_rows": null,
            "height": null,
            "justify_content": null,
            "justify_items": null,
            "left": null,
            "margin": null,
            "max_height": null,
            "max_width": null,
            "min_height": null,
            "min_width": null,
            "object_fit": null,
            "object_position": null,
            "order": null,
            "overflow": null,
            "overflow_x": null,
            "overflow_y": null,
            "padding": null,
            "right": null,
            "top": null,
            "visibility": null,
            "width": null
          }
        },
        "907ec56466f14ab687163210c0ec1080": {
          "model_module": "@jupyter-widgets/controls",
          "model_module_version": "1.5.0",
          "model_name": "HTMLModel",
          "state": {
            "_dom_classes": [],
            "_model_module": "@jupyter-widgets/controls",
            "_model_module_version": "1.5.0",
            "_model_name": "HTMLModel",
            "_view_count": null,
            "_view_module": "@jupyter-widgets/controls",
            "_view_module_version": "1.5.0",
            "_view_name": "HTMLView",
            "description": "",
            "description_tooltip": null,
            "layout": "IPY_MODEL_c9aea12b459a432b81198c2a3a89f21f",
            "placeholder": "​",
            "style": "IPY_MODEL_1862ea7ac751498095cd69f2e08d8f4a",
            "value": " 459/1000 [05:21&lt;06:10,  1.46it/s]"
          }
        },
        "b5ad4d32225a4ba4ae76b9f9e85846e1": {
          "model_module": "@jupyter-widgets/controls",
          "model_module_version": "1.5.0",
          "model_name": "HBoxModel",
          "state": {
            "_dom_classes": [],
            "_model_module": "@jupyter-widgets/controls",
            "_model_module_version": "1.5.0",
            "_model_name": "HBoxModel",
            "_view_count": null,
            "_view_module": "@jupyter-widgets/controls",
            "_view_module_version": "1.5.0",
            "_view_name": "HBoxView",
            "box_style": "",
            "children": [
              "IPY_MODEL_2c087e2b4de74ca9ba148df8a5f2f6b1",
              "IPY_MODEL_fdd5671901c44fc29cdb963900925941",
              "IPY_MODEL_907ec56466f14ab687163210c0ec1080"
            ],
            "layout": "IPY_MODEL_699cb1634e5146ee8fad2e1ffb8bbce7"
          }
        },
        "c4992de43c6d40f8a0c24a0fd74f783e": {
          "model_module": "@jupyter-widgets/controls",
          "model_module_version": "1.5.0",
          "model_name": "DescriptionStyleModel",
          "state": {
            "_model_module": "@jupyter-widgets/controls",
            "_model_module_version": "1.5.0",
            "_model_name": "DescriptionStyleModel",
            "_view_count": null,
            "_view_module": "@jupyter-widgets/base",
            "_view_module_version": "1.2.0",
            "_view_name": "StyleView",
            "description_width": ""
          }
        },
        "c9aea12b459a432b81198c2a3a89f21f": {
          "model_module": "@jupyter-widgets/base",
          "model_module_version": "1.2.0",
          "model_name": "LayoutModel",
          "state": {
            "_model_module": "@jupyter-widgets/base",
            "_model_module_version": "1.2.0",
            "_model_name": "LayoutModel",
            "_view_count": null,
            "_view_module": "@jupyter-widgets/base",
            "_view_module_version": "1.2.0",
            "_view_name": "LayoutView",
            "align_content": null,
            "align_items": null,
            "align_self": null,
            "border": null,
            "bottom": null,
            "display": null,
            "flex": null,
            "flex_flow": null,
            "grid_area": null,
            "grid_auto_columns": null,
            "grid_auto_flow": null,
            "grid_auto_rows": null,
            "grid_column": null,
            "grid_gap": null,
            "grid_row": null,
            "grid_template_areas": null,
            "grid_template_columns": null,
            "grid_template_rows": null,
            "height": null,
            "justify_content": null,
            "justify_items": null,
            "left": null,
            "margin": null,
            "max_height": null,
            "max_width": null,
            "min_height": null,
            "min_width": null,
            "object_fit": null,
            "object_position": null,
            "order": null,
            "overflow": null,
            "overflow_x": null,
            "overflow_y": null,
            "padding": null,
            "right": null,
            "top": null,
            "visibility": null,
            "width": null
          }
        },
        "ce6f804ab7974254b28297a1a067b7ad": {
          "model_module": "@jupyter-widgets/base",
          "model_module_version": "1.2.0",
          "model_name": "LayoutModel",
          "state": {
            "_model_module": "@jupyter-widgets/base",
            "_model_module_version": "1.2.0",
            "_model_name": "LayoutModel",
            "_view_count": null,
            "_view_module": "@jupyter-widgets/base",
            "_view_module_version": "1.2.0",
            "_view_name": "LayoutView",
            "align_content": null,
            "align_items": null,
            "align_self": null,
            "border": null,
            "bottom": null,
            "display": null,
            "flex": null,
            "flex_flow": null,
            "grid_area": null,
            "grid_auto_columns": null,
            "grid_auto_flow": null,
            "grid_auto_rows": null,
            "grid_column": null,
            "grid_gap": null,
            "grid_row": null,
            "grid_template_areas": null,
            "grid_template_columns": null,
            "grid_template_rows": null,
            "height": null,
            "justify_content": null,
            "justify_items": null,
            "left": null,
            "margin": null,
            "max_height": null,
            "max_width": null,
            "min_height": null,
            "min_width": null,
            "object_fit": null,
            "object_position": null,
            "order": null,
            "overflow": null,
            "overflow_x": null,
            "overflow_y": null,
            "padding": null,
            "right": null,
            "top": null,
            "visibility": null,
            "width": null
          }
        },
        "fa51ff929b0d4d03ad039d7e6d32d2d5": {
          "model_module": "@jupyter-widgets/controls",
          "model_module_version": "1.5.0",
          "model_name": "ProgressStyleModel",
          "state": {
            "_model_module": "@jupyter-widgets/controls",
            "_model_module_version": "1.5.0",
            "_model_name": "ProgressStyleModel",
            "_view_count": null,
            "_view_module": "@jupyter-widgets/base",
            "_view_module_version": "1.2.0",
            "_view_name": "StyleView",
            "bar_color": null,
            "description_width": ""
          }
        },
        "fdd5671901c44fc29cdb963900925941": {
          "model_module": "@jupyter-widgets/controls",
          "model_module_version": "1.5.0",
          "model_name": "FloatProgressModel",
          "state": {
            "_dom_classes": [],
            "_model_module": "@jupyter-widgets/controls",
            "_model_module_version": "1.5.0",
            "_model_name": "FloatProgressModel",
            "_view_count": null,
            "_view_module": "@jupyter-widgets/controls",
            "_view_module_version": "1.5.0",
            "_view_name": "ProgressView",
            "bar_style": "danger",
            "description": "",
            "description_tooltip": null,
            "layout": "IPY_MODEL_0acf00792178482f95573a99653b24c7",
            "max": 1000,
            "min": 0,
            "orientation": "horizontal",
            "style": "IPY_MODEL_fa51ff929b0d4d03ad039d7e6d32d2d5",
            "value": 459
          }
        }
      }
    }
  },
  "nbformat": 4,
  "nbformat_minor": 0
}
