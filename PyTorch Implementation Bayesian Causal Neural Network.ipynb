{
  "nbformat": 4,
  "nbformat_minor": 0,
  "metadata": {
    "colab": {
      "provenance": []
    },
    "kernelspec": {
      "name": "python3",
      "display_name": "Python 3"
    },
    "language_info": {
      "name": "python"
    },
    "widgets": {
      "application/vnd.jupyter.widget-state+json": {
        "fdacdfe06a8842dba810d30f8d066b75": {
          "model_module": "@jupyter-widgets/controls",
          "model_name": "HBoxModel",
          "model_module_version": "1.5.0",
          "state": {
            "_dom_classes": [],
            "_model_module": "@jupyter-widgets/controls",
            "_model_module_version": "1.5.0",
            "_model_name": "HBoxModel",
            "_view_count": null,
            "_view_module": "@jupyter-widgets/controls",
            "_view_module_version": "1.5.0",
            "_view_name": "HBoxView",
            "box_style": "",
            "children": [
              "IPY_MODEL_ecf6cd47d4f64fc1bb9164e9243cd88e",
              "IPY_MODEL_aaea19e00d864801bd61117fb0080c23",
              "IPY_MODEL_60a351776c214e9cab77584acb43d743"
            ],
            "layout": "IPY_MODEL_1e4f8bd169d4483ebee8896cf463f329"
          }
        },
        "ecf6cd47d4f64fc1bb9164e9243cd88e": {
          "model_module": "@jupyter-widgets/controls",
          "model_name": "HTMLModel",
          "model_module_version": "1.5.0",
          "state": {
            "_dom_classes": [],
            "_model_module": "@jupyter-widgets/controls",
            "_model_module_version": "1.5.0",
            "_model_name": "HTMLModel",
            "_view_count": null,
            "_view_module": "@jupyter-widgets/controls",
            "_view_module_version": "1.5.0",
            "_view_name": "HTMLView",
            "description": "",
            "description_tooltip": null,
            "layout": "IPY_MODEL_34a89bf460e144b19fde72ba38dfca21",
            "placeholder": "​",
            "style": "IPY_MODEL_50547621f9914a4699441743ce51d863",
            "value": "i: 4,202 | loss: 2.17761588 | CATE: 0.542:  42%"
          }
        },
        "aaea19e00d864801bd61117fb0080c23": {
          "model_module": "@jupyter-widgets/controls",
          "model_name": "FloatProgressModel",
          "model_module_version": "1.5.0",
          "state": {
            "_dom_classes": [],
            "_model_module": "@jupyter-widgets/controls",
            "_model_module_version": "1.5.0",
            "_model_name": "FloatProgressModel",
            "_view_count": null,
            "_view_module": "@jupyter-widgets/controls",
            "_view_module_version": "1.5.0",
            "_view_name": "ProgressView",
            "bar_style": "danger",
            "description": "",
            "description_tooltip": null,
            "layout": "IPY_MODEL_23838dbb44f049c1ad1a3935880abf83",
            "max": 10000,
            "min": 0,
            "orientation": "horizontal",
            "style": "IPY_MODEL_a0a776b14bcc4fd3b077a64117663c54",
            "value": 4202
          }
        },
        "60a351776c214e9cab77584acb43d743": {
          "model_module": "@jupyter-widgets/controls",
          "model_name": "HTMLModel",
          "model_module_version": "1.5.0",
          "state": {
            "_dom_classes": [],
            "_model_module": "@jupyter-widgets/controls",
            "_model_module_version": "1.5.0",
            "_model_name": "HTMLModel",
            "_view_count": null,
            "_view_module": "@jupyter-widgets/controls",
            "_view_module_version": "1.5.0",
            "_view_name": "HTMLView",
            "description": "",
            "description_tooltip": null,
            "layout": "IPY_MODEL_c9b1e578d407470bb8bf5fb3e4bc373b",
            "placeholder": "​",
            "style": "IPY_MODEL_fb70a475d78d43db91025664d660227c",
            "value": " 4202/10000 [04:29&lt;05:29, 17.57it/s]"
          }
        },
        "1e4f8bd169d4483ebee8896cf463f329": {
          "model_module": "@jupyter-widgets/base",
          "model_name": "LayoutModel",
          "model_module_version": "1.2.0",
          "state": {
            "_model_module": "@jupyter-widgets/base",
            "_model_module_version": "1.2.0",
            "_model_name": "LayoutModel",
            "_view_count": null,
            "_view_module": "@jupyter-widgets/base",
            "_view_module_version": "1.2.0",
            "_view_name": "LayoutView",
            "align_content": null,
            "align_items": null,
            "align_self": null,
            "border": null,
            "bottom": null,
            "display": null,
            "flex": null,
            "flex_flow": null,
            "grid_area": null,
            "grid_auto_columns": null,
            "grid_auto_flow": null,
            "grid_auto_rows": null,
            "grid_column": null,
            "grid_gap": null,
            "grid_row": null,
            "grid_template_areas": null,
            "grid_template_columns": null,
            "grid_template_rows": null,
            "height": null,
            "justify_content": null,
            "justify_items": null,
            "left": null,
            "margin": null,
            "max_height": null,
            "max_width": null,
            "min_height": null,
            "min_width": null,
            "object_fit": null,
            "object_position": null,
            "order": null,
            "overflow": null,
            "overflow_x": null,
            "overflow_y": null,
            "padding": null,
            "right": null,
            "top": null,
            "visibility": null,
            "width": null
          }
        },
        "34a89bf460e144b19fde72ba38dfca21": {
          "model_module": "@jupyter-widgets/base",
          "model_name": "LayoutModel",
          "model_module_version": "1.2.0",
          "state": {
            "_model_module": "@jupyter-widgets/base",
            "_model_module_version": "1.2.0",
            "_model_name": "LayoutModel",
            "_view_count": null,
            "_view_module": "@jupyter-widgets/base",
            "_view_module_version": "1.2.0",
            "_view_name": "LayoutView",
            "align_content": null,
            "align_items": null,
            "align_self": null,
            "border": null,
            "bottom": null,
            "display": null,
            "flex": null,
            "flex_flow": null,
            "grid_area": null,
            "grid_auto_columns": null,
            "grid_auto_flow": null,
            "grid_auto_rows": null,
            "grid_column": null,
            "grid_gap": null,
            "grid_row": null,
            "grid_template_areas": null,
            "grid_template_columns": null,
            "grid_template_rows": null,
            "height": null,
            "justify_content": null,
            "justify_items": null,
            "left": null,
            "margin": null,
            "max_height": null,
            "max_width": null,
            "min_height": null,
            "min_width": null,
            "object_fit": null,
            "object_position": null,
            "order": null,
            "overflow": null,
            "overflow_x": null,
            "overflow_y": null,
            "padding": null,
            "right": null,
            "top": null,
            "visibility": null,
            "width": null
          }
        },
        "50547621f9914a4699441743ce51d863": {
          "model_module": "@jupyter-widgets/controls",
          "model_name": "DescriptionStyleModel",
          "model_module_version": "1.5.0",
          "state": {
            "_model_module": "@jupyter-widgets/controls",
            "_model_module_version": "1.5.0",
            "_model_name": "DescriptionStyleModel",
            "_view_count": null,
            "_view_module": "@jupyter-widgets/base",
            "_view_module_version": "1.2.0",
            "_view_name": "StyleView",
            "description_width": ""
          }
        },
        "23838dbb44f049c1ad1a3935880abf83": {
          "model_module": "@jupyter-widgets/base",
          "model_name": "LayoutModel",
          "model_module_version": "1.2.0",
          "state": {
            "_model_module": "@jupyter-widgets/base",
            "_model_module_version": "1.2.0",
            "_model_name": "LayoutModel",
            "_view_count": null,
            "_view_module": "@jupyter-widgets/base",
            "_view_module_version": "1.2.0",
            "_view_name": "LayoutView",
            "align_content": null,
            "align_items": null,
            "align_self": null,
            "border": null,
            "bottom": null,
            "display": null,
            "flex": null,
            "flex_flow": null,
            "grid_area": null,
            "grid_auto_columns": null,
            "grid_auto_flow": null,
            "grid_auto_rows": null,
            "grid_column": null,
            "grid_gap": null,
            "grid_row": null,
            "grid_template_areas": null,
            "grid_template_columns": null,
            "grid_template_rows": null,
            "height": null,
            "justify_content": null,
            "justify_items": null,
            "left": null,
            "margin": null,
            "max_height": null,
            "max_width": null,
            "min_height": null,
            "min_width": null,
            "object_fit": null,
            "object_position": null,
            "order": null,
            "overflow": null,
            "overflow_x": null,
            "overflow_y": null,
            "padding": null,
            "right": null,
            "top": null,
            "visibility": null,
            "width": null
          }
        },
        "a0a776b14bcc4fd3b077a64117663c54": {
          "model_module": "@jupyter-widgets/controls",
          "model_name": "ProgressStyleModel",
          "model_module_version": "1.5.0",
          "state": {
            "_model_module": "@jupyter-widgets/controls",
            "_model_module_version": "1.5.0",
            "_model_name": "ProgressStyleModel",
            "_view_count": null,
            "_view_module": "@jupyter-widgets/base",
            "_view_module_version": "1.2.0",
            "_view_name": "StyleView",
            "bar_color": null,
            "description_width": ""
          }
        },
        "c9b1e578d407470bb8bf5fb3e4bc373b": {
          "model_module": "@jupyter-widgets/base",
          "model_name": "LayoutModel",
          "model_module_version": "1.2.0",
          "state": {
            "_model_module": "@jupyter-widgets/base",
            "_model_module_version": "1.2.0",
            "_model_name": "LayoutModel",
            "_view_count": null,
            "_view_module": "@jupyter-widgets/base",
            "_view_module_version": "1.2.0",
            "_view_name": "LayoutView",
            "align_content": null,
            "align_items": null,
            "align_self": null,
            "border": null,
            "bottom": null,
            "display": null,
            "flex": null,
            "flex_flow": null,
            "grid_area": null,
            "grid_auto_columns": null,
            "grid_auto_flow": null,
            "grid_auto_rows": null,
            "grid_column": null,
            "grid_gap": null,
            "grid_row": null,
            "grid_template_areas": null,
            "grid_template_columns": null,
            "grid_template_rows": null,
            "height": null,
            "justify_content": null,
            "justify_items": null,
            "left": null,
            "margin": null,
            "max_height": null,
            "max_width": null,
            "min_height": null,
            "min_width": null,
            "object_fit": null,
            "object_position": null,
            "order": null,
            "overflow": null,
            "overflow_x": null,
            "overflow_y": null,
            "padding": null,
            "right": null,
            "top": null,
            "visibility": null,
            "width": null
          }
        },
        "fb70a475d78d43db91025664d660227c": {
          "model_module": "@jupyter-widgets/controls",
          "model_name": "DescriptionStyleModel",
          "model_module_version": "1.5.0",
          "state": {
            "_model_module": "@jupyter-widgets/controls",
            "_model_module_version": "1.5.0",
            "_model_name": "DescriptionStyleModel",
            "_view_count": null,
            "_view_module": "@jupyter-widgets/base",
            "_view_module_version": "1.2.0",
            "_view_name": "StyleView",
            "description_width": ""
          }
        }
      }
    }
  },
  "cells": [
    {
      "cell_type": "markdown",
      "source": [
        "# Computing the Conditional Average Treatment Effect (CATE) with Bayesian Neural Networks"
      ],
      "metadata": {
        "id": "9h9_l9faEweK"
      }
    },
    {
      "cell_type": "code",
      "source": [
        "%%bash\n",
        "pip install torchview\n",
        "pip install git+https://github.com/arose13/ConcreteDropout.git"
      ],
      "metadata": {
        "colab": {
          "base_uri": "https://localhost:8080/"
        },
        "id": "UZqeqm2OHukH",
        "outputId": "3311a5b8-27a5-4cef-a1c4-f57b3673b040"
      },
      "execution_count": 1,
      "outputs": [
        {
          "output_type": "stream",
          "name": "stdout",
          "text": [
            "Requirement already satisfied: torchview in /usr/local/lib/python3.10/dist-packages (0.2.6)\n",
            "Collecting git+https://github.com/arose13/ConcreteDropout.git\n",
            "  Cloning https://github.com/arose13/ConcreteDropout.git to /tmp/pip-req-build-fmhx96su\n",
            "  Resolved https://github.com/arose13/ConcreteDropout.git to commit 935f59d68bfae2d760186c0eca313d35cb6a6a82\n",
            "  Preparing metadata (setup.py): started\n",
            "  Preparing metadata (setup.py): finished with status 'done'\n"
          ]
        },
        {
          "output_type": "stream",
          "name": "stderr",
          "text": [
            "  Running command git clone --filter=blob:none --quiet https://github.com/arose13/ConcreteDropout.git /tmp/pip-req-build-fmhx96su\n"
          ]
        }
      ]
    },
    {
      "cell_type": "code",
      "execution_count": 2,
      "metadata": {
        "id": "8F09549GEiMy"
      },
      "outputs": [],
      "source": [
        "import torch\n",
        "import torch.nn as nn\n",
        "import torch.nn.functional as F\n",
        "import numpy as np\n",
        "import seaborn as sns\n",
        "import matplotlib.pyplot as graph\n",
        "from scipy import stats\n",
        "from scipy.special import expit\n",
        "from sklearn.datasets import make_circles, make_moons\n",
        "from sklearn.model_selection import train_test_split\n",
        "from sklearn.metrics import accuracy_score\n",
        "from tqdm.auto import tqdm, trange\n",
        "from condrop import ConcreteDropout, concrete_regulariser\n",
        "from torchview import draw_graph\n",
        "from IPython.display import Markdown\n",
        "graph.style.use('fivethirtyeight')\n",
        "graph.rcParams['lines.linewidth'] = 1"
      ]
    },
    {
      "cell_type": "code",
      "source": [
        "# Setup quick fake data\n",
        "n, p = int(1e4), 20\n",
        "treatment_effect = 0.5\n",
        "\n",
        "m = stats.norm().rvs(p)\n",
        "x = stats.norm().rvs((n, p))\n",
        "# treatment_labels = stats.bernoulli(0.2).rvs(n)  # Random assignment (Unconfounded)\n",
        "treatment_labels = expit((x[:, :5] @ m[:5]) + 2*stats.norm().rvs(n)).round()  # Conditional assignment (Confounding)\n",
        "\n",
        "y = x@m + treatment_effect*treatment_labels + stats.norm().rvs(n)\n",
        "\n",
        "print(x.shape, y.shape, treatment_labels.shape)"
      ],
      "metadata": {
        "colab": {
          "base_uri": "https://localhost:8080/"
        },
        "id": "d0fHNoSiFzmu",
        "outputId": "1d52da51-841f-4740-b3cb-4fca171ec9fb"
      },
      "execution_count": 3,
      "outputs": [
        {
          "output_type": "stream",
          "name": "stdout",
          "text": [
            "(10000, 20) (10000,) (10000,)\n"
          ]
        }
      ]
    },
    {
      "cell_type": "code",
      "source": [
        "# Naive Estimate\n",
        "sns.histplot(y[treatment_labels.astype(bool)], label='Treatment')\n",
        "sns.histplot(y[~treatment_labels.astype(bool)], label='Control')\n",
        "graph.legend()\n",
        "graph.show()\n",
        "\n",
        "control_mean = y[~treatment_labels.astype(bool)].mean()\n",
        "treatment_mean = y[treatment_labels.astype(bool)].mean()\n",
        "naive_causal_estimate = treatment_mean - control_mean\n",
        "\n",
        "print(f'True Treatment Effect = {treatment_effect}')\n",
        "print(f'Naive Estimate of the Treatment Effect = {naive_causal_estimate:2f}')"
      ],
      "metadata": {
        "colab": {
          "base_uri": "https://localhost:8080/",
          "height": 484
        },
        "id": "TsydFGiRF9o-",
        "outputId": "972d8f6f-ce6c-45be-f0b6-77e71c9391a8"
      },
      "execution_count": 4,
      "outputs": [
        {
          "output_type": "display_data",
          "data": {
            "text/plain": [
              "<Figure size 640x480 with 1 Axes>"
            ],
            "image/png": "[encoded data removed]"
          },
          "metadata": {}
        },
        {
          "output_type": "stream",
          "name": "stdout",
          "text": [
            "True Treatment Effect = 0.5\n",
            "Naive Estimate of the Treatment Effect = 3.316012\n"
          ]
        }
      ]
    },
    {
      "cell_type": "markdown",
      "source": [
        "$$CATE = {1 \\over N} \\sum [ f_{treatment}(x) - f_{control}(x) ] $$\n",
        "\n",
        "$$J(\\theta) = {1 \\over N} \\sum [ (f_{t_i}(x_i) - y_i)^2 + \\mathcal{H}_{cross}(g(x_i), t_i) ] $$\n",
        "\n",
        "By optimising $J(\\theta)$ we are sure that we are optimising the CATE directly. This is both the model _must_ learn a covariate set in $Z$ that contains the information for estimating the propensity score. This should be _equivalent_ to adjusting for the propensity score."
      ],
      "metadata": {
        "id": "uPc5PYlhFZhk"
      }
    },
    {
      "cell_type": "code",
      "source": [
        "# Specify the models\n",
        "concrete_dropout_params = {\n",
        "    'weight_regulariser': 1e-8,\n",
        "    'dropout_regulariser': 1e-7,\n",
        "}\n",
        "\n",
        "@concrete_regulariser\n",
        "class LatentModel(nn.Module):\n",
        "    def __init__(self, input_dim, output_dim, hidden_dim=75):\n",
        "        super().__init__()\n",
        "        self.input_dim = input_dim\n",
        "        self.output_dim = output_dim\n",
        "\n",
        "        self.dnn_z = nn.Sequential(\n",
        "            nn.Linear(input_dim, hidden_dim),\n",
        "            nn.GELU(),\n",
        "            nn.BatchNorm1d(hidden_dim),\n",
        "            nn.Linear(hidden_dim, output_dim),\n",
        "            nn.GELU(),\n",
        "            nn.BatchNorm1d(output_dim),\n",
        "\n",
        "        )\n",
        "        self.cd_z = ConcreteDropout(**concrete_dropout_params)\n",
        "\n",
        "    def forward(self, x):\n",
        "        return self.cd_z(x, self.dnn_z)\n",
        "\n",
        "\n",
        "@concrete_regulariser\n",
        "class PropensityModel(nn.Module):\n",
        "    def __init__(self):\n",
        "        super().__init__()\n",
        "        self.propensity = nn.Sequential(\n",
        "            nn.LazyLinear(1),\n",
        "            nn.Sigmoid(),\n",
        "        )\n",
        "        self.cd_g = ConcreteDropout(**concrete_dropout_params)\n",
        "\n",
        "    def forward(self, x):\n",
        "        return self.cd_g(x, self.propensity)\n",
        "\n",
        "\n",
        "@concrete_regulariser\n",
        "class OutcomeModel(nn.Module):\n",
        "    def __init__(self, hidden_dim=75):\n",
        "        super().__init__()\n",
        "        self.outcome_dnn = nn.Sequential(\n",
        "            nn.LazyLinear(hidden_dim),\n",
        "            nn.GELU(),\n",
        "            nn.LazyLinear(1),\n",
        "        )\n",
        "        self.cd_o = ConcreteDropout(**concrete_dropout_params)\n",
        "\n",
        "    def forward(self, x):\n",
        "        return self.cd_o(x, self.outcome_dnn)\n",
        "\n",
        "# Contruct the model\n",
        "@concrete_regulariser\n",
        "class CausalModel(nn.Module):\n",
        "    def __init__(self, input_dim):\n",
        "        super().__init__()\n",
        "        self.input_dim = input_dim\n",
        "\n",
        "        # Required modules\n",
        "        self.z_model = LatentModel(input_dim, 1)\n",
        "        self.propensity_model = PropensityModel()\n",
        "        self.q_given_treamtent = OutcomeModel()\n",
        "        self.q_given_control = OutcomeModel()\n",
        "\n",
        "    def forward(self, x):\n",
        "        z = self.z_model(x)\n",
        "        g = self.propensity_model(z)\n",
        "        q_t = self.q_given_treamtent(z)\n",
        "        q_c = self.q_given_control(z)\n",
        "        return g, q_t, q_c, self.regularisation()\n",
        "\n",
        "    def propensity(self, x):\n",
        "        z = self.z_model(x)\n",
        "        g = self.propensity_model(x)\n",
        "        return g\n",
        "\n",
        "    def q(self, x, given):\n",
        "        z = self.z_model(x)\n",
        "        if given.lower() == 't':\n",
        "            return self.q_given_treamtent(x)\n",
        "        elif given.lower() == 'c':\n",
        "            return self.q_given_control(x)\n",
        "\n",
        "    def ite(self, x):\n",
        "        z = self.z_model(x)\n",
        "        return self.q_given_treamtent(z) - self.q_given_control(z)\n",
        "\n",
        "class CausalLoss(nn.modules.loss._Loss):\n",
        "    def __init__(self):\n",
        "        super().__init__()\n",
        "\n",
        "    def forward(self, g_hat, is_treatment, qt_hat, qc_hat, y_true, regularization_penalty=0.0):\n",
        "        # Q MSE terms\n",
        "        treatment_mse = (is_treatment) * (qt_hat - y_true)**2\n",
        "        control_mse = (1-is_treatment) * (qc_hat - y_true)**2\n",
        "        q_mse = torch.mean(treatment_mse) + torch.mean(control_mse)\n",
        "\n",
        "        # Binary cross entropy term\n",
        "        g_entropy = F.binary_cross_entropy(g_hat, is_treatment)\n",
        "\n",
        "        return q_mse + g_entropy + regularization_penalty"
      ],
      "metadata": {
        "id": "fjl86_zee-Er"
      },
      "execution_count": 5,
      "outputs": []
    },
    {
      "cell_type": "code",
      "source": [
        "# Contruct the model\n",
        "causal_model = CausalModel(p)\n",
        "optimizer = torch.optim.Adam(causal_model.parameters(), lr=1e-3)\n",
        "loss_func = CausalLoss()\n",
        "\n",
        "# Prep model data\n",
        "x_train, x_test, y_train, y_test, is_treatment_train, is_treatment_test = train_test_split(\n",
        "    x, y, treatment_labels,\n",
        "    test_size=0.2\n",
        ")\n",
        "x_train = torch.from_numpy(x_train).float()\n",
        "y_train = torch.from_numpy(y_train.reshape(-1, 1)).float()\n",
        "x_test = torch.from_numpy(x_test).float()\n",
        "y_test = torch.from_numpy(y_test.reshape(-1, 1)).float()\n",
        "is_treatment_train = torch.from_numpy(is_treatment_train.reshape(-1, 1)).float()\n",
        "is_treatment_test = torch.from_numpy(is_treatment_test.reshape(-1, 1)).float()"
      ],
      "metadata": {
        "colab": {
          "base_uri": "https://localhost:8080/"
        },
        "id": "DFEv0xncHpvj",
        "outputId": "cad27b70-2cf3-4286-9e77-129684382d44"
      },
      "execution_count": 6,
      "outputs": [
        {
          "output_type": "stream",
          "name": "stderr",
          "text": [
            "/usr/local/lib/python3.10/dist-packages/torch/nn/modules/lazy.py:180: UserWarning: Lazy modules are a new feature under heavy development so changes to the API or functionality can happen at any moment.\n",
            "  warnings.warn('Lazy modules are a new feature under heavy development '\n"
          ]
        }
      ]
    },
    {
      "cell_type": "code",
      "source": [
        "display(Markdown('## Model Summary'))\n",
        "display(draw_graph(causal_model, input_size=x_train.shape, depth=1).visual_graph)"
      ],
      "metadata": {
        "colab": {
          "base_uri": "https://localhost:8080/",
          "height": 421
        },
        "id": "dq3blc6zEijM",
        "outputId": "f73b6601-4d10-4a03-c117-7b959b892c42"
      },
      "execution_count": 7,
      "outputs": [
        {
          "output_type": "display_data",
          "data": {
            "text/plain": [
              "<IPython.core.display.Markdown object>"
            ],
            "text/markdown": "## Model Summary"
          },
          "metadata": {}
        },
        {
          "output_type": "display_data",
          "data": {
            "image/svg+xml": "<?xml version=\"1.0\" encoding=\"UTF-8\" standalone=\"no\"?>\n<!DOCTYPE svg PUBLIC \"-//W3C//DTD SVG 1.1//EN\"\n \"http://www.w3.org/Graphics/SVG/1.1/DTD/svg11.dtd\">\n<!-- Generated by graphviz version 2.43.0 (0)\n -->\n<!-- Title: model Pages: 1 -->\n<svg width=\"701pt\" height=\"264pt\"\n viewBox=\"0.00 0.00 701.00 264.00\" xmlns=\"http://www.w3.org/2000/svg\" xmlns:xlink=\"http://www.w3.org/1999/xlink\">\n<g id=\"graph0\" class=\"graph\" transform=\"scale(1 1) rotate(0) translate(4 260)\">\n<title>model</title>\n<polygon fill=\"white\" stroke=\"transparent\" points=\"-4,4 -4,-260 697,-260 697,4 -4,4\"/>\n<!-- 0 -->\n<g id=\"node1\" class=\"node\">\n<title>0</title>\n<polygon fill=\"lightyellow\" stroke=\"transparent\" points=\"432.5,-256 278.5,-256 278.5,-224 432.5,-224 432.5,-256\"/>\n<polygon fill=\"none\" stroke=\"black\" points=\"278.5,-224 278.5,-256 361.5,-256 361.5,-224 278.5,-224\"/>\n<text text-anchor=\"start\" x=\"283.5\" y=\"-243\" font-family=\"Linux libertine\" font-size=\"10.00\">input&#45;tensor</text>\n<text text-anchor=\"start\" x=\"298.5\" y=\"-232\" font-family=\"Linux libertine\" font-size=\"10.00\">depth:0</text>\n<polygon fill=\"none\" stroke=\"black\" points=\"361.5,-224 361.5,-256 432.5,-256 432.5,-224 361.5,-224\"/>\n<text text-anchor=\"start\" x=\"366.5\" y=\"-237.5\" font-family=\"Linux libertine\" font-size=\"10.00\">(8000, 20)</text>\n</g>\n<!-- 1 -->\n<g id=\"node2\" class=\"node\">\n<title>1</title>\n<polygon fill=\"#c1ffc1\" stroke=\"transparent\" points=\"462,-188 249,-188 249,-146 462,-146 462,-188\"/>\n<polygon fill=\"none\" stroke=\"black\" points=\"249.5,-146 249.5,-188 326.5,-188 326.5,-146 249.5,-146\"/>\n<text text-anchor=\"start\" x=\"254.5\" y=\"-170\" font-family=\"Linux libertine\" font-size=\"10.00\">LatentModel</text>\n<text text-anchor=\"start\" x=\"266.5\" y=\"-159\" font-family=\"Linux libertine\" font-size=\"10.00\">depth:1</text>\n<polygon fill=\"none\" stroke=\"black\" points=\"326.5,-167 326.5,-188 385.5,-188 385.5,-167 326.5,-167\"/>\n<text text-anchor=\"start\" x=\"337.5\" y=\"-175\" font-family=\"Linux libertine\" font-size=\"10.00\">input:</text>\n<polygon fill=\"none\" stroke=\"black\" points=\"385.5,-167 385.5,-188 462.5,-188 462.5,-167 385.5,-167\"/>\n<text text-anchor=\"start\" x=\"390.5\" y=\"-175\" font-family=\"Linux libertine\" font-size=\"10.00\">(8000, 20) </text>\n<polygon fill=\"none\" stroke=\"black\" points=\"326.5,-146 326.5,-167 385.5,-167 385.5,-146 326.5,-146\"/>\n<text text-anchor=\"start\" x=\"331.5\" y=\"-154\" font-family=\"Linux libertine\" font-size=\"10.00\">output: </text>\n<polygon fill=\"none\" stroke=\"black\" points=\"385.5,-146 385.5,-167 462.5,-167 462.5,-146 385.5,-146\"/>\n<text text-anchor=\"start\" x=\"393.5\" y=\"-154\" font-family=\"Linux libertine\" font-size=\"10.00\">(8000, 1) </text>\n</g>\n<!-- 0&#45;&gt;1 -->\n<g id=\"edge1\" class=\"edge\">\n<title>0&#45;&gt;1</title>\n<path fill=\"none\" stroke=\"black\" d=\"M355.5,-223.94C355.5,-216.45 355.5,-207.12 355.5,-198.24\"/>\n<polygon fill=\"black\" stroke=\"black\" points=\"359,-198.16 355.5,-188.16 352,-198.16 359,-198.16\"/>\n</g>\n<!-- 2 -->\n<g id=\"node3\" class=\"node\">\n<title>2</title>\n<polygon fill=\"#c1ffc1\" stroke=\"transparent\" points=\"231,-110 0,-110 0,-68 231,-68 231,-110\"/>\n<polygon fill=\"none\" stroke=\"black\" points=\"0.5,-68 0.5,-110 101.5,-110 101.5,-68 0.5,-68\"/>\n<text text-anchor=\"start\" x=\"5.5\" y=\"-92\" font-family=\"Linux libertine\" font-size=\"10.00\">PropensityModel</text>\n<text text-anchor=\"start\" x=\"29.5\" y=\"-81\" font-family=\"Linux libertine\" font-size=\"10.00\">depth:1</text>\n<polygon fill=\"none\" stroke=\"black\" points=\"101.5,-89 101.5,-110 160.5,-110 160.5,-89 101.5,-89\"/>\n<text text-anchor=\"start\" x=\"112.5\" y=\"-97\" font-family=\"Linux libertine\" font-size=\"10.00\">input:</text>\n<polygon fill=\"none\" stroke=\"black\" points=\"160.5,-89 160.5,-110 231.5,-110 231.5,-89 160.5,-89\"/>\n<text text-anchor=\"start\" x=\"165.5\" y=\"-97\" font-family=\"Linux libertine\" font-size=\"10.00\">(8000, 1) </text>\n<polygon fill=\"none\" stroke=\"black\" points=\"101.5,-68 101.5,-89 160.5,-89 160.5,-68 101.5,-68\"/>\n<text text-anchor=\"start\" x=\"106.5\" y=\"-76\" font-family=\"Linux libertine\" font-size=\"10.00\">output: </text>\n<polygon fill=\"none\" stroke=\"black\" points=\"160.5,-68 160.5,-89 231.5,-89 231.5,-68 160.5,-68\"/>\n<text text-anchor=\"start\" x=\"165.5\" y=\"-76\" font-family=\"Linux libertine\" font-size=\"10.00\">(8000, 1) </text>\n</g>\n<!-- 1&#45;&gt;2 -->\n<g id=\"edge2\" class=\"edge\">\n<title>1&#45;&gt;2</title>\n<path fill=\"none\" stroke=\"black\" d=\"M292.13,-145.93C260.28,-135.85 221.52,-123.57 188.43,-113.09\"/>\n<polygon fill=\"black\" stroke=\"black\" points=\"189.4,-109.73 178.81,-110.05 187.29,-116.4 189.4,-109.73\"/>\n</g>\n<!-- 4 -->\n<g id=\"node5\" class=\"node\">\n<title>4</title>\n<polygon fill=\"#c1ffc1\" stroke=\"transparent\" points=\"462,-110 249,-110 249,-68 462,-68 462,-110\"/>\n<polygon fill=\"none\" stroke=\"black\" points=\"249.5,-68 249.5,-110 332.5,-110 332.5,-68 249.5,-68\"/>\n<text text-anchor=\"start\" x=\"254.5\" y=\"-92\" font-family=\"Linux libertine\" font-size=\"10.00\">OutcomeModel</text>\n<text text-anchor=\"start\" x=\"269.5\" y=\"-81\" font-family=\"Linux libertine\" font-size=\"10.00\">depth:1</text>\n<polygon fill=\"none\" stroke=\"black\" points=\"332.5,-89 332.5,-110 391.5,-110 391.5,-89 332.5,-89\"/>\n<text text-anchor=\"start\" x=\"343.5\" y=\"-97\" font-family=\"Linux libertine\" font-size=\"10.00\">input:</text>\n<polygon fill=\"none\" stroke=\"black\" points=\"391.5,-89 391.5,-110 462.5,-110 462.5,-89 391.5,-89\"/>\n<text text-anchor=\"start\" x=\"396.5\" y=\"-97\" font-family=\"Linux libertine\" font-size=\"10.00\">(8000, 1) </text>\n<polygon fill=\"none\" stroke=\"black\" points=\"332.5,-68 332.5,-89 391.5,-89 391.5,-68 332.5,-68\"/>\n<text text-anchor=\"start\" x=\"337.5\" y=\"-76\" font-family=\"Linux libertine\" font-size=\"10.00\">output: </text>\n<polygon fill=\"none\" stroke=\"black\" points=\"391.5,-68 391.5,-89 462.5,-89 462.5,-68 391.5,-68\"/>\n<text text-anchor=\"start\" x=\"396.5\" y=\"-76\" font-family=\"Linux libertine\" font-size=\"10.00\">(8000, 1) </text>\n</g>\n<!-- 1&#45;&gt;4 -->\n<g id=\"edge3\" class=\"edge\">\n<title>1&#45;&gt;4</title>\n<path fill=\"none\" stroke=\"black\" d=\"M355.5,-145.63C355.5,-137.82 355.5,-128.73 355.5,-120.18\"/>\n<polygon fill=\"black\" stroke=\"black\" points=\"359,-120.16 355.5,-110.16 352,-120.16 359,-120.16\"/>\n</g>\n<!-- 6 -->\n<g id=\"node7\" class=\"node\">\n<title>6</title>\n<polygon fill=\"#c1ffc1\" stroke=\"transparent\" points=\"693,-110 480,-110 480,-68 693,-68 693,-110\"/>\n<polygon fill=\"none\" stroke=\"black\" points=\"480.5,-68 480.5,-110 563.5,-110 563.5,-68 480.5,-68\"/>\n<text text-anchor=\"start\" x=\"485.5\" y=\"-92\" font-family=\"Linux libertine\" font-size=\"10.00\">OutcomeModel</text>\n<text text-anchor=\"start\" x=\"500.5\" y=\"-81\" font-family=\"Linux libertine\" font-size=\"10.00\">depth:1</text>\n<polygon fill=\"none\" stroke=\"black\" points=\"563.5,-89 563.5,-110 622.5,-110 622.5,-89 563.5,-89\"/>\n<text text-anchor=\"start\" x=\"574.5\" y=\"-97\" font-family=\"Linux libertine\" font-size=\"10.00\">input:</text>\n<polygon fill=\"none\" stroke=\"black\" points=\"622.5,-89 622.5,-110 693.5,-110 693.5,-89 622.5,-89\"/>\n<text text-anchor=\"start\" x=\"627.5\" y=\"-97\" font-family=\"Linux libertine\" font-size=\"10.00\">(8000, 1) </text>\n<polygon fill=\"none\" stroke=\"black\" points=\"563.5,-68 563.5,-89 622.5,-89 622.5,-68 563.5,-68\"/>\n<text text-anchor=\"start\" x=\"568.5\" y=\"-76\" font-family=\"Linux libertine\" font-size=\"10.00\">output: </text>\n<polygon fill=\"none\" stroke=\"black\" points=\"622.5,-68 622.5,-89 693.5,-89 693.5,-68 622.5,-68\"/>\n<text text-anchor=\"start\" x=\"627.5\" y=\"-76\" font-family=\"Linux libertine\" font-size=\"10.00\">(8000, 1) </text>\n</g>\n<!-- 1&#45;&gt;6 -->\n<g id=\"edge4\" class=\"edge\">\n<title>1&#45;&gt;6</title>\n<path fill=\"none\" stroke=\"black\" d=\"M416.49,-145.93C447.02,-135.89 484.14,-123.68 515.89,-113.23\"/>\n<polygon fill=\"black\" stroke=\"black\" points=\"517.16,-116.5 525.56,-110.05 514.97,-109.85 517.16,-116.5\"/>\n</g>\n<!-- 3 -->\n<g id=\"node4\" class=\"node\">\n<title>3</title>\n<polygon fill=\"lightyellow\" stroke=\"transparent\" points=\"192.5,-32 38.5,-32 38.5,0 192.5,0 192.5,-32\"/>\n<polygon fill=\"none\" stroke=\"black\" points=\"38.5,0 38.5,-32 127.5,-32 127.5,0 38.5,0\"/>\n<text text-anchor=\"start\" x=\"43.5\" y=\"-19\" font-family=\"Linux libertine\" font-size=\"10.00\">output&#45;tensor</text>\n<text text-anchor=\"start\" x=\"61.5\" y=\"-8\" font-family=\"Linux libertine\" font-size=\"10.00\">depth:0</text>\n<polygon fill=\"none\" stroke=\"black\" points=\"127.5,0 127.5,-32 192.5,-32 192.5,0 127.5,0\"/>\n<text text-anchor=\"start\" x=\"132.5\" y=\"-13.5\" font-family=\"Linux libertine\" font-size=\"10.00\">(8000, 1)</text>\n</g>\n<!-- 2&#45;&gt;3 -->\n<g id=\"edge5\" class=\"edge\">\n<title>2&#45;&gt;3</title>\n<path fill=\"none\" stroke=\"black\" d=\"M115.5,-67.84C115.5,-59.89 115.5,-50.66 115.5,-42.26\"/>\n<polygon fill=\"black\" stroke=\"black\" points=\"119,-42.24 115.5,-32.24 112,-42.24 119,-42.24\"/>\n</g>\n<!-- 5 -->\n<g id=\"node6\" class=\"node\">\n<title>5</title>\n<polygon fill=\"lightyellow\" stroke=\"transparent\" points=\"432.5,-32 278.5,-32 278.5,0 432.5,0 432.5,-32\"/>\n<polygon fill=\"none\" stroke=\"black\" points=\"278.5,0 278.5,-32 367.5,-32 367.5,0 278.5,0\"/>\n<text text-anchor=\"start\" x=\"283.5\" y=\"-19\" font-family=\"Linux libertine\" font-size=\"10.00\">output&#45;tensor</text>\n<text text-anchor=\"start\" x=\"301.5\" y=\"-8\" font-family=\"Linux libertine\" font-size=\"10.00\">depth:0</text>\n<polygon fill=\"none\" stroke=\"black\" points=\"367.5,0 367.5,-32 432.5,-32 432.5,0 367.5,0\"/>\n<text text-anchor=\"start\" x=\"372.5\" y=\"-13.5\" font-family=\"Linux libertine\" font-size=\"10.00\">(8000, 1)</text>\n</g>\n<!-- 4&#45;&gt;5 -->\n<g id=\"edge6\" class=\"edge\">\n<title>4&#45;&gt;5</title>\n<path fill=\"none\" stroke=\"black\" d=\"M355.5,-67.84C355.5,-59.89 355.5,-50.66 355.5,-42.26\"/>\n<polygon fill=\"black\" stroke=\"black\" points=\"359,-42.24 355.5,-32.24 352,-42.24 359,-42.24\"/>\n</g>\n<!-- 7 -->\n<g id=\"node8\" class=\"node\">\n<title>7</title>\n<polygon fill=\"lightyellow\" stroke=\"transparent\" points=\"663.5,-32 509.5,-32 509.5,0 663.5,0 663.5,-32\"/>\n<polygon fill=\"none\" stroke=\"black\" points=\"509.5,0 509.5,-32 598.5,-32 598.5,0 509.5,0\"/>\n<text text-anchor=\"start\" x=\"514.5\" y=\"-19\" font-family=\"Linux libertine\" font-size=\"10.00\">output&#45;tensor</text>\n<text text-anchor=\"start\" x=\"532.5\" y=\"-8\" font-family=\"Linux libertine\" font-size=\"10.00\">depth:0</text>\n<polygon fill=\"none\" stroke=\"black\" points=\"598.5,0 598.5,-32 663.5,-32 663.5,0 598.5,0\"/>\n<text text-anchor=\"start\" x=\"603.5\" y=\"-13.5\" font-family=\"Linux libertine\" font-size=\"10.00\">(8000, 1)</text>\n</g>\n<!-- 6&#45;&gt;7 -->\n<g id=\"edge7\" class=\"edge\">\n<title>6&#45;&gt;7</title>\n<path fill=\"none\" stroke=\"black\" d=\"M586.5,-67.84C586.5,-59.89 586.5,-50.66 586.5,-42.26\"/>\n<polygon fill=\"black\" stroke=\"black\" points=\"590,-42.24 586.5,-32.24 583,-42.24 590,-42.24\"/>\n</g>\n</g>\n</svg>\n",
            "text/plain": [
              "<graphviz.graphs.Digraph at 0x7edd389b7b20>"
            ]
          },
          "metadata": {}
        }
      ]
    },
    {
      "cell_type": "code",
      "source": [
        "# Training loop\n",
        "n_epochs = int(10e3)\n",
        "hist = []\n",
        "best_epoch = 0\n",
        "best_loss = float('inf')\n",
        "iterator = trange(n_epochs)\n",
        "for epoch in iterator:\n",
        "    # Forward pass\n",
        "    g_hat, qt_hat, qc_hat, model_reg_penalty = causal_model(x_train)\n",
        "    loss_i = loss_func(g_hat, is_treatment_train, qt_hat, qc_hat, y_train, model_reg_penalty)\n",
        "\n",
        "    # Backward pass\n",
        "    optimizer.zero_grad()\n",
        "    loss_i.backward()\n",
        "    optimizer.step()\n",
        "\n",
        "    # Evaluate\n",
        "    with torch.inference_mode():\n",
        "        g_hat_test, qt_hat_test, qc_hat_test, _ = causal_model(x_test)\n",
        "        hist.append((\n",
        "            loss_func(\n",
        "                g_hat_test,\n",
        "                is_treatment_test,\n",
        "                qt_hat_test,\n",
        "                qc_hat_test,\n",
        "                y_test\n",
        "            ),\n",
        "            torch.mean(causal_model.ite(x_test))\n",
        "        ))\n",
        "        iterator.set_description(f'i: {epoch:,} | loss: {hist[-1][0].numpy():.8f} | CATE: {hist[-1][1].numpy():.3f}')\n",
        "        if hist[-1][0] < best_loss:\n",
        "            best_loss = hist[-1][0]\n",
        "            best_epoch = epoch\n",
        "        elif (epoch - best_epoch) > 1000:\n",
        "            print(f'Early stopping at epoch {epoch:,}')\n",
        "            break"
      ],
      "metadata": {
        "colab": {
          "base_uri": "https://localhost:8080/",
          "height": 66,
          "referenced_widgets": [
            "fdacdfe06a8842dba810d30f8d066b75",
            "ecf6cd47d4f64fc1bb9164e9243cd88e",
            "aaea19e00d864801bd61117fb0080c23",
            "60a351776c214e9cab77584acb43d743",
            "1e4f8bd169d4483ebee8896cf463f329",
            "34a89bf460e144b19fde72ba38dfca21",
            "50547621f9914a4699441743ce51d863",
            "23838dbb44f049c1ad1a3935880abf83",
            "a0a776b14bcc4fd3b077a64117663c54",
            "c9b1e578d407470bb8bf5fb3e4bc373b",
            "fb70a475d78d43db91025664d660227c"
          ]
        },
        "id": "AyMt9_BmOgBQ",
        "outputId": "0bf31255-662d-4747-943f-eea502c0fdbc"
      },
      "execution_count": 8,
      "outputs": [
        {
          "output_type": "display_data",
          "data": {
            "text/plain": [
              "  0%|          | 0/10000 [00:00<?, ?it/s]"
            ],
            "application/vnd.jupyter.widget-view+json": {
              "version_major": 2,
              "version_minor": 0,
              "model_id": "fdacdfe06a8842dba810d30f8d066b75"
            }
          },
          "metadata": {}
        },
        {
          "output_type": "stream",
          "name": "stdout",
          "text": [
            "Early stopping at epoch 4,202\n"
          ]
        }
      ]
    },
    {
      "cell_type": "code",
      "source": [
        "graph.plot(np.array([t[0].numpy() for t in hist]), label='Causal Model')\n",
        "# graph.yscale('log')\n",
        "graph.ylabel('Causal Loss')\n",
        "graph.legend()\n",
        "graph.show()\n",
        "\n",
        "graph.plot(np.array([t[1].numpy() for t in hist]), label='Causal Model')\n",
        "graph.axhline(treatment_effect, linestyle='--', color='black', lw=1.5, label='True Treatment Effect')\n",
        "graph.axhline(naive_causal_estimate, linestyle='--', color='red', lw=1.5, label='Naive Treatment Effect')\n",
        "graph.ylabel('CATE')\n",
        "graph.legend()\n",
        "graph.show()"
      ],
      "metadata": {
        "colab": {
          "base_uri": "https://localhost:8080/",
          "height": 887
        },
        "id": "0yu1ZRaQQ2ba",
        "outputId": "b3faaee8-942f-4ac8-e2cb-b3e4bc892bc8"
      },
      "execution_count": 9,
      "outputs": [
        {
          "output_type": "display_data",
          "data": {
            "text/plain": [
              "<Figure size 640x480 with 1 Axes>"
            ],
            "image/png": "[encoded data removed]"
          },
          "metadata": {}
        },
        {
          "output_type": "display_data",
          "data": {
            "text/plain": [
              "<Figure size 640x480 with 1 Axes>"
            ],
            "image/png": "[encoded data removed]"
          },
          "metadata": {}
        }
      ]
    },
    {
      "cell_type": "markdown",
      "source": [
        "_Stephen Anthony Rose_"
      ],
      "metadata": {
        "id": "o5QUJhbyZAW5"
      }
    },
    {
      "cell_type": "code",
      "source": [
        "# TODO predictive posterior sampling"
      ],
      "metadata": {
        "id": "Q0PRujpEx_32"
      },
      "execution_count": 10,
      "outputs": []
    }
  ]
}