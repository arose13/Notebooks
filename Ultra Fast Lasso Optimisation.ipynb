{
 "cells": [
  {
   "cell_type": "code",
   "execution_count": 0,
   "metadata": {
    "id": "Y4NXsaV-Ek2o",
    "colab_type": "code",
    "outputId": "53f93b99-e632-40dd-fb58-aa74eea23b21",
    "colab": {
     "base_uri": "https://localhost:8080/",
     "height": 34.0
    }
   },
   "outputs": [
    {
     "name": "stdout",
     "output_type": "stream",
     "text": [
      "Requirement already satisfied: sklearn-contrib-lightning in /usr/local/lib/python3.6/dist-packages (0.5.0)\n"
     ]
    }
   ],
   "source": [
    "!pip3 install sklearn-contrib-lightning"
   ]
  },
  {
   "cell_type": "code",
   "execution_count": 0,
   "metadata": {
    "id": "hDeYzL_2E_yL",
    "colab_type": "code",
    "colab": {}
   },
   "outputs": [],
   "source": [
    "import numpy as np\n",
    "import numpy.linalg as la\n",
    "from scipy import stats \n",
    "import matplotlib.pyplot as graph\n",
    "import seaborn as sns\n",
    "from sklearn.model_selection import train_test_split\n",
    "from sklearn.metrics import r2_score\n",
    "from lightning.regression import FistaRegressor\n",
    "\n",
    "graph.style.use('fivethirtyeight')"
   ]
  },
  {
   "cell_type": "markdown",
   "metadata": {
    "id": "bABwBEJJ1AE5",
    "colab_type": "text"
   },
   "source": [
    "# Lasso"
   ]
  },
  {
   "cell_type": "code",
   "execution_count": 0,
   "metadata": {
    "id": "jNrxSuHgSfRj",
    "colab_type": "code",
    "outputId": "d5749822-3156-40cc-e4a4-6889673487d9",
    "colab": {
     "base_uri": "https://localhost:8080/",
     "height": 286.0
    }
   },
   "outputs": [
    {
     "name": "stdout",
     "output_type": "stream",
     "text": [
      "[ 2. -2.  2.  3.  0.  0.  0.  0.  0.  0.  0.  0.  0.  0.  0.  0.  0.  0.\n",
      "  0.  0.  0.  0.  0.  0.  0.  0.  0.  0.  0.  0.  0.  0.  0.  0.  0.  0.\n",
      "  0.  0.  0.  0.  0.  0.  0.  0.  0.  0.  0.  0.  0.  0.  0.  0.  0.  0.\n",
      "  0.  0.  0.  0.  0.  0.  0.  0.  0.  0.  0.  0.  0.  0.  0.  0.  0.  0.\n",
      "  0.  0.  0.  0.  0.  0.  0.  0.  0.  0.  0.  0.  0.  0.  0.  0.  0.  0.\n",
      "  0.  0.  0.  0.  0.  0.  0.  0.  0.  0.  0.  0.  0.  0.  0.  0.  0.  0.\n",
      "  0.  0.  0.  0.  0.  0.  0.  0.  0.  0.  0.  0.  0.  0.  0.  0.  0.  0.\n",
      "  0.  0.  0.  0.  0.  0.  0.  0.  0.  0.  0.  0.  0.  0.  0.  0.  0.  0.\n",
      "  0.  0.  0.  0.  0.  0.  0.  0.  0.  0.  0.  0.  0.  0.  0.  0.  0.  0.\n",
      "  0.  0.  0.  0.  0.  0.  0.  0.  0.  0.  0.  0.  0.  0.  0.  0.  0.  0.\n",
      "  0.  0.  0.  0.  0.  0.  0.  0.  0.  0.  0.  0.  0.  0.  0.  0.  0.  0.\n",
      "  0.  0.  0.  0.  0.  0.  0.  0.  0.  0.  0.  0.  0.  0.  0.  0.  0.  0.\n",
      "  0.  0.  0.  0.  0.  0.  0.  0.  0.  0.  0.  0.  0.  0.  0.  0.  0.  0.\n",
      "  0.  0.  0.  0.  0.  0.  0.  0.  0.  0.  0.  0.  0.  0.  0.  0.]\n",
      "(1000, 250) (1000,)\n",
      "(900, 250) (100, 250) (900,) (100,)\n"
     ]
    }
   ],
   "source": [
    "# Lasso toy data\n",
    "n = int(1e3)\n",
    "p = 250\n",
    "k = 4\n",
    "\n",
    "beta = np.zeros(p)\n",
    "beta[:4] = [2, -2, 2, 3]\n",
    "print(beta)\n",
    "\n",
    "x = stats.norm().rvs(size=(n, p))\n",
    "y = x @ beta\n",
    "y += 2.5*stats.norm().rvs(n)\n",
    "\n",
    "x_train, x_test, y_train, y_test = train_test_split(x, y, test_size=0.1)\n",
    "\n",
    "print(x.shape, y.shape)\n",
    "print(x_train.shape, x_test.shape, y_train.shape, y_test.shape)"
   ]
  },
  {
   "cell_type": "markdown",
   "metadata": {
    "id": "FU7QevbfGwWT",
    "colab_type": "text"
   },
   "source": [
    "Easily readable form.\n",
    "\n",
    "$ J(m) = {{1}\\over{2N}} \\sum(y - Xm)^2 + \\lambda \\sum|w_i m_i|$\n",
    "\n",
    "Form actually solved.\n",
    "\n",
    "$ J(m) = {{1}\\over{2N}} ||y - Xm||_2^2 + \\lambda ||w\\circ m||_1 $"
   ]
  },
  {
   "cell_type": "code",
   "execution_count": 0,
   "metadata": {
    "id": "Md5qTg8XHFtz",
    "colab_type": "code",
    "colab": {}
   },
   "outputs": [],
   "source": [
    "# Custom Penalty Object\n",
    "class SimpleLasso:\n",
    "    def __init__(self, w):\n",
    "        self.w = w\n",
    "        \n",
    "    def projection(self, coef, alpha, L):\n",
    "        return np.sign(coef) * np.maximum(abs(coef) - ((self.w * alpha) / L), 0)\n",
    "    \n",
    "    def regularization(self, coef):\n",
    "        return la.norm(self.w * coef, 1)\n",
    "    \n",
    "def compute_lam_max(x, y):\n",
    "    n = len(y)\n",
    "    dots = np.zeros(x.shape[1])\n",
    "    for j in range(len(dots)):\n",
    "        dots[j] = x[:, j].T @ y\n",
    "    return np.abs(dots).max() / n"
   ]
  },
  {
   "cell_type": "code",
   "execution_count": 0,
   "metadata": {
    "id": "pSuAs6S1_Jxl",
    "colab_type": "code",
    "outputId": "9e54dbd4-8fa8-48af-bfae-8567c28b7d11",
    "colab": {
     "base_uri": "https://localhost:8080/",
     "height": 34.0
    }
   },
   "outputs": [
    {
     "name": "stdout",
     "output_type": "stream",
     "text": [
      "10 loops, best of 3: 142 ms per loop\n"
     ]
    }
   ],
   "source": [
    "%%timeit\n",
    "#FISTA\n",
    "test = FistaRegressor(C=1/len(y), penalty=SimpleLasso(np.ones(p)), alpha=1e2)\n",
    "test.fit(x_train, y_train)"
   ]
  },
  {
   "cell_type": "code",
   "execution_count": 0,
   "metadata": {
    "id": "WgWChRYtTskH",
    "colab_type": "code",
    "outputId": "95244b50-9ae6-4e7d-9725-61b3f2789f37",
    "colab": {
     "base_uri": "https://localhost:8080/",
     "height": 50.0
    }
   },
   "outputs": [
    {
     "name": "stdout",
     "output_type": "stream",
     "text": [
      "CPU times: user 9.99 s, sys: 4.99 s, total: 15 s\n",
      "Wall time: 7.52 s\n"
     ]
    }
   ],
   "source": [
    "%%time\n",
    "# Training Lasso with FISTA\n",
    "lambda_max = compute_lam_max(x_train, y_train)\n",
    "lambda_min = 1e-3 * lambda_max\n",
    "lambda_path = np.logspace(np.log10(lambda_max), np.log10(lambda_min), 50)\n",
    "beta_path = []\n",
    "score_path = []\n",
    "for lam_i in lambda_path:\n",
    "    reg_strength = np.ones(p)\n",
    "    reg_strength[2] = 0\n",
    "    model = FistaRegressor(\n",
    "        C=1/len(y),\n",
    "        penalty=SimpleLasso(reg_strength), \n",
    "        alpha=lam_i\n",
    "    )\n",
    "    model.fit(x_train, y_train)\n",
    "    \n",
    "    beta_path.append(model.coef_)\n",
    "    score_path.append(\n",
    "        r2_score(y_test, model.predict(x_test))\n",
    "    )\n",
    "\n",
    "beta_path = np.vstack(beta_path)"
   ]
  },
  {
   "cell_type": "code",
   "execution_count": 0,
   "metadata": {
    "id": "dtOK4HGMjOVU",
    "colab_type": "code",
    "outputId": "12a9649d-b207-4d27-fb72-49280e4b6595",
    "colab": {
     "base_uri": "https://localhost:8080/",
     "height": 34.0
    }
   },
   "outputs": [
    {
     "data": {
      "text/plain": [
       "2.0"
      ]
     },
     "execution_count": 7,
     "metadata": {
      "tags": []
     },
     "output_type": "execute_result"
    }
   ],
   "source": [
    "np.array([1, 2, 3]).mean()"
   ]
  },
  {
   "cell_type": "code",
   "execution_count": 0,
   "metadata": {
    "id": "Wgddo0g4VUo2",
    "colab_type": "code",
    "outputId": "a1e1031e-0d96-4013-baa5-7d13ab61479f",
    "colab": {
     "base_uri": "https://localhost:8080/",
     "height": 770.0
    }
   },
   "outputs": [
    {
     "data": {
      "image/png": "[encoded data removed]",
      "text/plain": [
       "<Figure size 576x396 with 1 Axes>"
      ]
     },
     "metadata": {
      "tags": []
     },
     "output_type": "display_data"
    },
    {
     "data": {
      "image/png": "[encoded data removed]",
      "text/plain": [
       "<Figure size 576x396 with 1 Axes>"
      ]
     },
     "metadata": {
      "tags": []
     },
     "output_type": "display_data"
    }
   ],
   "source": [
    "graph.plot(lambda_path, beta_path, linewidth=2)\n",
    "graph.xscale('log')\n",
    "graph.ylabel(r'$\\beta$')\n",
    "graph.xlabel(r'$\\lambda$')\n",
    "graph.show()\n",
    "\n",
    "graph.plot(lambda_path, score_path)\n",
    "graph.xscale('log')\n",
    "graph.ylabel(r'$R^2$')\n",
    "graph.xlabel(r'$\\lambda$')\n",
    "graph.show()"
   ]
  },
  {
   "cell_type": "code",
   "execution_count": 0,
   "metadata": {
    "id": "y3jn9Nh6X45j",
    "colab_type": "code",
    "colab": {}
   },
   "outputs": [],
   "source": [
    ""
   ]
  }
 ],
 "metadata": {
  "colab": {
   "name": "Ultra Fast Linear Model Optimisation",
   "version": "0.3.2",
   "provenance": []
  },
  "kernelspec": {
   "name": "python3",
   "display_name": "Python 3"
  }
 },
 "nbformat": 4,
 "nbformat_minor": 0
}
