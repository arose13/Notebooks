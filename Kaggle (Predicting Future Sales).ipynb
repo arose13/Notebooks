{
 "cells": [
  {
   "cell_type": "markdown",
   "metadata": {},
   "source": [
    "# Kaggle Predicting Future Sales\n",
    "\n",
    "Objective: minimise RMSE\n",
    "<b>NOTE</b> True target values are clipped into [0,20]!!"
   ]
  },
  {
   "cell_type": "code",
   "execution_count": null,
   "metadata": {},
   "outputs": [],
   "source": [
    "import numpy as np\n",
    "import pandas as pd\n",
    "import matplotlib.pyplot as graph\n",
    "import seaborn as sns\n",
    "import altair as alt\n",
    "\n",
    "from tqdm import tqdm\n",
    "from IPython.display import display\n",
    "\n",
    "graph.style.use('fivethirtyeight')"
   ]
  },
  {
   "cell_type": "markdown",
   "metadata": {},
   "source": [
    "# Load Data"
   ]
  },
  {
   "cell_type": "code",
   "execution_count": null,
   "metadata": {},
   "outputs": [],
   "source": [
    "!wc -l data/competitive-data-science-predict-future-sales/*csv"
   ]
  },
  {
   "cell_type": "code",
   "execution_count": null,
   "metadata": {},
   "outputs": [],
   "source": [
    "%%time\n",
    "df_test = pd.read_csv('data/competitive-data-science-predict-future-sales/test.csv')\n",
    "print(df_test.shape)\n",
    "display(df_test.head())"
   ]
  },
  {
   "cell_type": "code",
   "execution_count": null,
   "metadata": {},
   "outputs": [],
   "source": [
    "%%time\n",
    "df_items = pd.read_csv('data/competitive-data-science-predict-future-sales/items.csv')\n",
    "print(df_items.shape)\n",
    "display(df_items.head())"
   ]
  },
  {
   "cell_type": "code",
   "execution_count": null,
   "metadata": {},
   "outputs": [],
   "source": [
    "%%time\n",
    "df_item_cat = pd.read_csv('data/competitive-data-science-predict-future-sales/item_categories.csv')\n",
    "print(df_item_cat.shape)\n",
    "display(df_item_cat.head())"
   ]
  },
  {
   "cell_type": "code",
   "execution_count": null,
   "metadata": {},
   "outputs": [],
   "source": [
    "%%time\n",
    "df_shops = pd.read_csv('data/competitive-data-science-predict-future-sales/shops.csv')\n",
    "print(df_shops.shape)\n",
    "display(df_shops.head())"
   ]
  },
  {
   "cell_type": "code",
   "execution_count": null,
   "metadata": {},
   "outputs": [],
   "source": [
    "%%time\n",
    "df_sales = pd.read_csv('data/competitive-data-science-predict-future-sales/sales_train.csv')\n",
    "df_sales = df_sales.merge(df_items[['item_id', 'item_category_id']], on='item_id')\n",
    "\n",
    "print(df_sales.shape)\n",
    "display(df_sales.head())"
   ]
  },
  {
   "cell_type": "code",
   "execution_count": null,
   "metadata": {},
   "outputs": [],
   "source": [
    "a = set(df_sales['shop_id'].astype(str) + '|' + df_sales['item_id'].astype(str))\n",
    "b = set(df_test['shop_id'].astype(str) + '|' + df_test['item_id'].astype(str))"
   ]
  },
  {
   "cell_type": "code",
   "execution_count": null,
   "metadata": {},
   "outputs": [],
   "source": [
    "print(len(a))\n",
    "print(len(b))\n",
    "print('intersection', len(a & b))\n",
    "print('union', len(a | b))"
   ]
  },
  {
   "cell_type": "markdown",
   "metadata": {},
   "source": [
    "<b>Sales Metadata</b>\n",
    "\n",
    "the training set. Daily historical data from January 2013 to October 2015.\n",
    "\n",
    "1. ID - an Id that represents a (Shop, Item) tuple within the test set\n",
    "2. shop_id - unique identifier of a shop\n",
    "3. item_id - unique identifier of a product\n",
    "3. item_category_id - unique identifier of item category\n",
    "4. <b>item_cnt_day</b> - number of products sold. <b><i>You are predicting a <u>monthly</u> amount of this measure</i></b>\n",
    "5. item_price - current price of an item\n",
    "6. date - date in format dd/mm/yyyy\n",
    "7. date_block_num - a consecutive month number, used for convenience. January 2013 is 0, February 2013 is 1,..., October 2015 is 33\n",
    "8. item_name - name of item\n",
    "9. shop_name - name of shop\n",
    "10. item_category_name - name of item category"
   ]
  },
  {
   "cell_type": "markdown",
   "metadata": {},
   "source": [
    "# EDA and processing the data"
   ]
  },
  {
   "cell_type": "code",
   "execution_count": null,
   "metadata": {},
   "outputs": [],
   "source": [
    "for col in ['shop_id', 'item_id', 'item_category_id']:\n",
    "    print(f'N {col}:', df_sales[col].unique().shape)"
   ]
  },
  {
   "cell_type": "code",
   "execution_count": null,
   "metadata": {
    "scrolled": false
   },
   "outputs": [],
   "source": [
    "sns.distplot(df_sales['item_cnt_day'], kde=False)\n",
    "graph.yscale('log')\n",
    "graph.show()\n",
    "\n",
    "graph.figure(figsize=(8, 4))\n",
    "sns.distplot(df_sales['item_price'])\n",
    "graph.xscale('log')\n",
    "graph.show()\n",
    "\n",
    "for col in ['shop_id', 'item_category_id']:\n",
    "    graph.figure(figsize=(8, 4))\n",
    "    graph.title(col.replace('_', ' ').title())\n",
    "    for thing in tqdm(df_sales[col].unique()):\n",
    "        sns.distplot(df_sales.query(f'{col} == {thing}')['item_price'], hist=False)\n",
    "    graph.xlabel('Price ($)')\n",
    "    graph.xscale('log')\n",
    "    graph.show()"
   ]
  },
  {
   "cell_type": "markdown",
   "metadata": {},
   "source": [
    "What the fuck exactly am I trying to predict??"
   ]
  },
  {
   "cell_type": "code",
   "execution_count": null,
   "metadata": {},
   "outputs": [],
   "source": [
    "timeseries = df_sales.groupby('date_block_num')['item_cnt_day'].sum()\n",
    "print(timeseries.shape)\n",
    "\n",
    "graph.figure(figsize=(12, 5))\n",
    "graph.plot(timeseries)\n",
    "graph.xlabel('Date Block Number')\n",
    "graph.show()\n",
    "\n",
    "graph.figure(figsize=(12, 5))\n",
    "for name, shop in df_sales.groupby('shop_id'):\n",
    "    timeseries_i = shop.groupby('date_block_num')['item_cnt_day'].sum()\n",
    "    graph.plot(timeseries_i, label=name, alpha=0.5, linewidth=1.2)\n",
    "graph.xlabel('Date Block Number')\n",
    "graph.show()"
   ]
  },
  {
   "cell_type": "code",
   "execution_count": null,
   "metadata": {
    "scrolled": false
   },
   "outputs": [],
   "source": [
    "%%time\n",
    "# Create ML monthly sales dataframe\n",
    "sales = df_test.copy()\n",
    "sales.drop(columns='ID', inplace=True)\n",
    "display(sales.head())\n",
    "print(sales.shape)\n",
    "\n",
    "expected_length = sales.shape[0] * len(timeseries)\n",
    "print(expected_length)\n",
    "\n",
    "# Repeat for every date block\n",
    "subframes = []\n",
    "for date_block in tqdm(sorted(df_sales['date_block_num'].unique()), desc='Repeating for all blocks'):\n",
    "    frame_i = sales.copy()\n",
    "    frame_i['date_block_num'] = date_block\n",
    "    subframes.append(frame_i)\n",
    "sales = pd.concat(subframes)\n",
    "print(sales.shape)\n",
    "\n",
    "assert len(sales) == expected_length, 'Concatenation failed!'\n",
    "display(sales.sample(5))\n",
    "\n",
    "# Summarized data into date blocks (date_block_num)\n",
    "agg_sales = pd.pivot_table(\n",
    "    df_sales, \n",
    "    values='item_cnt_day', \n",
    "    index=['shop_id', 'item_id', 'date_block_num'], \n",
    "    aggfunc=np.sum\n",
    ")\n",
    "agg_sales.reset_index(['shop_id', 'item_id', 'date_block_num'], inplace=True)\n",
    "agg_sales.rename(columns={'item_cnt_day': 'item_cnt_month'}, inplace=True)\n",
    "display(agg_sales.sample(5))\n",
    "print(agg_sales.shape, 'shape or agg_sales (NOT final df)')\n",
    "\n",
    "# Combine all of the data\n",
    "sales = sales.merge(agg_sales, how='outer', on=['shop_id', 'item_id', 'date_block_num'])\n",
    "display(sales.head())\n",
    "print(sales.shape, 'after agg sales added')\n",
    "print(sales.dropna().shape, 'no NaNs')\n",
    "\n",
    "sales = sales.merge(df_items[['item_id', 'item_category_id']], how='left', on='item_id')\n",
    "display(sales.head())\n",
    "display(sales.tail())\n",
    "print(sales.shape, 'after item category added')\n",
    "print(sales.dropna().shape, 'no NaNs')\n",
    "\n",
    "# Fillna with 0 because Nan means that month that shop did not sell that item\n",
    "sales.fillna(0, inplace=True)\n",
    "print(sales.shape)"
   ]
  },
  {
   "cell_type": "markdown",
   "metadata": {},
   "source": [
    "# Baseline\n",
    "\n",
    "Performance to beat the saying that last date block predicts the current"
   ]
  },
  {
   "cell_type": "code",
   "execution_count": null,
   "metadata": {},
   "outputs": [],
   "source": [
    "baseline_sales = sales.query(f'date_block_num == {df_sales.date_block_num.max()-1}')\n",
    "baseline_test_sales = sales.query(f'date_block_num == {df_sales.date_block_num.max()}')\n",
    "\n",
    "print(baseline_sales.shape, baseline_test_sales.shape)"
   ]
  },
  {
   "cell_type": "code",
   "execution_count": null,
   "metadata": {},
   "outputs": [],
   "source": [
    "def process_baseline(df):\n",
    "    pivot = pd.pivot_table(\n",
    "        df,\n",
    "        values='item_cnt_month', index=['shop_id', 'item_id'],\n",
    "        aggfunc=np.sum\n",
    "    )\n",
    "    pivot.reset_index(['shop_id', 'item_id'], inplace=True)\n",
    "    return pivot\n",
    "\n",
    "pivot_sales = process_baseline(baseline_sales)\n",
    "pivot_test_sales = process_baseline(baseline_test_sales)\n",
    "\n",
    "display(pivot_sales.sample(5))\n",
    "display(pivot_test_sales.sample(5))"
   ]
  },
  {
   "cell_type": "code",
   "execution_count": null,
   "metadata": {},
   "outputs": [],
   "source": [
    "# \"Predict\"\n",
    "pivot_sales.rename(columns={'item_cnt_month': 'pred'}, inplace=True)\n",
    "pivot_test_sales = pivot_test_sales.merge(pivot_sales, on=['shop_id', 'item_id'])\n",
    "\n",
    "# Compute RMSE\n",
    "pivot_test_sales['diff'] = pivot_test_sales['pred'] - pivot_test_sales['item_cnt_month']\n",
    "\n",
    "display(pivot_test_sales.head())"
   ]
  },
  {
   "cell_type": "code",
   "execution_count": null,
   "metadata": {},
   "outputs": [],
   "source": [
    "baseline_rmse = np.sqrt((pivot_test_sales['diff'] ** 2).mean())\n",
    "print(f'Baseline RMSE = {baseline_rmse}')"
   ]
  },
  {
   "cell_type": "markdown",
   "metadata": {},
   "source": [
    "# Predictive Model Making\n",
    "\n",
    "Predict block `date block` + 1 from `(shop_id (one_hot), item_id (one_hot), date_block)`\n",
    "\n",
    "## Remember\n",
    "- Objective: minimise RMSE\n",
    "- Target is to get a RMSE < 1.0\n",
    "- True target values are clipped into [0,20]!!"
   ]
  },
  {
   "cell_type": "code",
   "execution_count": null,
   "metadata": {},
   "outputs": [],
   "source": [
    "%%time\n",
    "# Convert sales to x y data\n",
    "data = sales.copy()\n",
    "data.head()"
   ]
  },
  {
   "cell_type": "code",
   "execution_count": null,
   "metadata": {},
   "outputs": [],
   "source": [
    "# TODO Create modulo 12 of the date_block to get the month of the year\n",
    "y = data.pop('item_cnt_month')\n",
    "x = data\n",
    "\n",
    "graph.title('Unclipped Target')\n",
    "sns.distplot(np.sqrt(y[y > 0] + 1e-9), kde=False)\n",
    "graph.yscale('log')\n",
    "graph.show()\n",
    "\n",
    "graph.title('Clipped Target')\n",
    "sns.distplot(np.clip(np.sqrt(y[y > 0]), 0, 20), kde=False)\n",
    "graph.yscale('log')\n",
    "graph.show()\n",
    "\n",
    "print(y.shape, x.shape)\n",
    "display(x.sample(5), y.sample(5))"
   ]
  },
  {
   "cell_type": "code",
   "execution_count": null,
   "metadata": {},
   "outputs": [],
   "source": [
    "%%time\n",
    "x_shop_1hot = pd.get_dummies(x['shop_id'], prefix='shop_id', drop_first=True)\n",
    "display(x_shop_1hot.head())"
   ]
  },
  {
   "cell_type": "code",
   "execution_count": null,
   "metadata": {},
   "outputs": [],
   "source": [
    "# XGBoost Model"
   ]
  }
 ],
 "metadata": {
  "kernelspec": {
   "display_name": "Python 3",
   "language": "python",
   "name": "python3"
  },
  "language_info": {
   "codemirror_mode": {
    "name": "ipython",
    "version": 3
   },
   "file_extension": ".py",
   "mimetype": "text/x-python",
   "name": "python",
   "nbconvert_exporter": "python",
   "pygments_lexer": "ipython3",
   "version": "3.6.4"
  }
 },
 "nbformat": 4,
 "nbformat_minor": 2
}
