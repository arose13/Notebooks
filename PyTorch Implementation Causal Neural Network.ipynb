{
  "nbformat": 4,
  "nbformat_minor": 0,
  "metadata": {
    "colab": {
      "provenance": []
    },
    "kernelspec": {
      "name": "python3",
      "display_name": "Python 3"
    },
    "language_info": {
      "name": "python"
    },
    "widgets": {
      "application/vnd.jupyter.widget-state+json": {
        "67ea760240ed48a6a484060b6b70fb02": {
          "model_module": "@jupyter-widgets/controls",
          "model_name": "HBoxModel",
          "model_module_version": "1.5.0",
          "state": {
            "_dom_classes": [],
            "_model_module": "@jupyter-widgets/controls",
            "_model_module_version": "1.5.0",
            "_model_name": "HBoxModel",
            "_view_count": null,
            "_view_module": "@jupyter-widgets/controls",
            "_view_module_version": "1.5.0",
            "_view_name": "HBoxView",
            "box_style": "",
            "children": [
              "IPY_MODEL_a6aa57def543422eb4ec0bbb94cfac53",
              "IPY_MODEL_5ab5db1b7074461482eeee9a8677c51f",
              "IPY_MODEL_093f17b2247a4763ba6aebf1c1e824c2"
            ],
            "layout": "IPY_MODEL_0a7af5a01b324682b9f8776c87db16ec"
          }
        },
        "a6aa57def543422eb4ec0bbb94cfac53": {
          "model_module": "@jupyter-widgets/controls",
          "model_name": "HTMLModel",
          "model_module_version": "1.5.0",
          "state": {
            "_dom_classes": [],
            "_model_module": "@jupyter-widgets/controls",
            "_model_module_version": "1.5.0",
            "_model_name": "HTMLModel",
            "_view_count": null,
            "_view_module": "@jupyter-widgets/controls",
            "_view_module_version": "1.5.0",
            "_view_name": "HTMLView",
            "description": "",
            "description_tooltip": null,
            "layout": "IPY_MODEL_ed2a5cf29adb44e8b6a5a405af04fb1b",
            "placeholder": "​",
            "style": "IPY_MODEL_fa9f4e1b005f4b2f85effb41ef8ccc5a",
            "value": "i: 793 | loss: 1.88965249 | CATE: 0.483:   8%"
          }
        },
        "5ab5db1b7074461482eeee9a8677c51f": {
          "model_module": "@jupyter-widgets/controls",
          "model_name": "FloatProgressModel",
          "model_module_version": "1.5.0",
          "state": {
            "_dom_classes": [],
            "_model_module": "@jupyter-widgets/controls",
            "_model_module_version": "1.5.0",
            "_model_name": "FloatProgressModel",
            "_view_count": null,
            "_view_module": "@jupyter-widgets/controls",
            "_view_module_version": "1.5.0",
            "_view_name": "ProgressView",
            "bar_style": "danger",
            "description": "",
            "description_tooltip": null,
            "layout": "IPY_MODEL_fbf17727ad8f45a69b56127c030c5b2f",
            "max": 10000,
            "min": 0,
            "orientation": "horizontal",
            "style": "IPY_MODEL_0ec929941c9e47629ffa5ee3928a4fb9",
            "value": 793
          }
        },
        "093f17b2247a4763ba6aebf1c1e824c2": {
          "model_module": "@jupyter-widgets/controls",
          "model_name": "HTMLModel",
          "model_module_version": "1.5.0",
          "state": {
            "_dom_classes": [],
            "_model_module": "@jupyter-widgets/controls",
            "_model_module_version": "1.5.0",
            "_model_name": "HTMLModel",
            "_view_count": null,
            "_view_module": "@jupyter-widgets/controls",
            "_view_module_version": "1.5.0",
            "_view_name": "HTMLView",
            "description": "",
            "description_tooltip": null,
            "layout": "IPY_MODEL_791832e2ee584ddaaddea7df7006abad",
            "placeholder": "​",
            "style": "IPY_MODEL_a570d4e4043a4462b6531abc4072e5f7",
            "value": " 793/10000 [00:20&lt;02:15, 68.15it/s]"
          }
        },
        "0a7af5a01b324682b9f8776c87db16ec": {
          "model_module": "@jupyter-widgets/base",
          "model_name": "LayoutModel",
          "model_module_version": "1.2.0",
          "state": {
            "_model_module": "@jupyter-widgets/base",
            "_model_module_version": "1.2.0",
            "_model_name": "LayoutModel",
            "_view_count": null,
            "_view_module": "@jupyter-widgets/base",
            "_view_module_version": "1.2.0",
            "_view_name": "LayoutView",
            "align_content": null,
            "align_items": null,
            "align_self": null,
            "border": null,
            "bottom": null,
            "display": null,
            "flex": null,
            "flex_flow": null,
            "grid_area": null,
            "grid_auto_columns": null,
            "grid_auto_flow": null,
            "grid_auto_rows": null,
            "grid_column": null,
            "grid_gap": null,
            "grid_row": null,
            "grid_template_areas": null,
            "grid_template_columns": null,
            "grid_template_rows": null,
            "height": null,
            "justify_content": null,
            "justify_items": null,
            "left": null,
            "margin": null,
            "max_height": null,
            "max_width": null,
            "min_height": null,
            "min_width": null,
            "object_fit": null,
            "object_position": null,
            "order": null,
            "overflow": null,
            "overflow_x": null,
            "overflow_y": null,
            "padding": null,
            "right": null,
            "top": null,
            "visibility": null,
            "width": null
          }
        },
        "ed2a5cf29adb44e8b6a5a405af04fb1b": {
          "model_module": "@jupyter-widgets/base",
          "model_name": "LayoutModel",
          "model_module_version": "1.2.0",
          "state": {
            "_model_module": "@jupyter-widgets/base",
            "_model_module_version": "1.2.0",
            "_model_name": "LayoutModel",
            "_view_count": null,
            "_view_module": "@jupyter-widgets/base",
            "_view_module_version": "1.2.0",
            "_view_name": "LayoutView",
            "align_content": null,
            "align_items": null,
            "align_self": null,
            "border": null,
            "bottom": null,
            "display": null,
            "flex": null,
            "flex_flow": null,
            "grid_area": null,
            "grid_auto_columns": null,
            "grid_auto_flow": null,
            "grid_auto_rows": null,
            "grid_column": null,
            "grid_gap": null,
            "grid_row": null,
            "grid_template_areas": null,
            "grid_template_columns": null,
            "grid_template_rows": null,
            "height": null,
            "justify_content": null,
            "justify_items": null,
            "left": null,
            "margin": null,
            "max_height": null,
            "max_width": null,
            "min_height": null,
            "min_width": null,
            "object_fit": null,
            "object_position": null,
            "order": null,
            "overflow": null,
            "overflow_x": null,
            "overflow_y": null,
            "padding": null,
            "right": null,
            "top": null,
            "visibility": null,
            "width": null
          }
        },
        "fa9f4e1b005f4b2f85effb41ef8ccc5a": {
          "model_module": "@jupyter-widgets/controls",
          "model_name": "DescriptionStyleModel",
          "model_module_version": "1.5.0",
          "state": {
            "_model_module": "@jupyter-widgets/controls",
            "_model_module_version": "1.5.0",
            "_model_name": "DescriptionStyleModel",
            "_view_count": null,
            "_view_module": "@jupyter-widgets/base",
            "_view_module_version": "1.2.0",
            "_view_name": "StyleView",
            "description_width": ""
          }
        },
        "fbf17727ad8f45a69b56127c030c5b2f": {
          "model_module": "@jupyter-widgets/base",
          "model_name": "LayoutModel",
          "model_module_version": "1.2.0",
          "state": {
            "_model_module": "@jupyter-widgets/base",
            "_model_module_version": "1.2.0",
            "_model_name": "LayoutModel",
            "_view_count": null,
            "_view_module": "@jupyter-widgets/base",
            "_view_module_version": "1.2.0",
            "_view_name": "LayoutView",
            "align_content": null,
            "align_items": null,
            "align_self": null,
            "border": null,
            "bottom": null,
            "display": null,
            "flex": null,
            "flex_flow": null,
            "grid_area": null,
            "grid_auto_columns": null,
            "grid_auto_flow": null,
            "grid_auto_rows": null,
            "grid_column": null,
            "grid_gap": null,
            "grid_row": null,
            "grid_template_areas": null,
            "grid_template_columns": null,
            "grid_template_rows": null,
            "height": null,
            "justify_content": null,
            "justify_items": null,
            "left": null,
            "margin": null,
            "max_height": null,
            "max_width": null,
            "min_height": null,
            "min_width": null,
            "object_fit": null,
            "object_position": null,
            "order": null,
            "overflow": null,
            "overflow_x": null,
            "overflow_y": null,
            "padding": null,
            "right": null,
            "top": null,
            "visibility": null,
            "width": null
          }
        },
        "0ec929941c9e47629ffa5ee3928a4fb9": {
          "model_module": "@jupyter-widgets/controls",
          "model_name": "ProgressStyleModel",
          "model_module_version": "1.5.0",
          "state": {
            "_model_module": "@jupyter-widgets/controls",
            "_model_module_version": "1.5.0",
            "_model_name": "ProgressStyleModel",
            "_view_count": null,
            "_view_module": "@jupyter-widgets/base",
            "_view_module_version": "1.2.0",
            "_view_name": "StyleView",
            "bar_color": null,
            "description_width": ""
          }
        },
        "791832e2ee584ddaaddea7df7006abad": {
          "model_module": "@jupyter-widgets/base",
          "model_name": "LayoutModel",
          "model_module_version": "1.2.0",
          "state": {
            "_model_module": "@jupyter-widgets/base",
            "_model_module_version": "1.2.0",
            "_model_name": "LayoutModel",
            "_view_count": null,
            "_view_module": "@jupyter-widgets/base",
            "_view_module_version": "1.2.0",
            "_view_name": "LayoutView",
            "align_content": null,
            "align_items": null,
            "align_self": null,
            "border": null,
            "bottom": null,
            "display": null,
            "flex": null,
            "flex_flow": null,
            "grid_area": null,
            "grid_auto_columns": null,
            "grid_auto_flow": null,
            "grid_auto_rows": null,
            "grid_column": null,
            "grid_gap": null,
            "grid_row": null,
            "grid_template_areas": null,
            "grid_template_columns": null,
            "grid_template_rows": null,
            "height": null,
            "justify_content": null,
            "justify_items": null,
            "left": null,
            "margin": null,
            "max_height": null,
            "max_width": null,
            "min_height": null,
            "min_width": null,
            "object_fit": null,
            "object_position": null,
            "order": null,
            "overflow": null,
            "overflow_x": null,
            "overflow_y": null,
            "padding": null,
            "right": null,
            "top": null,
            "visibility": null,
            "width": null
          }
        },
        "a570d4e4043a4462b6531abc4072e5f7": {
          "model_module": "@jupyter-widgets/controls",
          "model_name": "DescriptionStyleModel",
          "model_module_version": "1.5.0",
          "state": {
            "_model_module": "@jupyter-widgets/controls",
            "_model_module_version": "1.5.0",
            "_model_name": "DescriptionStyleModel",
            "_view_count": null,
            "_view_module": "@jupyter-widgets/base",
            "_view_module_version": "1.2.0",
            "_view_name": "StyleView",
            "description_width": ""
          }
        }
      }
    }
  },
  "cells": [
    {
      "cell_type": "markdown",
      "source": [
        "# Computing the Conditional Average Treatment Effect (CATE) with Neural Networks"
      ],
      "metadata": {
        "id": "9h9_l9faEweK"
      }
    },
    {
      "cell_type": "code",
      "execution_count": 1,
      "metadata": {
        "id": "8F09549GEiMy"
      },
      "outputs": [],
      "source": [
        "import torch\n",
        "import torch.nn as nn\n",
        "import torch.nn.functional as F\n",
        "import numpy as np\n",
        "import seaborn as sns\n",
        "import matplotlib.pyplot as graph\n",
        "from scipy import stats\n",
        "from scipy.special import expit\n",
        "from sklearn.datasets import make_circles, make_moons\n",
        "from sklearn.model_selection import train_test_split\n",
        "from sklearn.metrics import accuracy_score\n",
        "from tqdm.auto import tqdm, trange\n",
        "graph.style.use('fivethirtyeight')\n",
        "graph.rcParams['lines.linewidth'] = 1"
      ]
    },
    {
      "cell_type": "code",
      "source": [
        "# Setup quick fake data\n",
        "n, p = int(1e4), 20\n",
        "treatment_effect = 0.5\n",
        "\n",
        "m = stats.norm().rvs(p)\n",
        "x = stats.norm().rvs((n, p))\n",
        "# treatment_labels = stats.bernoulli(0.2).rvs(n)  # Random assignment (Unconfounded)\n",
        "treatment_labels = expit((x[:, :5] @ m[:5]) + 2*stats.norm().rvs(n)).round()  # Conditional assignment (Confounding)\n",
        "\n",
        "y = x@m + treatment_effect*treatment_labels + stats.norm().rvs(n)\n",
        "\n",
        "print(x.shape, y.shape, treatment_labels.shape)"
      ],
      "metadata": {
        "colab": {
          "base_uri": "https://localhost:8080/"
        },
        "id": "d0fHNoSiFzmu",
        "outputId": "0d50cae5-a8c3-4ff4-8a98-68798bf4a222"
      },
      "execution_count": 2,
      "outputs": [
        {
          "output_type": "stream",
          "name": "stdout",
          "text": [
            "(10000, 20) (10000,) (10000,)\n"
          ]
        }
      ]
    },
    {
      "cell_type": "code",
      "source": [
        "# Naive Estimate\n",
        "sns.histplot(y[treatment_labels.astype(bool)], label='Treatment')\n",
        "sns.histplot(y[~treatment_labels.astype(bool)], label='Control')\n",
        "graph.legend()\n",
        "graph.show()\n",
        "\n",
        "control_mean = y[~treatment_labels.astype(bool)].mean()\n",
        "treatment_mean = y[treatment_labels.astype(bool)].mean()\n",
        "naive_causal_estimate = treatment_mean - control_mean\n",
        "\n",
        "print(f'True Treatment Effect = {treatment_effect}')\n",
        "print(f'Naive Estimate of the Treatment Effect = {naive_causal_estimate:2f}')"
      ],
      "metadata": {
        "colab": {
          "base_uri": "https://localhost:8080/",
          "height": 484
        },
        "id": "TsydFGiRF9o-",
        "outputId": "25a40ebb-d1af-4f63-85b5-158ef6a8b9dc"
      },
      "execution_count": 3,
      "outputs": [
        {
          "output_type": "display_data",
          "data": {
            "text/plain": [
              "<Figure size 640x480 with 1 Axes>"
            ],
            "image/png": "[encoded data removed]"
          },
          "metadata": {}
        },
        {
          "output_type": "stream",
          "name": "stdout",
          "text": [
            "True Treatment Effect = 0.5\n",
            "Naive Estimate of the Treatment Effect = 2.224679\n"
          ]
        }
      ]
    },
    {
      "cell_type": "markdown",
      "source": [
        "$$CATE = {1 \\over N} \\sum [ f_{treatment}(x) - f_{control}(x) ] $$\n",
        "\n",
        "$$J(\\theta) = {1 \\over N} \\sum [ (f_{t_i}(x_i) - y_i)^2 + \\mathcal{H}_{cross}(g(x_i), t_i) ] $$\n",
        "\n",
        "By optimising $J(\\theta)$ we are sure that we are optimising the CATE directly. This is both the model _must_ learn a covariate set in $Z$ that contains the information for estimating the propensity score. This should be _equivalent_ to adjusting for the propensity score."
      ],
      "metadata": {
        "id": "uPc5PYlhFZhk"
      }
    },
    {
      "cell_type": "code",
      "source": [
        "# Specify the models\n",
        "class LatentModel(nn.Module):\n",
        "    def __init__(self, input_dim, output_dim):\n",
        "        super().__init__()\n",
        "        self.input_dim = input_dim\n",
        "        self.output_dim = output_dim\n",
        "\n",
        "        self.dnn_z = nn.Sequential(\n",
        "            nn.Linear(input_dim, 75),\n",
        "            nn.ELU(),\n",
        "            nn.LazyLinear(output_dim),\n",
        "            nn.ELU(),\n",
        "        )\n",
        "\n",
        "    def forward(self, x):\n",
        "        return self.dnn_z(x)\n",
        "\n",
        "\n",
        "class PropensityModel(nn.Module):\n",
        "    def __init__(self):\n",
        "        super().__init__()\n",
        "        self.propensity = nn.Sequential(\n",
        "            nn.LazyLinear(1),\n",
        "            nn.Sigmoid(),\n",
        "        )\n",
        "\n",
        "    def forward(self, x):\n",
        "        return self.propensity(x)\n",
        "\n",
        "\n",
        "class OutcomeModel(nn.Module):\n",
        "    def __init__(self):\n",
        "        super().__init__()\n",
        "        self.outcome_dnn = nn.Sequential(\n",
        "            nn.LazyLinear(75),\n",
        "            nn.ELU(),\n",
        "            nn.LazyLinear(1),\n",
        "        )\n",
        "\n",
        "    def forward(self, x):\n",
        "        return self.outcome_dnn(x)\n",
        "\n",
        "# Contruct the model\n",
        "class CausalModel(nn.Module):\n",
        "    def __init__(self, input_dim):\n",
        "        super().__init__()\n",
        "        self.input_dim = input_dim\n",
        "\n",
        "        # Required modules\n",
        "        self.z_model = LatentModel(input_dim, 1)\n",
        "        self.propensity_model = PropensityModel()\n",
        "        self.q_given_treamtent = OutcomeModel()\n",
        "        self.q_given_control = OutcomeModel()\n",
        "\n",
        "    def forward(self, x):\n",
        "        z = self.z_model(x)\n",
        "        g = self.propensity_model(z)\n",
        "        q_t = self.q_given_treamtent(z)\n",
        "        q_c = self.q_given_control(z)\n",
        "        return g, q_t, q_c\n",
        "\n",
        "    def propensity(self, x):\n",
        "        z = self.z_model(x)\n",
        "        g = self.propensity_model(x)\n",
        "        return g\n",
        "\n",
        "    def q(self, x, given):\n",
        "        z = self.z_model(x)\n",
        "        if given.lower() == 't':\n",
        "            return self.q_given_treamtent(x)\n",
        "        elif given.lower() == 'c':\n",
        "            return self.q_given_control(x)\n",
        "\n",
        "    def ite(self, x):\n",
        "        z = self.z_model(x)\n",
        "        return self.q_given_treamtent(z) - self.q_given_control(z)\n",
        "\n",
        "class CausalLoss(nn.modules.loss._Loss):\n",
        "    def __init__(self):\n",
        "        super().__init__()\n",
        "\n",
        "    def forward(self, g_hat, is_treatment, qt_hat, qc_hat, y_true):\n",
        "        # Q MSE terms\n",
        "        treatment_mse = (is_treatment) * (qt_hat - y_true)**2\n",
        "        control_mse = (1-is_treatment) * (qc_hat - y_true)**2\n",
        "        q_mse = torch.mean(treatment_mse) + torch.mean(control_mse)\n",
        "\n",
        "        # Binary cross entropy term\n",
        "        g_entropy = F.binary_cross_entropy(g_hat, is_treatment)\n",
        "\n",
        "        return q_mse + g_entropy"
      ],
      "metadata": {
        "id": "aiRKNmHIE6R6"
      },
      "execution_count": 4,
      "outputs": []
    },
    {
      "cell_type": "code",
      "source": [
        "# Contruct the model\n",
        "causal_model = CausalModel(p)\n",
        "optimizer = torch.optim.Adam(causal_model.parameters(), lr=1e-3)\n",
        "loss_func = CausalLoss()\n",
        "\n",
        "# Prep model data\n",
        "x_train, x_test, y_train, y_test, is_treatment_train, is_treatment_test = train_test_split(\n",
        "    x, y, treatment_labels,\n",
        "    test_size=0.2\n",
        ")\n",
        "x_train = torch.from_numpy(x_train).float()\n",
        "y_train = torch.from_numpy(y_train.reshape(-1, 1)).float()\n",
        "x_test = torch.from_numpy(x_test).float()\n",
        "y_test = torch.from_numpy(y_test.reshape(-1, 1)).float()\n",
        "is_treatment_train = torch.from_numpy(is_treatment_train.reshape(-1, 1)).float()\n",
        "is_treatment_test = torch.from_numpy(is_treatment_test.reshape(-1, 1)).float()"
      ],
      "metadata": {
        "colab": {
          "base_uri": "https://localhost:8080/"
        },
        "id": "DFEv0xncHpvj",
        "outputId": "6c136610-7470-4f79-911c-11dd1b0cbff5"
      },
      "execution_count": 5,
      "outputs": [
        {
          "output_type": "stream",
          "name": "stderr",
          "text": [
            "/usr/local/lib/python3.10/dist-packages/torch/nn/modules/lazy.py:180: UserWarning: Lazy modules are a new feature under heavy development so changes to the API or functionality can happen at any moment.\n",
            "  warnings.warn('Lazy modules are a new feature under heavy development '\n"
          ]
        }
      ]
    },
    {
      "cell_type": "code",
      "source": [
        "# Training loop\n",
        "n_epochs = int(10e3)\n",
        "hist = []\n",
        "best_epoch = 0\n",
        "best_loss = float('inf')\n",
        "iterator = trange(n_epochs)\n",
        "for epoch in iterator:\n",
        "    # Forward pass\n",
        "    g_hat, qt_hat, qc_hat = causal_model(x_train)\n",
        "    loss_i = loss_func(g_hat, is_treatment_train, qt_hat, qc_hat, y_train)\n",
        "\n",
        "    # Backward pass\n",
        "    optimizer.zero_grad()\n",
        "    loss_i.backward()\n",
        "    optimizer.step()\n",
        "\n",
        "    # Evaluate\n",
        "    with torch.inference_mode():\n",
        "        g_hat_test, qt_hat_test, qc_hat_test = causal_model(x_test)\n",
        "        hist.append((\n",
        "            loss_func(\n",
        "                g_hat_test,\n",
        "                is_treatment_test,\n",
        "                qt_hat_test,\n",
        "                qc_hat_test,\n",
        "                y_test\n",
        "            ),\n",
        "            torch.mean(causal_model.ite(x_test))\n",
        "        ))\n",
        "        iterator.set_description(f'i: {epoch:,} | loss: {hist[-1][0].numpy():.8f} | CATE: {hist[-1][1].numpy():.3f}')\n",
        "        if hist[-1][0] < best_loss:\n",
        "            best_loss = hist[-1][0]\n",
        "            best_epoch = epoch\n",
        "        elif (epoch - best_epoch) > 10:\n",
        "            print(f'Early stopping at epoch {epoch:,}')\n",
        "            break"
      ],
      "metadata": {
        "colab": {
          "base_uri": "https://localhost:8080/",
          "height": 66,
          "referenced_widgets": [
            "67ea760240ed48a6a484060b6b70fb02",
            "a6aa57def543422eb4ec0bbb94cfac53",
            "5ab5db1b7074461482eeee9a8677c51f",
            "093f17b2247a4763ba6aebf1c1e824c2",
            "0a7af5a01b324682b9f8776c87db16ec",
            "ed2a5cf29adb44e8b6a5a405af04fb1b",
            "fa9f4e1b005f4b2f85effb41ef8ccc5a",
            "fbf17727ad8f45a69b56127c030c5b2f",
            "0ec929941c9e47629ffa5ee3928a4fb9",
            "791832e2ee584ddaaddea7df7006abad",
            "a570d4e4043a4462b6531abc4072e5f7"
          ]
        },
        "id": "AyMt9_BmOgBQ",
        "outputId": "6532783b-eaa5-4b47-a246-694f192f7388"
      },
      "execution_count": 6,
      "outputs": [
        {
          "output_type": "display_data",
          "data": {
            "text/plain": [
              "  0%|          | 0/10000 [00:00<?, ?it/s]"
            ],
            "application/vnd.jupyter.widget-view+json": {
              "version_major": 2,
              "version_minor": 0,
              "model_id": "67ea760240ed48a6a484060b6b70fb02"
            }
          },
          "metadata": {}
        },
        {
          "output_type": "stream",
          "name": "stdout",
          "text": [
            "Early stopping at epoch 793\n"
          ]
        }
      ]
    },
    {
      "cell_type": "code",
      "source": [
        "graph.plot(np.array([t[0].numpy() for t in hist]), label='Causal Model')\n",
        "# graph.yscale('log')\n",
        "graph.ylabel('Causal Loss')\n",
        "graph.legend()\n",
        "graph.show()\n",
        "\n",
        "graph.plot(np.array([t[1].numpy() for t in hist]), label='Causal Model')\n",
        "graph.ylabel('CATE')\n",
        "graph.legend()\n",
        "graph.show()"
      ],
      "metadata": {
        "colab": {
          "base_uri": "https://localhost:8080/",
          "height": 881
        },
        "id": "0yu1ZRaQQ2ba",
        "outputId": "7facb8b8-0384-47bb-dab9-b6fa61b56ed1"
      },
      "execution_count": 7,
      "outputs": [
        {
          "output_type": "display_data",
          "data": {
            "text/plain": [
              "<Figure size 640x480 with 1 Axes>"
            ],
            "image/png": "[encoded data removed]"
          },
          "metadata": {}
        },
        {
          "output_type": "display_data",
          "data": {
            "text/plain": [
              "<Figure size 640x480 with 1 Axes>"
            ],
            "image/png": "[encoded data removed]"
          },
          "metadata": {}
        }
      ]
    },
    {
      "cell_type": "markdown",
      "source": [
        "_Stephen Anthony Rose_"
      ],
      "metadata": {
        "id": "o5QUJhbyZAW5"
      }
    }
  ]
}