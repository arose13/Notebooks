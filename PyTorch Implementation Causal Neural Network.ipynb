{
  "nbformat": 4,
  "nbformat_minor": 0,
  "metadata": {
    "colab": {
      "provenance": []
    },
    "kernelspec": {
      "name": "python3",
      "display_name": "Python 3"
    },
    "language_info": {
      "name": "python"
    },
    "widgets": {
      "application/vnd.jupyter.widget-state+json": {
        "21f580a934244ab7a7dc81f7c3a96056": {
          "model_module": "@jupyter-widgets/controls",
          "model_name": "HBoxModel",
          "model_module_version": "1.5.0",
          "state": {
            "_dom_classes": [],
            "_model_module": "@jupyter-widgets/controls",
            "_model_module_version": "1.5.0",
            "_model_name": "HBoxModel",
            "_view_count": null,
            "_view_module": "@jupyter-widgets/controls",
            "_view_module_version": "1.5.0",
            "_view_name": "HBoxView",
            "box_style": "",
            "children": [
              "IPY_MODEL_50447b13c0c74893827782b8f43b08ac",
              "IPY_MODEL_aac9cd8d6dc34800978158a61142cc12",
              "IPY_MODEL_eb7514eaef82491b876c3428398d36e8"
            ],
            "layout": "IPY_MODEL_0ed15cb565a04b2cb2e623396d188215"
          }
        },
        "50447b13c0c74893827782b8f43b08ac": {
          "model_module": "@jupyter-widgets/controls",
          "model_name": "HTMLModel",
          "model_module_version": "1.5.0",
          "state": {
            "_dom_classes": [],
            "_model_module": "@jupyter-widgets/controls",
            "_model_module_version": "1.5.0",
            "_model_name": "HTMLModel",
            "_view_count": null,
            "_view_module": "@jupyter-widgets/controls",
            "_view_module_version": "1.5.0",
            "_view_name": "HTMLView",
            "description": "",
            "description_tooltip": null,
            "layout": "IPY_MODEL_69f92189a487448aa767238307afa650",
            "placeholder": "​",
            "style": "IPY_MODEL_5118328b79b547fba4494e6c27a11653",
            "value": "i: 551 | loss: 1.85329592 | CATE: 0.472:   6%"
          }
        },
        "aac9cd8d6dc34800978158a61142cc12": {
          "model_module": "@jupyter-widgets/controls",
          "model_name": "FloatProgressModel",
          "model_module_version": "1.5.0",
          "state": {
            "_dom_classes": [],
            "_model_module": "@jupyter-widgets/controls",
            "_model_module_version": "1.5.0",
            "_model_name": "FloatProgressModel",
            "_view_count": null,
            "_view_module": "@jupyter-widgets/controls",
            "_view_module_version": "1.5.0",
            "_view_name": "ProgressView",
            "bar_style": "danger",
            "description": "",
            "description_tooltip": null,
            "layout": "IPY_MODEL_53d3bbac346340b28da726ea2fa627e5",
            "max": 10000,
            "min": 0,
            "orientation": "horizontal",
            "style": "IPY_MODEL_f56deae597074424a12415307fa643b1",
            "value": 551
          }
        },
        "eb7514eaef82491b876c3428398d36e8": {
          "model_module": "@jupyter-widgets/controls",
          "model_name": "HTMLModel",
          "model_module_version": "1.5.0",
          "state": {
            "_dom_classes": [],
            "_model_module": "@jupyter-widgets/controls",
            "_model_module_version": "1.5.0",
            "_model_name": "HTMLModel",
            "_view_count": null,
            "_view_module": "@jupyter-widgets/controls",
            "_view_module_version": "1.5.0",
            "_view_name": "HTMLView",
            "description": "",
            "description_tooltip": null,
            "layout": "IPY_MODEL_852fb823cba84da8b030b089deeecc5c",
            "placeholder": "​",
            "style": "IPY_MODEL_e5427b39c9f8478d988d0be4a8dbd40f",
            "value": " 551/10000 [00:35&lt;05:30, 28.63it/s]"
          }
        },
        "0ed15cb565a04b2cb2e623396d188215": {
          "model_module": "@jupyter-widgets/base",
          "model_name": "LayoutModel",
          "model_module_version": "1.2.0",
          "state": {
            "_model_module": "@jupyter-widgets/base",
            "_model_module_version": "1.2.0",
            "_model_name": "LayoutModel",
            "_view_count": null,
            "_view_module": "@jupyter-widgets/base",
            "_view_module_version": "1.2.0",
            "_view_name": "LayoutView",
            "align_content": null,
            "align_items": null,
            "align_self": null,
            "border": null,
            "bottom": null,
            "display": null,
            "flex": null,
            "flex_flow": null,
            "grid_area": null,
            "grid_auto_columns": null,
            "grid_auto_flow": null,
            "grid_auto_rows": null,
            "grid_column": null,
            "grid_gap": null,
            "grid_row": null,
            "grid_template_areas": null,
            "grid_template_columns": null,
            "grid_template_rows": null,
            "height": null,
            "justify_content": null,
            "justify_items": null,
            "left": null,
            "margin": null,
            "max_height": null,
            "max_width": null,
            "min_height": null,
            "min_width": null,
            "object_fit": null,
            "object_position": null,
            "order": null,
            "overflow": null,
            "overflow_x": null,
            "overflow_y": null,
            "padding": null,
            "right": null,
            "top": null,
            "visibility": null,
            "width": null
          }
        },
        "69f92189a487448aa767238307afa650": {
          "model_module": "@jupyter-widgets/base",
          "model_name": "LayoutModel",
          "model_module_version": "1.2.0",
          "state": {
            "_model_module": "@jupyter-widgets/base",
            "_model_module_version": "1.2.0",
            "_model_name": "LayoutModel",
            "_view_count": null,
            "_view_module": "@jupyter-widgets/base",
            "_view_module_version": "1.2.0",
            "_view_name": "LayoutView",
            "align_content": null,
            "align_items": null,
            "align_self": null,
            "border": null,
            "bottom": null,
            "display": null,
            "flex": null,
            "flex_flow": null,
            "grid_area": null,
            "grid_auto_columns": null,
            "grid_auto_flow": null,
            "grid_auto_rows": null,
            "grid_column": null,
            "grid_gap": null,
            "grid_row": null,
            "grid_template_areas": null,
            "grid_template_columns": null,
            "grid_template_rows": null,
            "height": null,
            "justify_content": null,
            "justify_items": null,
            "left": null,
            "margin": null,
            "max_height": null,
            "max_width": null,
            "min_height": null,
            "min_width": null,
            "object_fit": null,
            "object_position": null,
            "order": null,
            "overflow": null,
            "overflow_x": null,
            "overflow_y": null,
            "padding": null,
            "right": null,
            "top": null,
            "visibility": null,
            "width": null
          }
        },
        "5118328b79b547fba4494e6c27a11653": {
          "model_module": "@jupyter-widgets/controls",
          "model_name": "DescriptionStyleModel",
          "model_module_version": "1.5.0",
          "state": {
            "_model_module": "@jupyter-widgets/controls",
            "_model_module_version": "1.5.0",
            "_model_name": "DescriptionStyleModel",
            "_view_count": null,
            "_view_module": "@jupyter-widgets/base",
            "_view_module_version": "1.2.0",
            "_view_name": "StyleView",
            "description_width": ""
          }
        },
        "53d3bbac346340b28da726ea2fa627e5": {
          "model_module": "@jupyter-widgets/base",
          "model_name": "LayoutModel",
          "model_module_version": "1.2.0",
          "state": {
            "_model_module": "@jupyter-widgets/base",
            "_model_module_version": "1.2.0",
            "_model_name": "LayoutModel",
            "_view_count": null,
            "_view_module": "@jupyter-widgets/base",
            "_view_module_version": "1.2.0",
            "_view_name": "LayoutView",
            "align_content": null,
            "align_items": null,
            "align_self": null,
            "border": null,
            "bottom": null,
            "display": null,
            "flex": null,
            "flex_flow": null,
            "grid_area": null,
            "grid_auto_columns": null,
            "grid_auto_flow": null,
            "grid_auto_rows": null,
            "grid_column": null,
            "grid_gap": null,
            "grid_row": null,
            "grid_template_areas": null,
            "grid_template_columns": null,
            "grid_template_rows": null,
            "height": null,
            "justify_content": null,
            "justify_items": null,
            "left": null,
            "margin": null,
            "max_height": null,
            "max_width": null,
            "min_height": null,
            "min_width": null,
            "object_fit": null,
            "object_position": null,
            "order": null,
            "overflow": null,
            "overflow_x": null,
            "overflow_y": null,
            "padding": null,
            "right": null,
            "top": null,
            "visibility": null,
            "width": null
          }
        },
        "f56deae597074424a12415307fa643b1": {
          "model_module": "@jupyter-widgets/controls",
          "model_name": "ProgressStyleModel",
          "model_module_version": "1.5.0",
          "state": {
            "_model_module": "@jupyter-widgets/controls",
            "_model_module_version": "1.5.0",
            "_model_name": "ProgressStyleModel",
            "_view_count": null,
            "_view_module": "@jupyter-widgets/base",
            "_view_module_version": "1.2.0",
            "_view_name": "StyleView",
            "bar_color": null,
            "description_width": ""
          }
        },
        "852fb823cba84da8b030b089deeecc5c": {
          "model_module": "@jupyter-widgets/base",
          "model_name": "LayoutModel",
          "model_module_version": "1.2.0",
          "state": {
            "_model_module": "@jupyter-widgets/base",
            "_model_module_version": "1.2.0",
            "_model_name": "LayoutModel",
            "_view_count": null,
            "_view_module": "@jupyter-widgets/base",
            "_view_module_version": "1.2.0",
            "_view_name": "LayoutView",
            "align_content": null,
            "align_items": null,
            "align_self": null,
            "border": null,
            "bottom": null,
            "display": null,
            "flex": null,
            "flex_flow": null,
            "grid_area": null,
            "grid_auto_columns": null,
            "grid_auto_flow": null,
            "grid_auto_rows": null,
            "grid_column": null,
            "grid_gap": null,
            "grid_row": null,
            "grid_template_areas": null,
            "grid_template_columns": null,
            "grid_template_rows": null,
            "height": null,
            "justify_content": null,
            "justify_items": null,
            "left": null,
            "margin": null,
            "max_height": null,
            "max_width": null,
            "min_height": null,
            "min_width": null,
            "object_fit": null,
            "object_position": null,
            "order": null,
            "overflow": null,
            "overflow_x": null,
            "overflow_y": null,
            "padding": null,
            "right": null,
            "top": null,
            "visibility": null,
            "width": null
          }
        },
        "e5427b39c9f8478d988d0be4a8dbd40f": {
          "model_module": "@jupyter-widgets/controls",
          "model_name": "DescriptionStyleModel",
          "model_module_version": "1.5.0",
          "state": {
            "_model_module": "@jupyter-widgets/controls",
            "_model_module_version": "1.5.0",
            "_model_name": "DescriptionStyleModel",
            "_view_count": null,
            "_view_module": "@jupyter-widgets/base",
            "_view_module_version": "1.2.0",
            "_view_name": "StyleView",
            "description_width": ""
          }
        }
      }
    }
  },
  "cells": [
    {
      "cell_type": "code",
      "source": [
        "%%bash\n",
        "pip install torchview"
      ],
      "metadata": {
        "colab": {
          "base_uri": "https://localhost:8080/"
        },
        "id": "FNLYB-fAAwq8",
        "outputId": "9cd77188-a4ca-4af8-983f-6a879c97e11a"
      },
      "execution_count": 1,
      "outputs": [
        {
          "output_type": "stream",
          "name": "stdout",
          "text": [
            "Requirement already satisfied: torchview in /usr/local/lib/python3.10/dist-packages (0.2.6)\n"
          ]
        }
      ]
    },
    {
      "cell_type": "markdown",
      "source": [
        "# Computing the Conditional Average Treatment Effect (CATE) with Neural Networks"
      ],
      "metadata": {
        "id": "9h9_l9faEweK"
      }
    },
    {
      "cell_type": "code",
      "execution_count": 2,
      "metadata": {
        "id": "8F09549GEiMy"
      },
      "outputs": [],
      "source": [
        "import torch\n",
        "import torch.nn as nn\n",
        "import torch.nn.functional as F\n",
        "import numpy as np\n",
        "import seaborn as sns\n",
        "import matplotlib.pyplot as graph\n",
        "from scipy import stats\n",
        "from scipy.special import expit\n",
        "from sklearn.datasets import make_circles, make_moons\n",
        "from sklearn.model_selection import train_test_split\n",
        "from sklearn.metrics import accuracy_score\n",
        "from tqdm.auto import tqdm, trange\n",
        "from torchview import draw_graph\n",
        "from IPython.display import Markdown\n",
        "graph.style.use('fivethirtyeight')\n",
        "graph.rcParams['lines.linewidth'] = 1"
      ]
    },
    {
      "cell_type": "code",
      "source": [
        "# Setup quick fake data\n",
        "n, p = int(1e4), 20\n",
        "treatment_effect = 0.5\n",
        "\n",
        "m = stats.norm().rvs(p)\n",
        "x = stats.norm().rvs((n, p))\n",
        "# treatment_labels = stats.bernoulli(0.2).rvs(n)  # Random assignment (Unconfounded)\n",
        "treatment_labels = expit((x[:, :5] @ m[:5]) + 2*stats.norm().rvs(n)).round()  # Conditional assignment (Confounding)\n",
        "\n",
        "y = x@m + treatment_effect*treatment_labels + stats.norm().rvs(n)\n",
        "\n",
        "print(x.shape, y.shape, treatment_labels.shape)"
      ],
      "metadata": {
        "colab": {
          "base_uri": "https://localhost:8080/"
        },
        "id": "d0fHNoSiFzmu",
        "outputId": "972d36ec-df8e-4cb5-bd05-de81ea800fc6"
      },
      "execution_count": 3,
      "outputs": [
        {
          "output_type": "stream",
          "name": "stdout",
          "text": [
            "(10000, 20) (10000,) (10000,)\n"
          ]
        }
      ]
    },
    {
      "cell_type": "code",
      "source": [
        "# Naive Estimate\n",
        "sns.histplot(y[treatment_labels.astype(bool)], label='Treatment')\n",
        "sns.histplot(y[~treatment_labels.astype(bool)], label='Control')\n",
        "graph.legend()\n",
        "graph.show()\n",
        "\n",
        "control_mean = y[~treatment_labels.astype(bool)].mean()\n",
        "treatment_mean = y[treatment_labels.astype(bool)].mean()\n",
        "naive_causal_estimate = treatment_mean - control_mean\n",
        "\n",
        "print(f'True Treatment Effect = {treatment_effect}')\n",
        "print(f'Naive Estimate of the Treatment Effect = {naive_causal_estimate:2f}')"
      ],
      "metadata": {
        "colab": {
          "base_uri": "https://localhost:8080/",
          "height": 484
        },
        "id": "TsydFGiRF9o-",
        "outputId": "88b1df9d-4d03-46d0-a57c-463d91f18d57"
      },
      "execution_count": 4,
      "outputs": [
        {
          "output_type": "display_data",
          "data": {
            "text/plain": [
              "<Figure size 640x480 with 1 Axes>"
            ],
            "image/png": "[encoded data removed]"
          },
          "metadata": {}
        },
        {
          "output_type": "stream",
          "name": "stdout",
          "text": [
            "True Treatment Effect = 0.5\n",
            "Naive Estimate of the Treatment Effect = 4.522126\n"
          ]
        }
      ]
    },
    {
      "cell_type": "markdown",
      "source": [
        "$$CATE = {1 \\over N} \\sum [ f_{treatment}(x) - f_{control}(x) ] $$\n",
        "\n",
        "$$J(\\theta) = {1 \\over N} \\sum [ (f_{t_i}(x_i) - y_i)^2 + \\mathcal{H}_{cross}(g(x_i), t_i) ] $$\n",
        "\n",
        "By optimising $J(\\theta)$ we are sure that we are optimising the CATE directly. This is both the model _must_ learn a covariate set in $Z$ that contains the information for estimating the propensity score. This should be _equivalent_ to adjusting for the propensity score."
      ],
      "metadata": {
        "id": "uPc5PYlhFZhk"
      }
    },
    {
      "cell_type": "code",
      "source": [
        "# Specify the models\n",
        "class LatentModel(nn.Module):\n",
        "    def __init__(self, input_dim, output_dim):\n",
        "        super().__init__()\n",
        "        self.input_dim = input_dim\n",
        "        self.output_dim = output_dim\n",
        "\n",
        "        self.dnn_z = nn.Sequential(\n",
        "            nn.Linear(input_dim, 75),\n",
        "            nn.ELU(),\n",
        "            nn.BatchNorm1d(75),\n",
        "            nn.LazyLinear(output_dim),\n",
        "            nn.ELU(),\n",
        "            nn.BatchNorm1d(output_dim)\n",
        "        )\n",
        "\n",
        "    def forward(self, x):\n",
        "        return self.dnn_z(x)\n",
        "\n",
        "\n",
        "class PropensityModel(nn.Module):\n",
        "    def __init__(self):\n",
        "        super().__init__()\n",
        "        self.propensity = nn.Sequential(\n",
        "            nn.LazyLinear(1),\n",
        "            nn.Sigmoid(),\n",
        "        )\n",
        "\n",
        "    def forward(self, x):\n",
        "        return self.propensity(x)\n",
        "\n",
        "\n",
        "class OutcomeModel(nn.Module):\n",
        "    def __init__(self):\n",
        "        super().__init__()\n",
        "        self.outcome_dnn = nn.Sequential(\n",
        "            nn.LazyLinear(75),\n",
        "            nn.ELU(),\n",
        "            nn.LazyLinear(1),\n",
        "        )\n",
        "\n",
        "    def forward(self, x):\n",
        "        return self.outcome_dnn(x)\n",
        "\n",
        "# Contruct the model\n",
        "class CausalModel(nn.Module):\n",
        "    def __init__(self, input_dim):\n",
        "        super().__init__()\n",
        "        self.input_dim = input_dim\n",
        "\n",
        "        # Required modules\n",
        "        self.z_model = LatentModel(input_dim, 1)\n",
        "        self.propensity_model = PropensityModel()\n",
        "        self.q_given_treamtent = OutcomeModel()\n",
        "        self.q_given_control = OutcomeModel()\n",
        "\n",
        "    def forward(self, x):\n",
        "        z = self.z_model(x)\n",
        "        g = self.propensity_model(z)\n",
        "        q_t = self.q_given_treamtent(z)\n",
        "        q_c = self.q_given_control(z)\n",
        "        return g, q_t, q_c\n",
        "\n",
        "    def propensity(self, x):\n",
        "        z = self.z_model(x)\n",
        "        g = self.propensity_model(x)\n",
        "        return g\n",
        "\n",
        "    def q(self, x, given):\n",
        "        z = self.z_model(x)\n",
        "        if given.lower() == 't':\n",
        "            return self.q_given_treamtent(x)\n",
        "        elif given.lower() == 'c':\n",
        "            return self.q_given_control(x)\n",
        "\n",
        "    def ite(self, x):\n",
        "        z = self.z_model(x)\n",
        "        return self.q_given_treamtent(z) - self.q_given_control(z)\n",
        "\n",
        "class CausalLoss(nn.modules.loss._Loss):\n",
        "    def __init__(self):\n",
        "        super().__init__()\n",
        "\n",
        "    def forward(self, g_hat, is_treatment, qt_hat, qc_hat, y_true):\n",
        "        # Q MSE terms\n",
        "        treatment_mse = (is_treatment) * (qt_hat - y_true)**2\n",
        "        control_mse = (1-is_treatment) * (qc_hat - y_true)**2\n",
        "        q_mse = torch.mean(treatment_mse) + torch.mean(control_mse)\n",
        "\n",
        "        # Binary cross entropy term\n",
        "        g_entropy = F.binary_cross_entropy(g_hat, is_treatment)\n",
        "\n",
        "        return q_mse + g_entropy"
      ],
      "metadata": {
        "id": "aiRKNmHIE6R6"
      },
      "execution_count": 5,
      "outputs": []
    },
    {
      "cell_type": "code",
      "source": [
        "# Contruct the model\n",
        "causal_model = CausalModel(p)\n",
        "optimizer = torch.optim.Adam(causal_model.parameters(), lr=1e-3)\n",
        "loss_func = CausalLoss()\n",
        "\n",
        "# Prep model data\n",
        "x_train, x_test, y_train, y_test, is_treatment_train, is_treatment_test = train_test_split(\n",
        "    x, y, treatment_labels,\n",
        "    test_size=0.2\n",
        ")\n",
        "x_train = torch.from_numpy(x_train).float()\n",
        "y_train = torch.from_numpy(y_train.reshape(-1, 1)).float()\n",
        "x_test = torch.from_numpy(x_test).float()\n",
        "y_test = torch.from_numpy(y_test.reshape(-1, 1)).float()\n",
        "is_treatment_train = torch.from_numpy(is_treatment_train.reshape(-1, 1)).float()\n",
        "is_treatment_test = torch.from_numpy(is_treatment_test.reshape(-1, 1)).float()"
      ],
      "metadata": {
        "colab": {
          "base_uri": "https://localhost:8080/"
        },
        "id": "DFEv0xncHpvj",
        "outputId": "b142ccc9-7e7e-4881-daa0-e7b6f69bdbd5"
      },
      "execution_count": 6,
      "outputs": [
        {
          "output_type": "stream",
          "name": "stderr",
          "text": [
            "/usr/local/lib/python3.10/dist-packages/torch/nn/modules/lazy.py:180: UserWarning: Lazy modules are a new feature under heavy development so changes to the API or functionality can happen at any moment.\n",
            "  warnings.warn('Lazy modules are a new feature under heavy development '\n"
          ]
        }
      ]
    },
    {
      "cell_type": "code",
      "source": [
        "display(Markdown('## Model Summary'))\n",
        "display(draw_graph(causal_model, input_size=x_train.shape, depth=1).visual_graph)\n",
        "\n",
        "display(Markdown('## Model'))\n",
        "display(draw_graph(causal_model, input_size=x_train.shape, expand_nested=True).visual_graph)"
      ],
      "metadata": {
        "colab": {
          "base_uri": "https://localhost:8080/",
          "height": 1000
        },
        "id": "f98YW6XcAldz",
        "outputId": "b2cb193c-4b66-45c5-c018-f198e260349e"
      },
      "execution_count": 7,
      "outputs": [
        {
          "output_type": "display_data",
          "data": {
            "text/plain": [
              "<IPython.core.display.Markdown object>"
            ],
            "text/markdown": "## Model Summary"
          },
          "metadata": {}
        },
        {
          "output_type": "display_data",
          "data": {
            "image/svg+xml": "<?xml version=\"1.0\" encoding=\"UTF-8\" standalone=\"no\"?>\n<!DOCTYPE svg PUBLIC \"-//W3C//DTD SVG 1.1//EN\"\n \"http://www.w3.org/Graphics/SVG/1.1/DTD/svg11.dtd\">\n<!-- Generated by graphviz version 2.43.0 (0)\n -->\n<!-- Title: model Pages: 1 -->\n<svg width=\"701pt\" height=\"264pt\"\n viewBox=\"0.00 0.00 701.00 264.00\" xmlns=\"http://www.w3.org/2000/svg\" xmlns:xlink=\"http://www.w3.org/1999/xlink\">\n<g id=\"graph0\" class=\"graph\" transform=\"scale(1 1) rotate(0) translate(4 260)\">\n<title>model</title>\n<polygon fill=\"white\" stroke=\"transparent\" points=\"-4,4 -4,-260 697,-260 697,4 -4,4\"/>\n<!-- 0 -->\n<g id=\"node1\" class=\"node\">\n<title>0</title>\n<polygon fill=\"lightyellow\" stroke=\"transparent\" points=\"432.5,-256 278.5,-256 278.5,-224 432.5,-224 432.5,-256\"/>\n<polygon fill=\"none\" stroke=\"black\" points=\"278.5,-224 278.5,-256 361.5,-256 361.5,-224 278.5,-224\"/>\n<text text-anchor=\"start\" x=\"283.5\" y=\"-243\" font-family=\"Linux libertine\" font-size=\"10.00\">input&#45;tensor</text>\n<text text-anchor=\"start\" x=\"298.5\" y=\"-232\" font-family=\"Linux libertine\" font-size=\"10.00\">depth:0</text>\n<polygon fill=\"none\" stroke=\"black\" points=\"361.5,-224 361.5,-256 432.5,-256 432.5,-224 361.5,-224\"/>\n<text text-anchor=\"start\" x=\"366.5\" y=\"-237.5\" font-family=\"Linux libertine\" font-size=\"10.00\">(8000, 20)</text>\n</g>\n<!-- 1 -->\n<g id=\"node2\" class=\"node\">\n<title>1</title>\n<polygon fill=\"#c1ffc1\" stroke=\"transparent\" points=\"462,-188 249,-188 249,-146 462,-146 462,-188\"/>\n<polygon fill=\"none\" stroke=\"black\" points=\"249.5,-146 249.5,-188 326.5,-188 326.5,-146 249.5,-146\"/>\n<text text-anchor=\"start\" x=\"254.5\" y=\"-170\" font-family=\"Linux libertine\" font-size=\"10.00\">LatentModel</text>\n<text text-anchor=\"start\" x=\"266.5\" y=\"-159\" font-family=\"Linux libertine\" font-size=\"10.00\">depth:1</text>\n<polygon fill=\"none\" stroke=\"black\" points=\"326.5,-167 326.5,-188 385.5,-188 385.5,-167 326.5,-167\"/>\n<text text-anchor=\"start\" x=\"337.5\" y=\"-175\" font-family=\"Linux libertine\" font-size=\"10.00\">input:</text>\n<polygon fill=\"none\" stroke=\"black\" points=\"385.5,-167 385.5,-188 462.5,-188 462.5,-167 385.5,-167\"/>\n<text text-anchor=\"start\" x=\"390.5\" y=\"-175\" font-family=\"Linux libertine\" font-size=\"10.00\">(8000, 20) </text>\n<polygon fill=\"none\" stroke=\"black\" points=\"326.5,-146 326.5,-167 385.5,-167 385.5,-146 326.5,-146\"/>\n<text text-anchor=\"start\" x=\"331.5\" y=\"-154\" font-family=\"Linux libertine\" font-size=\"10.00\">output: </text>\n<polygon fill=\"none\" stroke=\"black\" points=\"385.5,-146 385.5,-167 462.5,-167 462.5,-146 385.5,-146\"/>\n<text text-anchor=\"start\" x=\"393.5\" y=\"-154\" font-family=\"Linux libertine\" font-size=\"10.00\">(8000, 1) </text>\n</g>\n<!-- 0&#45;&gt;1 -->\n<g id=\"edge1\" class=\"edge\">\n<title>0&#45;&gt;1</title>\n<path fill=\"none\" stroke=\"black\" d=\"M355.5,-223.94C355.5,-216.45 355.5,-207.12 355.5,-198.24\"/>\n<polygon fill=\"black\" stroke=\"black\" points=\"359,-198.16 355.5,-188.16 352,-198.16 359,-198.16\"/>\n</g>\n<!-- 2 -->\n<g id=\"node3\" class=\"node\">\n<title>2</title>\n<polygon fill=\"#c1ffc1\" stroke=\"transparent\" points=\"231,-110 0,-110 0,-68 231,-68 231,-110\"/>\n<polygon fill=\"none\" stroke=\"black\" points=\"0.5,-68 0.5,-110 101.5,-110 101.5,-68 0.5,-68\"/>\n<text text-anchor=\"start\" x=\"5.5\" y=\"-92\" font-family=\"Linux libertine\" font-size=\"10.00\">PropensityModel</text>\n<text text-anchor=\"start\" x=\"29.5\" y=\"-81\" font-family=\"Linux libertine\" font-size=\"10.00\">depth:1</text>\n<polygon fill=\"none\" stroke=\"black\" points=\"101.5,-89 101.5,-110 160.5,-110 160.5,-89 101.5,-89\"/>\n<text text-anchor=\"start\" x=\"112.5\" y=\"-97\" font-family=\"Linux libertine\" font-size=\"10.00\">input:</text>\n<polygon fill=\"none\" stroke=\"black\" points=\"160.5,-89 160.5,-110 231.5,-110 231.5,-89 160.5,-89\"/>\n<text text-anchor=\"start\" x=\"165.5\" y=\"-97\" font-family=\"Linux libertine\" font-size=\"10.00\">(8000, 1) </text>\n<polygon fill=\"none\" stroke=\"black\" points=\"101.5,-68 101.5,-89 160.5,-89 160.5,-68 101.5,-68\"/>\n<text text-anchor=\"start\" x=\"106.5\" y=\"-76\" font-family=\"Linux libertine\" font-size=\"10.00\">output: </text>\n<polygon fill=\"none\" stroke=\"black\" points=\"160.5,-68 160.5,-89 231.5,-89 231.5,-68 160.5,-68\"/>\n<text text-anchor=\"start\" x=\"165.5\" y=\"-76\" font-family=\"Linux libertine\" font-size=\"10.00\">(8000, 1) </text>\n</g>\n<!-- 1&#45;&gt;2 -->\n<g id=\"edge2\" class=\"edge\">\n<title>1&#45;&gt;2</title>\n<path fill=\"none\" stroke=\"black\" d=\"M292.13,-145.93C260.28,-135.85 221.52,-123.57 188.43,-113.09\"/>\n<polygon fill=\"black\" stroke=\"black\" points=\"189.4,-109.73 178.81,-110.05 187.29,-116.4 189.4,-109.73\"/>\n</g>\n<!-- 4 -->\n<g id=\"node5\" class=\"node\">\n<title>4</title>\n<polygon fill=\"#c1ffc1\" stroke=\"transparent\" points=\"462,-110 249,-110 249,-68 462,-68 462,-110\"/>\n<polygon fill=\"none\" stroke=\"black\" points=\"249.5,-68 249.5,-110 332.5,-110 332.5,-68 249.5,-68\"/>\n<text text-anchor=\"start\" x=\"254.5\" y=\"-92\" font-family=\"Linux libertine\" font-size=\"10.00\">OutcomeModel</text>\n<text text-anchor=\"start\" x=\"269.5\" y=\"-81\" font-family=\"Linux libertine\" font-size=\"10.00\">depth:1</text>\n<polygon fill=\"none\" stroke=\"black\" points=\"332.5,-89 332.5,-110 391.5,-110 391.5,-89 332.5,-89\"/>\n<text text-anchor=\"start\" x=\"343.5\" y=\"-97\" font-family=\"Linux libertine\" font-size=\"10.00\">input:</text>\n<polygon fill=\"none\" stroke=\"black\" points=\"391.5,-89 391.5,-110 462.5,-110 462.5,-89 391.5,-89\"/>\n<text text-anchor=\"start\" x=\"396.5\" y=\"-97\" font-family=\"Linux libertine\" font-size=\"10.00\">(8000, 1) </text>\n<polygon fill=\"none\" stroke=\"black\" points=\"332.5,-68 332.5,-89 391.5,-89 391.5,-68 332.5,-68\"/>\n<text text-anchor=\"start\" x=\"337.5\" y=\"-76\" font-family=\"Linux libertine\" font-size=\"10.00\">output: </text>\n<polygon fill=\"none\" stroke=\"black\" points=\"391.5,-68 391.5,-89 462.5,-89 462.5,-68 391.5,-68\"/>\n<text text-anchor=\"start\" x=\"396.5\" y=\"-76\" font-family=\"Linux libertine\" font-size=\"10.00\">(8000, 1) </text>\n</g>\n<!-- 1&#45;&gt;4 -->\n<g id=\"edge3\" class=\"edge\">\n<title>1&#45;&gt;4</title>\n<path fill=\"none\" stroke=\"black\" d=\"M355.5,-145.63C355.5,-137.82 355.5,-128.73 355.5,-120.18\"/>\n<polygon fill=\"black\" stroke=\"black\" points=\"359,-120.16 355.5,-110.16 352,-120.16 359,-120.16\"/>\n</g>\n<!-- 6 -->\n<g id=\"node7\" class=\"node\">\n<title>6</title>\n<polygon fill=\"#c1ffc1\" stroke=\"transparent\" points=\"693,-110 480,-110 480,-68 693,-68 693,-110\"/>\n<polygon fill=\"none\" stroke=\"black\" points=\"480.5,-68 480.5,-110 563.5,-110 563.5,-68 480.5,-68\"/>\n<text text-anchor=\"start\" x=\"485.5\" y=\"-92\" font-family=\"Linux libertine\" font-size=\"10.00\">OutcomeModel</text>\n<text text-anchor=\"start\" x=\"500.5\" y=\"-81\" font-family=\"Linux libertine\" font-size=\"10.00\">depth:1</text>\n<polygon fill=\"none\" stroke=\"black\" points=\"563.5,-89 563.5,-110 622.5,-110 622.5,-89 563.5,-89\"/>\n<text text-anchor=\"start\" x=\"574.5\" y=\"-97\" font-family=\"Linux libertine\" font-size=\"10.00\">input:</text>\n<polygon fill=\"none\" stroke=\"black\" points=\"622.5,-89 622.5,-110 693.5,-110 693.5,-89 622.5,-89\"/>\n<text text-anchor=\"start\" x=\"627.5\" y=\"-97\" font-family=\"Linux libertine\" font-size=\"10.00\">(8000, 1) </text>\n<polygon fill=\"none\" stroke=\"black\" points=\"563.5,-68 563.5,-89 622.5,-89 622.5,-68 563.5,-68\"/>\n<text text-anchor=\"start\" x=\"568.5\" y=\"-76\" font-family=\"Linux libertine\" font-size=\"10.00\">output: </text>\n<polygon fill=\"none\" stroke=\"black\" points=\"622.5,-68 622.5,-89 693.5,-89 693.5,-68 622.5,-68\"/>\n<text text-anchor=\"start\" x=\"627.5\" y=\"-76\" font-family=\"Linux libertine\" font-size=\"10.00\">(8000, 1) </text>\n</g>\n<!-- 1&#45;&gt;6 -->\n<g id=\"edge4\" class=\"edge\">\n<title>1&#45;&gt;6</title>\n<path fill=\"none\" stroke=\"black\" d=\"M416.49,-145.93C447.02,-135.89 484.14,-123.68 515.89,-113.23\"/>\n<polygon fill=\"black\" stroke=\"black\" points=\"517.16,-116.5 525.56,-110.05 514.97,-109.85 517.16,-116.5\"/>\n</g>\n<!-- 3 -->\n<g id=\"node4\" class=\"node\">\n<title>3</title>\n<polygon fill=\"lightyellow\" stroke=\"transparent\" points=\"192.5,-32 38.5,-32 38.5,0 192.5,0 192.5,-32\"/>\n<polygon fill=\"none\" stroke=\"black\" points=\"38.5,0 38.5,-32 127.5,-32 127.5,0 38.5,0\"/>\n<text text-anchor=\"start\" x=\"43.5\" y=\"-19\" font-family=\"Linux libertine\" font-size=\"10.00\">output&#45;tensor</text>\n<text text-anchor=\"start\" x=\"61.5\" y=\"-8\" font-family=\"Linux libertine\" font-size=\"10.00\">depth:0</text>\n<polygon fill=\"none\" stroke=\"black\" points=\"127.5,0 127.5,-32 192.5,-32 192.5,0 127.5,0\"/>\n<text text-anchor=\"start\" x=\"132.5\" y=\"-13.5\" font-family=\"Linux libertine\" font-size=\"10.00\">(8000, 1)</text>\n</g>\n<!-- 2&#45;&gt;3 -->\n<g id=\"edge5\" class=\"edge\">\n<title>2&#45;&gt;3</title>\n<path fill=\"none\" stroke=\"black\" d=\"M115.5,-67.84C115.5,-59.89 115.5,-50.66 115.5,-42.26\"/>\n<polygon fill=\"black\" stroke=\"black\" points=\"119,-42.24 115.5,-32.24 112,-42.24 119,-42.24\"/>\n</g>\n<!-- 5 -->\n<g id=\"node6\" class=\"node\">\n<title>5</title>\n<polygon fill=\"lightyellow\" stroke=\"transparent\" points=\"432.5,-32 278.5,-32 278.5,0 432.5,0 432.5,-32\"/>\n<polygon fill=\"none\" stroke=\"black\" points=\"278.5,0 278.5,-32 367.5,-32 367.5,0 278.5,0\"/>\n<text text-anchor=\"start\" x=\"283.5\" y=\"-19\" font-family=\"Linux libertine\" font-size=\"10.00\">output&#45;tensor</text>\n<text text-anchor=\"start\" x=\"301.5\" y=\"-8\" font-family=\"Linux libertine\" font-size=\"10.00\">depth:0</text>\n<polygon fill=\"none\" stroke=\"black\" points=\"367.5,0 367.5,-32 432.5,-32 432.5,0 367.5,0\"/>\n<text text-anchor=\"start\" x=\"372.5\" y=\"-13.5\" font-family=\"Linux libertine\" font-size=\"10.00\">(8000, 1)</text>\n</g>\n<!-- 4&#45;&gt;5 -->\n<g id=\"edge6\" class=\"edge\">\n<title>4&#45;&gt;5</title>\n<path fill=\"none\" stroke=\"black\" d=\"M355.5,-67.84C355.5,-59.89 355.5,-50.66 355.5,-42.26\"/>\n<polygon fill=\"black\" stroke=\"black\" points=\"359,-42.24 355.5,-32.24 352,-42.24 359,-42.24\"/>\n</g>\n<!-- 7 -->\n<g id=\"node8\" class=\"node\">\n<title>7</title>\n<polygon fill=\"lightyellow\" stroke=\"transparent\" points=\"663.5,-32 509.5,-32 509.5,0 663.5,0 663.5,-32\"/>\n<polygon fill=\"none\" stroke=\"black\" points=\"509.5,0 509.5,-32 598.5,-32 598.5,0 509.5,0\"/>\n<text text-anchor=\"start\" x=\"514.5\" y=\"-19\" font-family=\"Linux libertine\" font-size=\"10.00\">output&#45;tensor</text>\n<text text-anchor=\"start\" x=\"532.5\" y=\"-8\" font-family=\"Linux libertine\" font-size=\"10.00\">depth:0</text>\n<polygon fill=\"none\" stroke=\"black\" points=\"598.5,0 598.5,-32 663.5,-32 663.5,0 598.5,0\"/>\n<text text-anchor=\"start\" x=\"603.5\" y=\"-13.5\" font-family=\"Linux libertine\" font-size=\"10.00\">(8000, 1)</text>\n</g>\n<!-- 6&#45;&gt;7 -->\n<g id=\"edge7\" class=\"edge\">\n<title>6&#45;&gt;7</title>\n<path fill=\"none\" stroke=\"black\" d=\"M586.5,-67.84C586.5,-59.89 586.5,-50.66 586.5,-42.26\"/>\n<polygon fill=\"black\" stroke=\"black\" points=\"590,-42.24 586.5,-32.24 583,-42.24 590,-42.24\"/>\n</g>\n</g>\n</svg>\n",
            "text/plain": [
              "<graphviz.graphs.Digraph at 0x7fbafe568850>"
            ]
          },
          "metadata": {}
        },
        {
          "output_type": "display_data",
          "data": {
            "text/plain": [
              "<IPython.core.display.Markdown object>"
            ],
            "text/markdown": "## Model"
          },
          "metadata": {}
        },
        {
          "output_type": "display_data",
          "data": {
            "image/svg+xml": "<?xml version=\"1.0\" encoding=\"UTF-8\" standalone=\"no\"?>\n<!DOCTYPE svg PUBLIC \"-//W3C//DTD SVG 1.1//EN\"\n \"http://www.w3.org/Graphics/SVG/1.1/DTD/svg11.dtd\">\n<!-- Generated by graphviz version 2.43.0 (0)\n -->\n<!-- Title: model Pages: 1 -->\n<svg width=\"700pt\" height=\"910pt\"\n viewBox=\"0.00 0.00 700.00 910.00\" xmlns=\"http://www.w3.org/2000/svg\" xmlns:xlink=\"http://www.w3.org/1999/xlink\">\n<g id=\"graph0\" class=\"graph\" transform=\"scale(1 1) rotate(0) translate(4 906)\">\n<title>model</title>\n<polygon fill=\"white\" stroke=\"transparent\" points=\"-4,4 -4,-906 696,-906 696,4 -4,4\"/>\n<g id=\"clust1\" class=\"cluster\">\n<title>cluster_2</title>\n<polygon fill=\"none\" stroke=\"black\" stroke-dasharray=\"5,2\" points=\"221,-356 221,-862 465,-862 465,-356 221,-356\"/>\n<text text-anchor=\"middle\" x=\"259.5\" y=\"-848.4\" font-family=\"Times,serif\" font-size=\"12.00\">LatentModel</text>\n</g>\n<g id=\"clust2\" class=\"cluster\">\n<title>cluster_3</title>\n<polygon fill=\"none\" stroke=\"black\" stroke-dasharray=\"5,2\" points=\"229,-364 229,-833 457,-833 457,-364 229,-364\"/>\n<text text-anchor=\"middle\" x=\"262\" y=\"-819.4\" font-family=\"Times,serif\" font-size=\"12.00\">Sequential</text>\n</g>\n<g id=\"clust3\" class=\"cluster\">\n<title>cluster_4</title>\n<polygon fill=\"none\" stroke=\"black\" stroke-dasharray=\"5,2\" points=\"8,-81 8,-348 224,-348 224,-81 8,-81\"/>\n<text text-anchor=\"middle\" x=\"57\" y=\"-334.4\" font-family=\"Times,serif\" font-size=\"12.00\">PropensityModel</text>\n</g>\n<g id=\"clust4\" class=\"cluster\">\n<title>cluster_5</title>\n<polygon fill=\"none\" stroke=\"black\" stroke-dasharray=\"5,2\" points=\"16,-89 16,-319 216,-319 216,-89 16,-89\"/>\n<text text-anchor=\"middle\" x=\"49\" y=\"-305.4\" font-family=\"Times,serif\" font-size=\"12.00\">Sequential</text>\n</g>\n<g id=\"clust5\" class=\"cluster\">\n<title>cluster_6</title>\n<polygon fill=\"none\" stroke=\"black\" stroke-dasharray=\"5,2\" points=\"232,-8 232,-348 454,-348 454,-8 232,-8\"/>\n<text text-anchor=\"middle\" x=\"277.5\" y=\"-334.4\" font-family=\"Times,serif\" font-size=\"12.00\">OutcomeModel</text>\n</g>\n<g id=\"clust6\" class=\"cluster\">\n<title>cluster_7</title>\n<polygon fill=\"none\" stroke=\"black\" stroke-dasharray=\"5,2\" points=\"240,-16 240,-319 446,-319 446,-16 240,-16\"/>\n<text text-anchor=\"middle\" x=\"273\" y=\"-305.4\" font-family=\"Times,serif\" font-size=\"12.00\">Sequential</text>\n</g>\n<g id=\"clust7\" class=\"cluster\">\n<title>cluster_8</title>\n<polygon fill=\"none\" stroke=\"black\" stroke-dasharray=\"5,2\" points=\"462,-8 462,-348 684,-348 684,-8 462,-8\"/>\n<text text-anchor=\"middle\" x=\"507.5\" y=\"-334.4\" font-family=\"Times,serif\" font-size=\"12.00\">OutcomeModel</text>\n</g>\n<g id=\"clust8\" class=\"cluster\">\n<title>cluster_9</title>\n<polygon fill=\"none\" stroke=\"black\" stroke-dasharray=\"5,2\" points=\"470,-16 470,-319 676,-319 676,-16 470,-16\"/>\n<text text-anchor=\"middle\" x=\"503\" y=\"-305.4\" font-family=\"Times,serif\" font-size=\"12.00\">Sequential</text>\n</g>\n<!-- 0 -->\n<g id=\"node1\" class=\"node\">\n<title>0</title>\n<polygon fill=\"lightyellow\" stroke=\"transparent\" points=\"420,-902 266,-902 266,-870 420,-870 420,-902\"/>\n<polygon fill=\"none\" stroke=\"black\" points=\"266,-870 266,-902 349,-902 349,-870 266,-870\"/>\n<text text-anchor=\"start\" x=\"271\" y=\"-889\" font-family=\"Linux libertine\" font-size=\"10.00\">input&#45;tensor</text>\n<text text-anchor=\"start\" x=\"286\" y=\"-878\" font-family=\"Linux libertine\" font-size=\"10.00\">depth:0</text>\n<polygon fill=\"none\" stroke=\"black\" points=\"349,-870 349,-902 420,-902 420,-870 349,-870\"/>\n<text text-anchor=\"start\" x=\"354\" y=\"-883.5\" font-family=\"Linux libertine\" font-size=\"10.00\">(8000, 20)</text>\n</g>\n<!-- 1 -->\n<g id=\"node2\" class=\"node\">\n<title>1</title>\n<polygon fill=\"#c1ffc1\" stroke=\"transparent\" points=\"437.5,-804 248.5,-804 248.5,-762 437.5,-762 437.5,-804\"/>\n<polygon fill=\"none\" stroke=\"black\" points=\"249,-762 249,-804 302,-804 302,-762 249,-762\"/>\n<text text-anchor=\"start\" x=\"257\" y=\"-786\" font-family=\"Linux libertine\" font-size=\"10.00\">Linear</text>\n<text text-anchor=\"start\" x=\"254\" y=\"-775\" font-family=\"Linux libertine\" font-size=\"10.00\">depth:3</text>\n<polygon fill=\"none\" stroke=\"black\" points=\"302,-783 302,-804 361,-804 361,-783 302,-783\"/>\n<text text-anchor=\"start\" x=\"313\" y=\"-791\" font-family=\"Linux libertine\" font-size=\"10.00\">input:</text>\n<polygon fill=\"none\" stroke=\"black\" points=\"361,-783 361,-804 438,-804 438,-783 361,-783\"/>\n<text text-anchor=\"start\" x=\"366\" y=\"-791\" font-family=\"Linux libertine\" font-size=\"10.00\">(8000, 20) </text>\n<polygon fill=\"none\" stroke=\"black\" points=\"302,-762 302,-783 361,-783 361,-762 302,-762\"/>\n<text text-anchor=\"start\" x=\"307\" y=\"-770\" font-family=\"Linux libertine\" font-size=\"10.00\">output: </text>\n<polygon fill=\"none\" stroke=\"black\" points=\"361,-762 361,-783 438,-783 438,-762 361,-762\"/>\n<text text-anchor=\"start\" x=\"366\" y=\"-770\" font-family=\"Linux libertine\" font-size=\"10.00\">(8000, 75) </text>\n</g>\n<!-- 0&#45;&gt;1 -->\n<g id=\"edge1\" class=\"edge\">\n<title>0&#45;&gt;1</title>\n<path fill=\"none\" stroke=\"black\" d=\"M343,-869.66C343,-854.99 343,-832.46 343,-814.19\"/>\n<polygon fill=\"black\" stroke=\"black\" points=\"346.5,-814.02 343,-804.02 339.5,-814.02 346.5,-814.02\"/>\n</g>\n<!-- 2 -->\n<g id=\"node3\" class=\"node\">\n<title>2</title>\n<polygon fill=\"#c1ffc1\" stroke=\"transparent\" points=\"437.5,-726 248.5,-726 248.5,-684 437.5,-684 437.5,-726\"/>\n<polygon fill=\"none\" stroke=\"black\" points=\"249,-684 249,-726 302,-726 302,-684 249,-684\"/>\n<text text-anchor=\"start\" x=\"266\" y=\"-708\" font-family=\"Linux libertine\" font-size=\"10.00\">ELU</text>\n<text text-anchor=\"start\" x=\"254\" y=\"-697\" font-family=\"Linux libertine\" font-size=\"10.00\">depth:3</text>\n<polygon fill=\"none\" stroke=\"black\" points=\"302,-705 302,-726 361,-726 361,-705 302,-705\"/>\n<text text-anchor=\"start\" x=\"313\" y=\"-713\" font-family=\"Linux libertine\" font-size=\"10.00\">input:</text>\n<polygon fill=\"none\" stroke=\"black\" points=\"361,-705 361,-726 438,-726 438,-705 361,-705\"/>\n<text text-anchor=\"start\" x=\"366\" y=\"-713\" font-family=\"Linux libertine\" font-size=\"10.00\">(8000, 75) </text>\n<polygon fill=\"none\" stroke=\"black\" points=\"302,-684 302,-705 361,-705 361,-684 302,-684\"/>\n<text text-anchor=\"start\" x=\"307\" y=\"-692\" font-family=\"Linux libertine\" font-size=\"10.00\">output: </text>\n<polygon fill=\"none\" stroke=\"black\" points=\"361,-684 361,-705 438,-705 438,-684 361,-684\"/>\n<text text-anchor=\"start\" x=\"366\" y=\"-692\" font-family=\"Linux libertine\" font-size=\"10.00\">(8000, 75) </text>\n</g>\n<!-- 1&#45;&gt;2 -->\n<g id=\"edge2\" class=\"edge\">\n<title>1&#45;&gt;2</title>\n<path fill=\"none\" stroke=\"black\" d=\"M343,-761.63C343,-753.82 343,-744.73 343,-736.18\"/>\n<polygon fill=\"black\" stroke=\"black\" points=\"346.5,-736.16 343,-726.16 339.5,-736.16 346.5,-736.16\"/>\n</g>\n<!-- 3 -->\n<g id=\"node4\" class=\"node\">\n<title>3</title>\n<polygon fill=\"#c1ffc1\" stroke=\"transparent\" points=\"449.5,-648 236.5,-648 236.5,-606 449.5,-606 449.5,-648\"/>\n<polygon fill=\"none\" stroke=\"black\" points=\"237,-606 237,-648 314,-648 314,-606 237,-606\"/>\n<text text-anchor=\"start\" x=\"242\" y=\"-630\" font-family=\"Linux libertine\" font-size=\"10.00\">BatchNorm1d</text>\n<text text-anchor=\"start\" x=\"254\" y=\"-619\" font-family=\"Linux libertine\" font-size=\"10.00\">depth:3</text>\n<polygon fill=\"none\" stroke=\"black\" points=\"314,-627 314,-648 373,-648 373,-627 314,-627\"/>\n<text text-anchor=\"start\" x=\"325\" y=\"-635\" font-family=\"Linux libertine\" font-size=\"10.00\">input:</text>\n<polygon fill=\"none\" stroke=\"black\" points=\"373,-627 373,-648 450,-648 450,-627 373,-627\"/>\n<text text-anchor=\"start\" x=\"378\" y=\"-635\" font-family=\"Linux libertine\" font-size=\"10.00\">(8000, 75) </text>\n<polygon fill=\"none\" stroke=\"black\" points=\"314,-606 314,-627 373,-627 373,-606 314,-606\"/>\n<text text-anchor=\"start\" x=\"319\" y=\"-614\" font-family=\"Linux libertine\" font-size=\"10.00\">output: </text>\n<polygon fill=\"none\" stroke=\"black\" points=\"373,-606 373,-627 450,-627 450,-606 373,-606\"/>\n<text text-anchor=\"start\" x=\"378\" y=\"-614\" font-family=\"Linux libertine\" font-size=\"10.00\">(8000, 75) </text>\n</g>\n<!-- 2&#45;&gt;3 -->\n<g id=\"edge3\" class=\"edge\">\n<title>2&#45;&gt;3</title>\n<path fill=\"none\" stroke=\"black\" d=\"M343,-683.63C343,-675.82 343,-666.73 343,-658.18\"/>\n<polygon fill=\"black\" stroke=\"black\" points=\"346.5,-658.16 343,-648.16 339.5,-658.16 346.5,-658.16\"/>\n</g>\n<!-- 4 -->\n<g id=\"node5\" class=\"node\">\n<title>4</title>\n<polygon fill=\"#c1ffc1\" stroke=\"transparent\" points=\"437.5,-570 248.5,-570 248.5,-528 437.5,-528 437.5,-570\"/>\n<polygon fill=\"none\" stroke=\"black\" points=\"249,-528 249,-570 302,-570 302,-528 249,-528\"/>\n<text text-anchor=\"start\" x=\"257\" y=\"-552\" font-family=\"Linux libertine\" font-size=\"10.00\">Linear</text>\n<text text-anchor=\"start\" x=\"254\" y=\"-541\" font-family=\"Linux libertine\" font-size=\"10.00\">depth:3</text>\n<polygon fill=\"none\" stroke=\"black\" points=\"302,-549 302,-570 361,-570 361,-549 302,-549\"/>\n<text text-anchor=\"start\" x=\"313\" y=\"-557\" font-family=\"Linux libertine\" font-size=\"10.00\">input:</text>\n<polygon fill=\"none\" stroke=\"black\" points=\"361,-549 361,-570 438,-570 438,-549 361,-549\"/>\n<text text-anchor=\"start\" x=\"366\" y=\"-557\" font-family=\"Linux libertine\" font-size=\"10.00\">(8000, 75) </text>\n<polygon fill=\"none\" stroke=\"black\" points=\"302,-528 302,-549 361,-549 361,-528 302,-528\"/>\n<text text-anchor=\"start\" x=\"307\" y=\"-536\" font-family=\"Linux libertine\" font-size=\"10.00\">output: </text>\n<polygon fill=\"none\" stroke=\"black\" points=\"361,-528 361,-549 438,-549 438,-528 361,-528\"/>\n<text text-anchor=\"start\" x=\"369\" y=\"-536\" font-family=\"Linux libertine\" font-size=\"10.00\">(8000, 1) </text>\n</g>\n<!-- 3&#45;&gt;4 -->\n<g id=\"edge4\" class=\"edge\">\n<title>3&#45;&gt;4</title>\n<path fill=\"none\" stroke=\"black\" d=\"M343,-605.63C343,-597.82 343,-588.73 343,-580.18\"/>\n<polygon fill=\"black\" stroke=\"black\" points=\"346.5,-580.16 343,-570.16 339.5,-580.16 346.5,-580.16\"/>\n</g>\n<!-- 5 -->\n<g id=\"node6\" class=\"node\">\n<title>5</title>\n<polygon fill=\"#c1ffc1\" stroke=\"transparent\" points=\"434.5,-492 251.5,-492 251.5,-450 434.5,-450 434.5,-492\"/>\n<polygon fill=\"none\" stroke=\"black\" points=\"252,-450 252,-492 305,-492 305,-450 252,-450\"/>\n<text text-anchor=\"start\" x=\"269\" y=\"-474\" font-family=\"Linux libertine\" font-size=\"10.00\">ELU</text>\n<text text-anchor=\"start\" x=\"257\" y=\"-463\" font-family=\"Linux libertine\" font-size=\"10.00\">depth:3</text>\n<polygon fill=\"none\" stroke=\"black\" points=\"305,-471 305,-492 364,-492 364,-471 305,-471\"/>\n<text text-anchor=\"start\" x=\"316\" y=\"-479\" font-family=\"Linux libertine\" font-size=\"10.00\">input:</text>\n<polygon fill=\"none\" stroke=\"black\" points=\"364,-471 364,-492 435,-492 435,-471 364,-471\"/>\n<text text-anchor=\"start\" x=\"369\" y=\"-479\" font-family=\"Linux libertine\" font-size=\"10.00\">(8000, 1) </text>\n<polygon fill=\"none\" stroke=\"black\" points=\"305,-450 305,-471 364,-471 364,-450 305,-450\"/>\n<text text-anchor=\"start\" x=\"310\" y=\"-458\" font-family=\"Linux libertine\" font-size=\"10.00\">output: </text>\n<polygon fill=\"none\" stroke=\"black\" points=\"364,-450 364,-471 435,-471 435,-450 364,-450\"/>\n<text text-anchor=\"start\" x=\"369\" y=\"-458\" font-family=\"Linux libertine\" font-size=\"10.00\">(8000, 1) </text>\n</g>\n<!-- 4&#45;&gt;5 -->\n<g id=\"edge5\" class=\"edge\">\n<title>4&#45;&gt;5</title>\n<path fill=\"none\" stroke=\"black\" d=\"M343,-527.63C343,-519.82 343,-510.73 343,-502.18\"/>\n<polygon fill=\"black\" stroke=\"black\" points=\"346.5,-502.16 343,-492.16 339.5,-502.16 346.5,-502.16\"/>\n</g>\n<!-- 6 -->\n<g id=\"node7\" class=\"node\">\n<title>6</title>\n<polygon fill=\"#c1ffc1\" stroke=\"transparent\" points=\"446.5,-414 239.5,-414 239.5,-372 446.5,-372 446.5,-414\"/>\n<polygon fill=\"none\" stroke=\"black\" points=\"240,-372 240,-414 317,-414 317,-372 240,-372\"/>\n<text text-anchor=\"start\" x=\"245\" y=\"-396\" font-family=\"Linux libertine\" font-size=\"10.00\">BatchNorm1d</text>\n<text text-anchor=\"start\" x=\"257\" y=\"-385\" font-family=\"Linux libertine\" font-size=\"10.00\">depth:3</text>\n<polygon fill=\"none\" stroke=\"black\" points=\"317,-393 317,-414 376,-414 376,-393 317,-393\"/>\n<text text-anchor=\"start\" x=\"328\" y=\"-401\" font-family=\"Linux libertine\" font-size=\"10.00\">input:</text>\n<polygon fill=\"none\" stroke=\"black\" points=\"376,-393 376,-414 447,-414 447,-393 376,-393\"/>\n<text text-anchor=\"start\" x=\"381\" y=\"-401\" font-family=\"Linux libertine\" font-size=\"10.00\">(8000, 1) </text>\n<polygon fill=\"none\" stroke=\"black\" points=\"317,-372 317,-393 376,-393 376,-372 317,-372\"/>\n<text text-anchor=\"start\" x=\"322\" y=\"-380\" font-family=\"Linux libertine\" font-size=\"10.00\">output: </text>\n<polygon fill=\"none\" stroke=\"black\" points=\"376,-372 376,-393 447,-393 447,-372 376,-372\"/>\n<text text-anchor=\"start\" x=\"381\" y=\"-380\" font-family=\"Linux libertine\" font-size=\"10.00\">(8000, 1) </text>\n</g>\n<!-- 5&#45;&gt;6 -->\n<g id=\"edge6\" class=\"edge\">\n<title>5&#45;&gt;6</title>\n<path fill=\"none\" stroke=\"black\" d=\"M343,-449.63C343,-441.82 343,-432.73 343,-424.18\"/>\n<polygon fill=\"black\" stroke=\"black\" points=\"346.5,-424.16 343,-414.16 339.5,-424.16 346.5,-424.16\"/>\n</g>\n<!-- 7 -->\n<g id=\"node8\" class=\"node\">\n<title>7</title>\n<polygon fill=\"#c1ffc1\" stroke=\"transparent\" points=\"207.5,-290 24.5,-290 24.5,-248 207.5,-248 207.5,-290\"/>\n<polygon fill=\"none\" stroke=\"black\" points=\"25,-248 25,-290 78,-290 78,-248 25,-248\"/>\n<text text-anchor=\"start\" x=\"33\" y=\"-272\" font-family=\"Linux libertine\" font-size=\"10.00\">Linear</text>\n<text text-anchor=\"start\" x=\"30\" y=\"-261\" font-family=\"Linux libertine\" font-size=\"10.00\">depth:3</text>\n<polygon fill=\"none\" stroke=\"black\" points=\"78,-269 78,-290 137,-290 137,-269 78,-269\"/>\n<text text-anchor=\"start\" x=\"89\" y=\"-277\" font-family=\"Linux libertine\" font-size=\"10.00\">input:</text>\n<polygon fill=\"none\" stroke=\"black\" points=\"137,-269 137,-290 208,-290 208,-269 137,-269\"/>\n<text text-anchor=\"start\" x=\"142\" y=\"-277\" font-family=\"Linux libertine\" font-size=\"10.00\">(8000, 1) </text>\n<polygon fill=\"none\" stroke=\"black\" points=\"78,-248 78,-269 137,-269 137,-248 78,-248\"/>\n<text text-anchor=\"start\" x=\"83\" y=\"-256\" font-family=\"Linux libertine\" font-size=\"10.00\">output: </text>\n<polygon fill=\"none\" stroke=\"black\" points=\"137,-248 137,-269 208,-269 208,-248 137,-248\"/>\n<text text-anchor=\"start\" x=\"142\" y=\"-256\" font-family=\"Linux libertine\" font-size=\"10.00\">(8000, 1) </text>\n</g>\n<!-- 6&#45;&gt;7 -->\n<g id=\"edge7\" class=\"edge\">\n<title>6&#45;&gt;7</title>\n<path fill=\"none\" stroke=\"black\" d=\"M288.77,-371.98C271.59,-365.04 252.72,-356.77 236,-348 206.61,-332.58 175.21,-312.01 151.91,-295.87\"/>\n<polygon fill=\"black\" stroke=\"black\" points=\"153.91,-292.99 143.71,-290.14 149.9,-298.73 153.91,-292.99\"/>\n</g>\n<!-- 10 -->\n<g id=\"node11\" class=\"node\">\n<title>10</title>\n<polygon fill=\"#c1ffc1\" stroke=\"transparent\" points=\"437.5,-290 248.5,-290 248.5,-248 437.5,-248 437.5,-290\"/>\n<polygon fill=\"none\" stroke=\"black\" points=\"249,-248 249,-290 302,-290 302,-248 249,-248\"/>\n<text text-anchor=\"start\" x=\"257\" y=\"-272\" font-family=\"Linux libertine\" font-size=\"10.00\">Linear</text>\n<text text-anchor=\"start\" x=\"254\" y=\"-261\" font-family=\"Linux libertine\" font-size=\"10.00\">depth:3</text>\n<polygon fill=\"none\" stroke=\"black\" points=\"302,-269 302,-290 361,-290 361,-269 302,-269\"/>\n<text text-anchor=\"start\" x=\"313\" y=\"-277\" font-family=\"Linux libertine\" font-size=\"10.00\">input:</text>\n<polygon fill=\"none\" stroke=\"black\" points=\"361,-269 361,-290 438,-290 438,-269 361,-269\"/>\n<text text-anchor=\"start\" x=\"369\" y=\"-277\" font-family=\"Linux libertine\" font-size=\"10.00\">(8000, 1) </text>\n<polygon fill=\"none\" stroke=\"black\" points=\"302,-248 302,-269 361,-269 361,-248 302,-248\"/>\n<text text-anchor=\"start\" x=\"307\" y=\"-256\" font-family=\"Linux libertine\" font-size=\"10.00\">output: </text>\n<polygon fill=\"none\" stroke=\"black\" points=\"361,-248 361,-269 438,-269 438,-248 361,-248\"/>\n<text text-anchor=\"start\" x=\"366\" y=\"-256\" font-family=\"Linux libertine\" font-size=\"10.00\">(8000, 75) </text>\n</g>\n<!-- 6&#45;&gt;10 -->\n<g id=\"edge10\" class=\"edge\">\n<title>6&#45;&gt;10</title>\n<path fill=\"none\" stroke=\"black\" d=\"M343,-371.85C343,-352.43 343,-322.77 343,-300.46\"/>\n<polygon fill=\"black\" stroke=\"black\" points=\"346.5,-300.18 343,-290.18 339.5,-300.18 346.5,-300.18\"/>\n</g>\n<!-- 14 -->\n<g id=\"node15\" class=\"node\">\n<title>14</title>\n<polygon fill=\"#c1ffc1\" stroke=\"transparent\" points=\"667.5,-290 478.5,-290 478.5,-248 667.5,-248 667.5,-290\"/>\n<polygon fill=\"none\" stroke=\"black\" points=\"479,-248 479,-290 532,-290 532,-248 479,-248\"/>\n<text text-anchor=\"start\" x=\"487\" y=\"-272\" font-family=\"Linux libertine\" font-size=\"10.00\">Linear</text>\n<text text-anchor=\"start\" x=\"484\" y=\"-261\" font-family=\"Linux libertine\" font-size=\"10.00\">depth:3</text>\n<polygon fill=\"none\" stroke=\"black\" points=\"532,-269 532,-290 591,-290 591,-269 532,-269\"/>\n<text text-anchor=\"start\" x=\"543\" y=\"-277\" font-family=\"Linux libertine\" font-size=\"10.00\">input:</text>\n<polygon fill=\"none\" stroke=\"black\" points=\"591,-269 591,-290 668,-290 668,-269 591,-269\"/>\n<text text-anchor=\"start\" x=\"599\" y=\"-277\" font-family=\"Linux libertine\" font-size=\"10.00\">(8000, 1) </text>\n<polygon fill=\"none\" stroke=\"black\" points=\"532,-248 532,-269 591,-269 591,-248 532,-248\"/>\n<text text-anchor=\"start\" x=\"537\" y=\"-256\" font-family=\"Linux libertine\" font-size=\"10.00\">output: </text>\n<polygon fill=\"none\" stroke=\"black\" points=\"591,-248 591,-269 668,-269 668,-248 591,-248\"/>\n<text text-anchor=\"start\" x=\"596\" y=\"-256\" font-family=\"Linux libertine\" font-size=\"10.00\">(8000, 75) </text>\n</g>\n<!-- 6&#45;&gt;14 -->\n<g id=\"edge14\" class=\"edge\">\n<title>6&#45;&gt;14</title>\n<path fill=\"none\" stroke=\"black\" d=\"M396.9,-371.98C414.15,-365 433.14,-356.73 450,-348 480,-332.47 512.19,-311.91 536.11,-295.79\"/>\n<polygon fill=\"black\" stroke=\"black\" points=\"538.22,-298.59 544.52,-290.08 534.29,-292.8 538.22,-298.59\"/>\n</g>\n<!-- 8 -->\n<g id=\"node9\" class=\"node\">\n<title>8</title>\n<polygon fill=\"#c1ffc1\" stroke=\"transparent\" points=\"207.5,-212 24.5,-212 24.5,-170 207.5,-170 207.5,-212\"/>\n<polygon fill=\"none\" stroke=\"black\" points=\"25,-170 25,-212 78,-212 78,-170 25,-170\"/>\n<text text-anchor=\"start\" x=\"30\" y=\"-194\" font-family=\"Linux libertine\" font-size=\"10.00\">Sigmoid</text>\n<text text-anchor=\"start\" x=\"30\" y=\"-183\" font-family=\"Linux libertine\" font-size=\"10.00\">depth:3</text>\n<polygon fill=\"none\" stroke=\"black\" points=\"78,-191 78,-212 137,-212 137,-191 78,-191\"/>\n<text text-anchor=\"start\" x=\"89\" y=\"-199\" font-family=\"Linux libertine\" font-size=\"10.00\">input:</text>\n<polygon fill=\"none\" stroke=\"black\" points=\"137,-191 137,-212 208,-212 208,-191 137,-191\"/>\n<text text-anchor=\"start\" x=\"142\" y=\"-199\" font-family=\"Linux libertine\" font-size=\"10.00\">(8000, 1) </text>\n<polygon fill=\"none\" stroke=\"black\" points=\"78,-170 78,-191 137,-191 137,-170 78,-170\"/>\n<text text-anchor=\"start\" x=\"83\" y=\"-178\" font-family=\"Linux libertine\" font-size=\"10.00\">output: </text>\n<polygon fill=\"none\" stroke=\"black\" points=\"137,-170 137,-191 208,-191 208,-170 137,-170\"/>\n<text text-anchor=\"start\" x=\"142\" y=\"-178\" font-family=\"Linux libertine\" font-size=\"10.00\">(8000, 1) </text>\n</g>\n<!-- 7&#45;&gt;8 -->\n<g id=\"edge8\" class=\"edge\">\n<title>7&#45;&gt;8</title>\n<path fill=\"none\" stroke=\"black\" d=\"M116,-247.63C116,-239.82 116,-230.73 116,-222.18\"/>\n<polygon fill=\"black\" stroke=\"black\" points=\"119.5,-222.16 116,-212.16 112.5,-222.16 119.5,-222.16\"/>\n</g>\n<!-- 9 -->\n<g id=\"node10\" class=\"node\">\n<title>9</title>\n<polygon fill=\"lightyellow\" stroke=\"transparent\" points=\"193,-129 39,-129 39,-97 193,-97 193,-129\"/>\n<polygon fill=\"none\" stroke=\"black\" points=\"39,-97 39,-129 128,-129 128,-97 39,-97\"/>\n<text text-anchor=\"start\" x=\"44\" y=\"-116\" font-family=\"Linux libertine\" font-size=\"10.00\">output&#45;tensor</text>\n<text text-anchor=\"start\" x=\"62\" y=\"-105\" font-family=\"Linux libertine\" font-size=\"10.00\">depth:0</text>\n<polygon fill=\"none\" stroke=\"black\" points=\"128,-97 128,-129 193,-129 193,-97 128,-97\"/>\n<text text-anchor=\"start\" x=\"133\" y=\"-110.5\" font-family=\"Linux libertine\" font-size=\"10.00\">(8000, 1)</text>\n</g>\n<!-- 8&#45;&gt;9 -->\n<g id=\"edge9\" class=\"edge\">\n<title>8&#45;&gt;9</title>\n<path fill=\"none\" stroke=\"black\" d=\"M116,-169.63C116,-160.33 116,-149.22 116,-139.39\"/>\n<polygon fill=\"black\" stroke=\"black\" points=\"119.5,-139.36 116,-129.36 112.5,-139.36 119.5,-139.36\"/>\n</g>\n<!-- 11 -->\n<g id=\"node12\" class=\"node\">\n<title>11</title>\n<polygon fill=\"#c1ffc1\" stroke=\"transparent\" points=\"437.5,-212 248.5,-212 248.5,-170 437.5,-170 437.5,-212\"/>\n<polygon fill=\"none\" stroke=\"black\" points=\"249,-170 249,-212 302,-212 302,-170 249,-170\"/>\n<text text-anchor=\"start\" x=\"266\" y=\"-194\" font-family=\"Linux libertine\" font-size=\"10.00\">ELU</text>\n<text text-anchor=\"start\" x=\"254\" y=\"-183\" font-family=\"Linux libertine\" font-size=\"10.00\">depth:3</text>\n<polygon fill=\"none\" stroke=\"black\" points=\"302,-191 302,-212 361,-212 361,-191 302,-191\"/>\n<text text-anchor=\"start\" x=\"313\" y=\"-199\" font-family=\"Linux libertine\" font-size=\"10.00\">input:</text>\n<polygon fill=\"none\" stroke=\"black\" points=\"361,-191 361,-212 438,-212 438,-191 361,-191\"/>\n<text text-anchor=\"start\" x=\"366\" y=\"-199\" font-family=\"Linux libertine\" font-size=\"10.00\">(8000, 75) </text>\n<polygon fill=\"none\" stroke=\"black\" points=\"302,-170 302,-191 361,-191 361,-170 302,-170\"/>\n<text text-anchor=\"start\" x=\"307\" y=\"-178\" font-family=\"Linux libertine\" font-size=\"10.00\">output: </text>\n<polygon fill=\"none\" stroke=\"black\" points=\"361,-170 361,-191 438,-191 438,-170 361,-170\"/>\n<text text-anchor=\"start\" x=\"366\" y=\"-178\" font-family=\"Linux libertine\" font-size=\"10.00\">(8000, 75) </text>\n</g>\n<!-- 10&#45;&gt;11 -->\n<g id=\"edge11\" class=\"edge\">\n<title>10&#45;&gt;11</title>\n<path fill=\"none\" stroke=\"black\" d=\"M343,-247.63C343,-239.82 343,-230.73 343,-222.18\"/>\n<polygon fill=\"black\" stroke=\"black\" points=\"346.5,-222.16 343,-212.16 339.5,-222.16 346.5,-222.16\"/>\n</g>\n<!-- 12 -->\n<g id=\"node13\" class=\"node\">\n<title>12</title>\n<polygon fill=\"#c1ffc1\" stroke=\"transparent\" points=\"437.5,-134 248.5,-134 248.5,-92 437.5,-92 437.5,-134\"/>\n<polygon fill=\"none\" stroke=\"black\" points=\"249,-92 249,-134 302,-134 302,-92 249,-92\"/>\n<text text-anchor=\"start\" x=\"257\" y=\"-116\" font-family=\"Linux libertine\" font-size=\"10.00\">Linear</text>\n<text text-anchor=\"start\" x=\"254\" y=\"-105\" font-family=\"Linux libertine\" font-size=\"10.00\">depth:3</text>\n<polygon fill=\"none\" stroke=\"black\" points=\"302,-113 302,-134 361,-134 361,-113 302,-113\"/>\n<text text-anchor=\"start\" x=\"313\" y=\"-121\" font-family=\"Linux libertine\" font-size=\"10.00\">input:</text>\n<polygon fill=\"none\" stroke=\"black\" points=\"361,-113 361,-134 438,-134 438,-113 361,-113\"/>\n<text text-anchor=\"start\" x=\"366\" y=\"-121\" font-family=\"Linux libertine\" font-size=\"10.00\">(8000, 75) </text>\n<polygon fill=\"none\" stroke=\"black\" points=\"302,-92 302,-113 361,-113 361,-92 302,-92\"/>\n<text text-anchor=\"start\" x=\"307\" y=\"-100\" font-family=\"Linux libertine\" font-size=\"10.00\">output: </text>\n<polygon fill=\"none\" stroke=\"black\" points=\"361,-92 361,-113 438,-113 438,-92 361,-92\"/>\n<text text-anchor=\"start\" x=\"369\" y=\"-100\" font-family=\"Linux libertine\" font-size=\"10.00\">(8000, 1) </text>\n</g>\n<!-- 11&#45;&gt;12 -->\n<g id=\"edge12\" class=\"edge\">\n<title>11&#45;&gt;12</title>\n<path fill=\"none\" stroke=\"black\" d=\"M343,-169.63C343,-161.82 343,-152.73 343,-144.18\"/>\n<polygon fill=\"black\" stroke=\"black\" points=\"346.5,-144.16 343,-134.16 339.5,-144.16 346.5,-144.16\"/>\n</g>\n<!-- 13 -->\n<g id=\"node14\" class=\"node\">\n<title>13</title>\n<polygon fill=\"lightyellow\" stroke=\"transparent\" points=\"420,-56 266,-56 266,-24 420,-24 420,-56\"/>\n<polygon fill=\"none\" stroke=\"black\" points=\"266,-24 266,-56 355,-56 355,-24 266,-24\"/>\n<text text-anchor=\"start\" x=\"271\" y=\"-43\" font-family=\"Linux libertine\" font-size=\"10.00\">output&#45;tensor</text>\n<text text-anchor=\"start\" x=\"289\" y=\"-32\" font-family=\"Linux libertine\" font-size=\"10.00\">depth:0</text>\n<polygon fill=\"none\" stroke=\"black\" points=\"355,-24 355,-56 420,-56 420,-24 355,-24\"/>\n<text text-anchor=\"start\" x=\"360\" y=\"-37.5\" font-family=\"Linux libertine\" font-size=\"10.00\">(8000, 1)</text>\n</g>\n<!-- 12&#45;&gt;13 -->\n<g id=\"edge13\" class=\"edge\">\n<title>12&#45;&gt;13</title>\n<path fill=\"none\" stroke=\"black\" d=\"M343,-91.84C343,-83.89 343,-74.66 343,-66.26\"/>\n<polygon fill=\"black\" stroke=\"black\" points=\"346.5,-66.24 343,-56.24 339.5,-66.24 346.5,-66.24\"/>\n</g>\n<!-- 15 -->\n<g id=\"node16\" class=\"node\">\n<title>15</title>\n<polygon fill=\"#c1ffc1\" stroke=\"transparent\" points=\"667.5,-212 478.5,-212 478.5,-170 667.5,-170 667.5,-212\"/>\n<polygon fill=\"none\" stroke=\"black\" points=\"479,-170 479,-212 532,-212 532,-170 479,-170\"/>\n<text text-anchor=\"start\" x=\"496\" y=\"-194\" font-family=\"Linux libertine\" font-size=\"10.00\">ELU</text>\n<text text-anchor=\"start\" x=\"484\" y=\"-183\" font-family=\"Linux libertine\" font-size=\"10.00\">depth:3</text>\n<polygon fill=\"none\" stroke=\"black\" points=\"532,-191 532,-212 591,-212 591,-191 532,-191\"/>\n<text text-anchor=\"start\" x=\"543\" y=\"-199\" font-family=\"Linux libertine\" font-size=\"10.00\">input:</text>\n<polygon fill=\"none\" stroke=\"black\" points=\"591,-191 591,-212 668,-212 668,-191 591,-191\"/>\n<text text-anchor=\"start\" x=\"596\" y=\"-199\" font-family=\"Linux libertine\" font-size=\"10.00\">(8000, 75) </text>\n<polygon fill=\"none\" stroke=\"black\" points=\"532,-170 532,-191 591,-191 591,-170 532,-170\"/>\n<text text-anchor=\"start\" x=\"537\" y=\"-178\" font-family=\"Linux libertine\" font-size=\"10.00\">output: </text>\n<polygon fill=\"none\" stroke=\"black\" points=\"591,-170 591,-191 668,-191 668,-170 591,-170\"/>\n<text text-anchor=\"start\" x=\"596\" y=\"-178\" font-family=\"Linux libertine\" font-size=\"10.00\">(8000, 75) </text>\n</g>\n<!-- 14&#45;&gt;15 -->\n<g id=\"edge15\" class=\"edge\">\n<title>14&#45;&gt;15</title>\n<path fill=\"none\" stroke=\"black\" d=\"M573,-247.63C573,-239.82 573,-230.73 573,-222.18\"/>\n<polygon fill=\"black\" stroke=\"black\" points=\"576.5,-222.16 573,-212.16 569.5,-222.16 576.5,-222.16\"/>\n</g>\n<!-- 16 -->\n<g id=\"node17\" class=\"node\">\n<title>16</title>\n<polygon fill=\"#c1ffc1\" stroke=\"transparent\" points=\"667.5,-134 478.5,-134 478.5,-92 667.5,-92 667.5,-134\"/>\n<polygon fill=\"none\" stroke=\"black\" points=\"479,-92 479,-134 532,-134 532,-92 479,-92\"/>\n<text text-anchor=\"start\" x=\"487\" y=\"-116\" font-family=\"Linux libertine\" font-size=\"10.00\">Linear</text>\n<text text-anchor=\"start\" x=\"484\" y=\"-105\" font-family=\"Linux libertine\" font-size=\"10.00\">depth:3</text>\n<polygon fill=\"none\" stroke=\"black\" points=\"532,-113 532,-134 591,-134 591,-113 532,-113\"/>\n<text text-anchor=\"start\" x=\"543\" y=\"-121\" font-family=\"Linux libertine\" font-size=\"10.00\">input:</text>\n<polygon fill=\"none\" stroke=\"black\" points=\"591,-113 591,-134 668,-134 668,-113 591,-113\"/>\n<text text-anchor=\"start\" x=\"596\" y=\"-121\" font-family=\"Linux libertine\" font-size=\"10.00\">(8000, 75) </text>\n<polygon fill=\"none\" stroke=\"black\" points=\"532,-92 532,-113 591,-113 591,-92 532,-92\"/>\n<text text-anchor=\"start\" x=\"537\" y=\"-100\" font-family=\"Linux libertine\" font-size=\"10.00\">output: </text>\n<polygon fill=\"none\" stroke=\"black\" points=\"591,-92 591,-113 668,-113 668,-92 591,-92\"/>\n<text text-anchor=\"start\" x=\"599\" y=\"-100\" font-family=\"Linux libertine\" font-size=\"10.00\">(8000, 1) </text>\n</g>\n<!-- 15&#45;&gt;16 -->\n<g id=\"edge16\" class=\"edge\">\n<title>15&#45;&gt;16</title>\n<path fill=\"none\" stroke=\"black\" d=\"M573,-169.63C573,-161.82 573,-152.73 573,-144.18\"/>\n<polygon fill=\"black\" stroke=\"black\" points=\"576.5,-144.16 573,-134.16 569.5,-144.16 576.5,-144.16\"/>\n</g>\n<!-- 17 -->\n<g id=\"node18\" class=\"node\">\n<title>17</title>\n<polygon fill=\"lightyellow\" stroke=\"transparent\" points=\"650,-56 496,-56 496,-24 650,-24 650,-56\"/>\n<polygon fill=\"none\" stroke=\"black\" points=\"496,-24 496,-56 585,-56 585,-24 496,-24\"/>\n<text text-anchor=\"start\" x=\"501\" y=\"-43\" font-family=\"Linux libertine\" font-size=\"10.00\">output&#45;tensor</text>\n<text text-anchor=\"start\" x=\"519\" y=\"-32\" font-family=\"Linux libertine\" font-size=\"10.00\">depth:0</text>\n<polygon fill=\"none\" stroke=\"black\" points=\"585,-24 585,-56 650,-56 650,-24 585,-24\"/>\n<text text-anchor=\"start\" x=\"590\" y=\"-37.5\" font-family=\"Linux libertine\" font-size=\"10.00\">(8000, 1)</text>\n</g>\n<!-- 16&#45;&gt;17 -->\n<g id=\"edge17\" class=\"edge\">\n<title>16&#45;&gt;17</title>\n<path fill=\"none\" stroke=\"black\" d=\"M573,-91.84C573,-83.89 573,-74.66 573,-66.26\"/>\n<polygon fill=\"black\" stroke=\"black\" points=\"576.5,-66.24 573,-56.24 569.5,-66.24 576.5,-66.24\"/>\n</g>\n</g>\n</svg>\n",
            "text/plain": [
              "<graphviz.graphs.Digraph at 0x7fbafdf57460>"
            ]
          },
          "metadata": {}
        }
      ]
    },
    {
      "cell_type": "code",
      "source": [
        "# Training loop\n",
        "n_epochs = int(10e3)\n",
        "hist = []\n",
        "best_epoch = 0\n",
        "best_loss = float('inf')\n",
        "iterator = trange(n_epochs)\n",
        "for epoch in iterator:\n",
        "    # Forward pass\n",
        "    g_hat, qt_hat, qc_hat = causal_model(x_train)\n",
        "    loss_i = loss_func(g_hat, is_treatment_train, qt_hat, qc_hat, y_train)\n",
        "\n",
        "    # Backward pass\n",
        "    optimizer.zero_grad()\n",
        "    loss_i.backward()\n",
        "    optimizer.step()\n",
        "\n",
        "    # Evaluate\n",
        "    with torch.inference_mode():\n",
        "        g_hat_test, qt_hat_test, qc_hat_test = causal_model(x_test)\n",
        "        hist.append((\n",
        "            loss_func(\n",
        "                g_hat_test,\n",
        "                is_treatment_test,\n",
        "                qt_hat_test,\n",
        "                qc_hat_test,\n",
        "                y_test\n",
        "            ),\n",
        "            torch.mean(causal_model.ite(x_test))\n",
        "        ))\n",
        "        iterator.set_description(f'i: {epoch:,} | loss: {hist[-1][0].numpy():.8f} | CATE: {hist[-1][1].numpy():.3f}')\n",
        "        if hist[-1][0] < best_loss:\n",
        "            best_loss = hist[-1][0]\n",
        "            best_epoch = epoch\n",
        "        elif (epoch - best_epoch) > 10:\n",
        "            print(f'Early stopping at epoch {epoch:,}')\n",
        "            break"
      ],
      "metadata": {
        "colab": {
          "base_uri": "https://localhost:8080/",
          "height": 66,
          "referenced_widgets": [
            "21f580a934244ab7a7dc81f7c3a96056",
            "50447b13c0c74893827782b8f43b08ac",
            "aac9cd8d6dc34800978158a61142cc12",
            "eb7514eaef82491b876c3428398d36e8",
            "0ed15cb565a04b2cb2e623396d188215",
            "69f92189a487448aa767238307afa650",
            "5118328b79b547fba4494e6c27a11653",
            "53d3bbac346340b28da726ea2fa627e5",
            "f56deae597074424a12415307fa643b1",
            "852fb823cba84da8b030b089deeecc5c",
            "e5427b39c9f8478d988d0be4a8dbd40f"
          ]
        },
        "id": "AyMt9_BmOgBQ",
        "outputId": "dc5d2415-087a-4297-c866-64d0c04df60f"
      },
      "execution_count": 8,
      "outputs": [
        {
          "output_type": "display_data",
          "data": {
            "text/plain": [
              "  0%|          | 0/10000 [00:00<?, ?it/s]"
            ],
            "application/vnd.jupyter.widget-view+json": {
              "version_major": 2,
              "version_minor": 0,
              "model_id": "21f580a934244ab7a7dc81f7c3a96056"
            }
          },
          "metadata": {}
        },
        {
          "output_type": "stream",
          "name": "stdout",
          "text": [
            "Early stopping at epoch 551\n"
          ]
        }
      ]
    },
    {
      "cell_type": "code",
      "source": [
        "graph.plot(np.array([t[0].numpy() for t in hist]), label='Causal Model')\n",
        "# graph.yscale('log')\n",
        "graph.ylabel('Causal Loss')\n",
        "graph.legend()\n",
        "graph.show()\n",
        "\n",
        "graph.plot(np.array([t[1].numpy() for t in hist]), label='Causal Model')\n",
        "graph.axhline(treatment_effect, linestyle='--', color='black', lw=1.5, label='True Treatment Effect')\n",
        "graph.axhline(naive_causal_estimate, linestyle='--', color='red', lw=1.5, label='Naive Treatment Effect')\n",
        "graph.ylabel('CATE')\n",
        "graph.legend()\n",
        "graph.show()"
      ],
      "metadata": {
        "colab": {
          "base_uri": "https://localhost:8080/",
          "height": 881
        },
        "id": "0yu1ZRaQQ2ba",
        "outputId": "69e54e95-1070-4844-f2b5-5f7c3c398a17"
      },
      "execution_count": 9,
      "outputs": [
        {
          "output_type": "display_data",
          "data": {
            "text/plain": [
              "<Figure size 640x480 with 1 Axes>"
            ],
            "image/png": "[encoded data removed]"
          },
          "metadata": {}
        },
        {
          "output_type": "display_data",
          "data": {
            "text/plain": [
              "<Figure size 640x480 with 1 Axes>"
            ],
            "image/png": "[encoded data removed]"
          },
          "metadata": {}
        }
      ]
    },
    {
      "cell_type": "markdown",
      "source": [
        "_Stephen Anthony Rose_"
      ],
      "metadata": {
        "id": "o5QUJhbyZAW5"
      }
    }
  ]
}