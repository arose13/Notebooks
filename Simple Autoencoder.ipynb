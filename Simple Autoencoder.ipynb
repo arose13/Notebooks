{
 "cells": [
  {
   "cell_type": "code",
   "execution_count": 1,
   "metadata": {},
   "outputs": [
    {
     "name": "stderr",
     "output_type": "stream",
     "text": [
      "/home/stephen/miniconda3/lib/python3.6/site-packages/h5py/__init__.py:36: FutureWarning: Conversion of the second argument of issubdtype from `float` to `np.floating` is deprecated. In future, it will be treated as `np.float64 == np.dtype(float).type`.\n",
      "  from ._conv import register_converters as _register_converters\n",
      "Using TensorFlow backend.\n"
     ]
    }
   ],
   "source": [
    "import numpy as np\n",
    "import pandas as pd\n",
    "import scipy.stats as stats\n",
    "import matplotlib.pyplot as graph\n",
    "import seaborn as sns\n",
    "\n",
    "from rosey.helpers import vec_to_array\n",
    "\n",
    "from sklearn.model_selection import train_test_split\n",
    "from sklearn.preprocessing import MinMaxScaler\n",
    "\n",
    "import keras\n",
    "import keras.losses as klosses\n",
    "import keras.optimizers as kopt\n",
    "from keras.models import Model\n",
    "from keras.layers import Input, Dense, Dropout\n",
    "from keras.callbacks import EarlyStopping, ModelCheckpoint, ReduceLROnPlateau\n",
    "# %env KERAS_BACKEND=theano\n",
    "# %env THEANO_FLAGS=device=cuda3,floatX=float32,optimizer=fast_run\n",
    "\n",
    "graph.style.use('fivethirtyeight')\n",
    "\n",
    "def plot_number(xi, yi=''):\n",
    "    graph.figure(figsize=(1, 1))\n",
    "    graph.title('{}'.format(yi))\n",
    "    graph.imshow(xi.reshape(28, 28), cmap='Greys')\n",
    "    graph.xticks([])\n",
    "    graph.yticks([])\n",
    "    graph.grid(False)\n",
    "    graph.show()"
   ]
  },
  {
   "cell_type": "code",
   "execution_count": 2,
   "metadata": {},
   "outputs": [
    {
     "name": "stderr",
     "output_type": "stream",
     "text": [
      "/home/stephen/miniconda3/lib/python3.6/site-packages/sklearn/utils/validation.py:475: DataConversionWarning: Data with input dtype int64 was converted to float64 by MinMaxScaler.\n",
      "  warnings.warn(msg, DataConversionWarning)\n"
     ]
    },
    {
     "name": "stdout",
     "output_type": "stream",
     "text": [
      "(42000,) (42000, 784)\n",
      "(31500,)\n",
      "(10500,)\n",
      "(31500, 784)\n",
      "(10500, 784)\n"
     ]
    }
   ],
   "source": [
    "# Load data\n",
    "df = pd.read_csv('data/digit-recognizer/train.csv')\n",
    "\n",
    "y = df.pop('label')\n",
    "x = df.values\n",
    "x = MinMaxScaler().fit_transform(x)\n",
    "print(y.shape, x.shape)\n",
    "\n",
    "y_train, y_test, x_train, x_test = train_test_split(y, x, test_size=0.25)\n",
    "_ = [print(a.shape) for a in (y_train, y_test, x_train, x_test)]"
   ]
  },
  {
   "cell_type": "code",
   "execution_count": 3,
   "metadata": {},
   "outputs": [
    {
     "data": {
      "image/png": "[encoded data removed]",
      "text/plain": [
       "<Figure size 72x72 with 1 Axes>"
      ]
     },
     "metadata": {},
     "output_type": "display_data"
    },
    {
     "data": {
      "image/png": "[encoded data removed]",
      "text/plain": [
       "<Figure size 72x72 with 1 Axes>"
      ]
     },
     "metadata": {},
     "output_type": "display_data"
    },
    {
     "data": {
      "image/png": "[encoded data removed]",
      "text/plain": [
       "<Figure size 72x72 with 1 Axes>"
      ]
     },
     "metadata": {},
     "output_type": "display_data"
    }
   ],
   "source": [
    "plot_number(x[0, :])\n",
    "plot_number(x[39370, :])\n",
    "plot_number(x[17521, :])"
   ]
  },
  {
   "cell_type": "markdown",
   "metadata": {},
   "source": [
    "# Simple Autoencoder"
   ]
  },
  {
   "cell_type": "code",
   "execution_count": 4,
   "metadata": {},
   "outputs": [
    {
     "name": "stdout",
     "output_type": "stream",
     "text": [
      "_________________________________________________________________\n",
      "Layer (type)                 Output Shape              Param #   \n",
      "=================================================================\n",
      "input_1 (InputLayer)         (None, 784)               0         \n",
      "_________________________________________________________________\n",
      "dense_1 (Dense)              (None, 100)               78500     \n",
      "_________________________________________________________________\n",
      "dense_2 (Dense)              (None, 784)               79184     \n",
      "=================================================================\n",
      "Total params: 157,684\n",
      "Trainable params: 157,684\n",
      "Non-trainable params: 0\n",
      "_________________________________________________________________\n"
     ]
    },
    {
     "data": {
      "text/plain": [
       "None"
      ]
     },
     "metadata": {},
     "output_type": "display_data"
    }
   ],
   "source": [
    "# Simple Autoencoder\n",
    "input_layer = Input(shape=(x.shape[1],))\n",
    "\n",
    "encoder_layer = Dense(100, activation='elu')(input_layer)  # Bottleneck\n",
    "\n",
    "output_layer = Dense(x.shape[1], activation='sigmoid')(encoder_layer)\n",
    "\n",
    "# Create models\n",
    "autoencoder = Model(input_layer, output_layer)\n",
    "encoder = Model(input_layer, encoder_layer)\n",
    "\n",
    "display(autoencoder.summary())\n",
    "\n",
    "# Compile\n",
    "autoencoder.compile(\n",
    "    loss=klosses.binary_crossentropy,\n",
    "    optimizer=kopt.RMSprop(),\n",
    ")"
   ]
  },
  {
   "cell_type": "code",
   "execution_count": 5,
   "metadata": {},
   "outputs": [
    {
     "data": {
      "image/png": "[encoded data removed]",
      "text/plain": [
       "<Figure size 72x72 with 1 Axes>"
      ]
     },
     "metadata": {},
     "output_type": "display_data"
    },
    {
     "data": {
      "image/png": "[encoded data removed]",
      "text/plain": [
       "<Figure size 72x72 with 1 Axes>"
      ]
     },
     "metadata": {},
     "output_type": "display_data"
    },
    {
     "data": {
      "image/png": "[encoded data removed]",
      "text/plain": [
       "<Figure size 72x72 with 1 Axes>"
      ]
     },
     "metadata": {},
     "output_type": "display_data"
    },
    {
     "data": {
      "image/png": "[encoded data removed]",
      "text/plain": [
       "<Figure size 72x72 with 1 Axes>"
      ]
     },
     "metadata": {},
     "output_type": "display_data"
    },
    {
     "data": {
      "image/png": "[encoded data removed]",
      "text/plain": [
       "<Figure size 72x72 with 1 Axes>"
      ]
     },
     "metadata": {},
     "output_type": "display_data"
    },
    {
     "data": {
      "image/png": "[encoded data removed]",
      "text/plain": [
       "<Figure size 72x72 with 1 Axes>"
      ]
     },
     "metadata": {},
     "output_type": "display_data"
    }
   ],
   "source": [
    "# Before Fitting!\n",
    "for i in range(3):\n",
    "    number = vec_to_array(x_train[i, :]).T\n",
    "\n",
    "    plot_number(number)\n",
    "    plot_number(autoencoder.predict(number))"
   ]
  },
  {
   "cell_type": "code",
   "execution_count": 6,
   "metadata": {
    "scrolled": false
   },
   "outputs": [
    {
     "data": {
      "image/png": "[encoded data removed]",
      "text/plain": [
       "<Figure size 72x72 with 1 Axes>"
      ]
     },
     "metadata": {},
     "output_type": "display_data"
    },
    {
     "data": {
      "image/png": "[encoded data removed]",
      "text/plain": [
       "<Figure size 72x72 with 1 Axes>"
      ]
     },
     "metadata": {},
     "output_type": "display_data"
    },
    {
     "data": {
      "image/png": "[encoded data removed]",
      "text/plain": [
       "<Figure size 72x72 with 1 Axes>"
      ]
     },
     "metadata": {},
     "output_type": "display_data"
    },
    {
     "data": {
      "image/png": "[encoded data removed]",
      "text/plain": [
       "<Figure size 72x72 with 1 Axes>"
      ]
     },
     "metadata": {},
     "output_type": "display_data"
    },
    {
     "data": {
      "image/png": "[encoded data removed]",
      "text/plain": [
       "<Figure size 72x72 with 1 Axes>"
      ]
     },
     "metadata": {},
     "output_type": "display_data"
    },
    {
     "data": {
      "image/png": "[encoded data removed]",
      "text/plain": [
       "<Figure size 72x72 with 1 Axes>"
      ]
     },
     "metadata": {},
     "output_type": "display_data"
    },
    {
     "data": {
      "image/png": "[encoded data removed]",
      "text/plain": [
       "<Figure size 72x72 with 1 Axes>"
      ]
     },
     "metadata": {},
     "output_type": "display_data"
    },
    {
     "data": {
      "image/png": "[encoded data removed]",
      "text/plain": [
       "<Figure size 72x72 with 1 Axes>"
      ]
     },
     "metadata": {},
     "output_type": "display_data"
    },
    {
     "data": {
      "image/png": "[encoded data removed]",
      "text/plain": [
       "<Figure size 72x72 with 1 Axes>"
      ]
     },
     "metadata": {},
     "output_type": "display_data"
    },
    {
     "data": {
      "image/png": "[encoded data removed]",
      "text/plain": [
       "<Figure size 72x72 with 1 Axes>"
      ]
     },
     "metadata": {},
     "output_type": "display_data"
    },
    {
     "name": "stdout",
     "output_type": "stream",
     "text": [
      "Train on 31500 samples, validate on 10500 samples\n",
      "Epoch 1/100\n",
      "31500/31500 [==============================] - 1s 47us/step - loss: 0.5414 - val_loss: 0.3616\n",
      "Epoch 2/100\n",
      "31500/31500 [==============================] - 1s 43us/step - loss: 0.3219 - val_loss: 0.2890\n",
      "Epoch 3/100\n",
      "31500/31500 [==============================] - 1s 43us/step - loss: 0.2786 - val_loss: 0.2659\n",
      "Epoch 4/100\n",
      "31500/31500 [==============================] - 1s 41us/step - loss: 0.2591 - val_loss: 0.2496\n",
      "Epoch 5/100\n",
      "31500/31500 [==============================] - 1s 41us/step - loss: 0.2438 - val_loss: 0.2355\n",
      "Epoch 6/100\n",
      "31500/31500 [==============================] - 1s 42us/step - loss: 0.2300 - val_loss: 0.2224\n",
      "Epoch 7/100\n",
      "31500/31500 [==============================] - 1s 41us/step - loss: 0.2173 - val_loss: 0.2102\n",
      "Epoch 8/100\n",
      "31500/31500 [==============================] - 1s 42us/step - loss: 0.2055 - val_loss: 0.1993\n",
      "Epoch 9/100\n",
      "31500/31500 [==============================] - 1s 42us/step - loss: 0.1952 - val_loss: 0.1900\n",
      "Epoch 10/100\n",
      "31500/31500 [==============================] - 1s 42us/step - loss: 0.1862 - val_loss: 0.1817\n",
      "Epoch 11/100\n",
      "31500/31500 [==============================] - 1s 42us/step - loss: 0.1786 - val_loss: 0.1749\n",
      "Epoch 12/100\n",
      "31500/31500 [==============================] - 1s 41us/step - loss: 0.1723 - val_loss: 0.1692\n",
      "Epoch 13/100\n",
      "31500/31500 [==============================] - 1s 41us/step - loss: 0.1667 - val_loss: 0.1642\n",
      "Epoch 14/100\n",
      "31500/31500 [==============================] - 1s 42us/step - loss: 0.1620 - val_loss: 0.1599\n",
      "Epoch 15/100\n",
      "31500/31500 [==============================] - 1s 42us/step - loss: 0.1578 - val_loss: 0.1556\n",
      "Epoch 16/100\n",
      "31500/31500 [==============================] - 1s 43us/step - loss: 0.1538 - val_loss: 0.1520\n",
      "Epoch 17/100\n",
      "31500/31500 [==============================] - 1s 41us/step - loss: 0.1502 - val_loss: 0.1486\n",
      "Epoch 18/100\n",
      "31500/31500 [==============================] - 1s 42us/step - loss: 0.1469 - val_loss: 0.1455\n",
      "Epoch 19/100\n",
      "31500/31500 [==============================] - 1s 41us/step - loss: 0.1439 - val_loss: 0.1422\n",
      "Epoch 20/100\n",
      "31500/31500 [==============================] - 1s 41us/step - loss: 0.1408 - val_loss: 0.1398\n",
      "Epoch 21/100\n",
      "31500/31500 [==============================] - 1s 41us/step - loss: 0.1382 - val_loss: 0.1369\n",
      "Epoch 22/100\n",
      "31500/31500 [==============================] - 1s 42us/step - loss: 0.1356 - val_loss: 0.1343\n",
      "Epoch 23/100\n",
      "31500/31500 [==============================] - 1s 41us/step - loss: 0.1330 - val_loss: 0.1321\n",
      "Epoch 24/100\n",
      "31500/31500 [==============================] - 1s 41us/step - loss: 0.1309 - val_loss: 0.1297\n",
      "Epoch 25/100\n",
      "31500/31500 [==============================] - 1s 41us/step - loss: 0.1286 - val_loss: 0.1278\n",
      "Epoch 26/100\n",
      "31500/31500 [==============================] - 1s 41us/step - loss: 0.1266 - val_loss: 0.1257\n",
      "Epoch 27/100\n",
      "31500/31500 [==============================] - 1s 41us/step - loss: 0.1247 - val_loss: 0.1242\n",
      "Epoch 28/100\n",
      "31500/31500 [==============================] - 1s 42us/step - loss: 0.1230 - val_loss: 0.1222\n",
      "Epoch 29/100\n",
      "31500/31500 [==============================] - 1s 42us/step - loss: 0.1214 - val_loss: 0.1207\n",
      "Epoch 30/100\n",
      "31500/31500 [==============================] - 1s 42us/step - loss: 0.1197 - val_loss: 0.1191\n",
      "Epoch 31/100\n",
      "31500/31500 [==============================] - 1s 41us/step - loss: 0.1182 - val_loss: 0.1178\n",
      "Epoch 32/100\n",
      "31500/31500 [==============================] - 1s 41us/step - loss: 0.1169 - val_loss: 0.1164\n",
      "Epoch 33/100\n",
      "31500/31500 [==============================] - 1s 41us/step - loss: 0.1156 - val_loss: 0.1149\n",
      "Epoch 34/100\n",
      "31500/31500 [==============================] - 1s 41us/step - loss: 0.1143 - val_loss: 0.1139\n",
      "Epoch 35/100\n",
      "31500/31500 [==============================] - 1s 41us/step - loss: 0.1132 - val_loss: 0.1126\n",
      "Epoch 36/100\n",
      "31500/31500 [==============================] - 1s 42us/step - loss: 0.1120 - val_loss: 0.1117\n",
      "Epoch 37/100\n",
      "31500/31500 [==============================] - 1s 41us/step - loss: 0.1108 - val_loss: 0.1107\n",
      "Epoch 38/100\n",
      "31500/31500 [==============================] - 1s 42us/step - loss: 0.1100 - val_loss: 0.1094\n",
      "Epoch 39/100\n",
      "31500/31500 [==============================] - 1s 42us/step - loss: 0.1088 - val_loss: 0.1087\n",
      "Epoch 40/100\n",
      "31500/31500 [==============================] - 1s 42us/step - loss: 0.1080 - val_loss: 0.1077\n",
      "Epoch 41/100\n",
      "31500/31500 [==============================] - 1s 41us/step - loss: 0.1071 - val_loss: 0.1068\n",
      "Epoch 42/100\n",
      "31500/31500 [==============================] - 1s 41us/step - loss: 0.1063 - val_loss: 0.1061\n",
      "Epoch 43/100\n",
      "31500/31500 [==============================] - 1s 42us/step - loss: 0.1055 - val_loss: 0.1055\n",
      "Epoch 44/100\n",
      "31500/31500 [==============================] - 1s 41us/step - loss: 0.1047 - val_loss: 0.1044\n",
      "Epoch 45/100\n",
      "31500/31500 [==============================] - 1s 41us/step - loss: 0.1039 - val_loss: 0.1042\n",
      "Epoch 46/100\n",
      "31500/31500 [==============================] - 1s 41us/step - loss: 0.1033 - val_loss: 0.1031\n",
      "Epoch 47/100\n",
      "31500/31500 [==============================] - 1s 42us/step - loss: 0.1026 - val_loss: 0.1026\n",
      "Epoch 48/100\n",
      "31500/31500 [==============================] - 1s 41us/step - loss: 0.1019 - val_loss: 0.1018\n",
      "Epoch 49/100\n",
      "31500/31500 [==============================] - 1s 42us/step - loss: 0.1014 - val_loss: 0.1013\n",
      "Epoch 50/100\n",
      "31500/31500 [==============================] - 1s 41us/step - loss: 0.1007 - val_loss: 0.1007\n",
      "Epoch 51/100\n",
      "31500/31500 [==============================] - 1s 45us/step - loss: 0.1002 - val_loss: 0.1001\n",
      "Epoch 52/100\n",
      "31500/31500 [==============================] - 1s 41us/step - loss: 0.0997 - val_loss: 0.0997\n",
      "Epoch 53/100\n",
      "31500/31500 [==============================] - 1s 41us/step - loss: 0.0990 - val_loss: 0.0990\n",
      "Epoch 54/100\n",
      "31500/31500 [==============================] - 1s 41us/step - loss: 0.0986 - val_loss: 0.0985\n",
      "Epoch 55/100\n",
      "31500/31500 [==============================] - 1s 42us/step - loss: 0.0981 - val_loss: 0.0983\n",
      "Epoch 56/100\n",
      "31500/31500 [==============================] - 1s 42us/step - loss: 0.0977 - val_loss: 0.0976\n",
      "Epoch 57/100\n",
      "31500/31500 [==============================] - 1s 45us/step - loss: 0.0970 - val_loss: 0.0973\n",
      "Epoch 58/100\n",
      "31500/31500 [==============================] - 1s 41us/step - loss: 0.0967 - val_loss: 0.0968\n",
      "Epoch 59/100\n",
      "31500/31500 [==============================] - 1s 42us/step - loss: 0.0964 - val_loss: 0.0964\n",
      "Epoch 60/100\n",
      "31500/31500 [==============================] - 1s 42us/step - loss: 0.0958 - val_loss: 0.0960\n",
      "Epoch 61/100\n",
      "31500/31500 [==============================] - 1s 41us/step - loss: 0.0954 - val_loss: 0.0955\n",
      "Epoch 62/100\n",
      "31500/31500 [==============================] - 1s 42us/step - loss: 0.0950 - val_loss: 0.0954\n",
      "Epoch 63/100\n",
      "31500/31500 [==============================] - 1s 41us/step - loss: 0.0946 - val_loss: 0.0949\n",
      "Epoch 64/100\n",
      "31500/31500 [==============================] - 1s 41us/step - loss: 0.0943 - val_loss: 0.0945\n",
      "Epoch 65/100\n",
      "31500/31500 [==============================] - 1s 41us/step - loss: 0.0939 - val_loss: 0.0941\n",
      "Epoch 66/100\n",
      "31500/31500 [==============================] - 1s 41us/step - loss: 0.0935 - val_loss: 0.0937\n",
      "Epoch 67/100\n",
      "31500/31500 [==============================] - 1s 42us/step - loss: 0.0932 - val_loss: 0.0935\n",
      "Epoch 68/100\n",
      "31500/31500 [==============================] - 1s 41us/step - loss: 0.0929 - val_loss: 0.0932\n",
      "Epoch 69/100\n",
      "31500/31500 [==============================] - 1s 41us/step - loss: 0.0926 - val_loss: 0.0927\n",
      "Epoch 70/100\n",
      "31500/31500 [==============================] - 1s 44us/step - loss: 0.0922 - val_loss: 0.0925\n",
      "Epoch 71/100\n",
      "31500/31500 [==============================] - 1s 42us/step - loss: 0.0920 - val_loss: 0.0922\n",
      "Epoch 72/100\n",
      "31500/31500 [==============================] - 1s 42us/step - loss: 0.0917 - val_loss: 0.0918\n",
      "Epoch 73/100\n",
      "31500/31500 [==============================] - 1s 42us/step - loss: 0.0914 - val_loss: 0.0916\n",
      "Epoch 74/100\n",
      "31500/31500 [==============================] - 1s 41us/step - loss: 0.0910 - val_loss: 0.0912\n",
      "Epoch 75/100\n",
      "31500/31500 [==============================] - 1s 41us/step - loss: 0.0908 - val_loss: 0.0912\n",
      "Epoch 76/100\n",
      "31500/31500 [==============================] - 1s 42us/step - loss: 0.0907 - val_loss: 0.0907\n",
      "Epoch 77/100\n"
     ]
    },
    {
     "name": "stdout",
     "output_type": "stream",
     "text": [
      "31500/31500 [==============================] - 1s 42us/step - loss: 0.0902 - val_loss: 0.0906\n",
      "Epoch 78/100\n",
      "31500/31500 [==============================] - 1s 42us/step - loss: 0.0900 - val_loss: 0.0903\n",
      "Epoch 79/100\n",
      "31500/31500 [==============================] - 1s 42us/step - loss: 0.0897 - val_loss: 0.0901\n",
      "Epoch 80/100\n",
      "31500/31500 [==============================] - 1s 42us/step - loss: 0.0895 - val_loss: 0.0896\n",
      "Epoch 81/100\n",
      "31500/31500 [==============================] - 1s 41us/step - loss: 0.0892 - val_loss: 0.0898\n",
      "Epoch 82/100\n",
      "31500/31500 [==============================] - 1s 42us/step - loss: 0.0891 - val_loss: 0.0892\n",
      "Epoch 83/100\n",
      "31500/31500 [==============================] - 1s 41us/step - loss: 0.0887 - val_loss: 0.0891\n",
      "Epoch 84/100\n",
      "31500/31500 [==============================] - 1s 42us/step - loss: 0.0886 - val_loss: 0.0888\n",
      "Epoch 85/100\n",
      "31500/31500 [==============================] - 1s 41us/step - loss: 0.0884 - val_loss: 0.0886\n",
      "Epoch 86/100\n",
      "31500/31500 [==============================] - 1s 41us/step - loss: 0.0881 - val_loss: 0.0885\n",
      "Epoch 87/100\n",
      "31500/31500 [==============================] - 1s 42us/step - loss: 0.0880 - val_loss: 0.0883\n",
      "Epoch 88/100\n",
      "31500/31500 [==============================] - 1s 42us/step - loss: 0.0876 - val_loss: 0.0881\n",
      "Epoch 89/100\n",
      "31500/31500 [==============================] - 1s 42us/step - loss: 0.0875 - val_loss: 0.0879\n",
      "Epoch 90/100\n",
      "31500/31500 [==============================] - 1s 42us/step - loss: 0.0874 - val_loss: 0.0877\n",
      "Epoch 91/100\n",
      "31500/31500 [==============================] - 1s 42us/step - loss: 0.0870 - val_loss: 0.0874\n",
      "Epoch 92/100\n",
      "31500/31500 [==============================] - 1s 42us/step - loss: 0.0868 - val_loss: 0.0873\n",
      "Epoch 93/100\n",
      "31500/31500 [==============================] - 1s 42us/step - loss: 0.0868 - val_loss: 0.0872\n",
      "Epoch 94/100\n",
      "31500/31500 [==============================] - 1s 42us/step - loss: 0.0866 - val_loss: 0.0870\n",
      "Epoch 95/100\n",
      "31500/31500 [==============================] - 1s 42us/step - loss: 0.0864 - val_loss: 0.0867\n",
      "Epoch 96/100\n",
      "31500/31500 [==============================] - 1s 41us/step - loss: 0.0862 - val_loss: 0.0866\n",
      "Epoch 97/100\n",
      "31500/31500 [==============================] - 1s 42us/step - loss: 0.0860 - val_loss: 0.0864\n",
      "Epoch 98/100\n",
      "31500/31500 [==============================] - 1s 42us/step - loss: 0.0859 - val_loss: 0.0864\n",
      "Epoch 99/100\n",
      "31500/31500 [==============================] - 1s 42us/step - loss: 0.0857 - val_loss: 0.0858\n",
      "Epoch 100/100\n",
      "31500/31500 [==============================] - 1s 42us/step - loss: 0.0856 - val_loss: 0.0861\n"
     ]
    },
    {
     "data": {
      "image/png": "[encoded data removed]",
      "text/plain": [
       "<Figure size 432x288 with 1 Axes>"
      ]
     },
     "metadata": {},
     "output_type": "display_data"
    },
    {
     "data": {
      "image/png": "[encoded data removed]",
      "text/plain": [
       "<Figure size 72x72 with 1 Axes>"
      ]
     },
     "metadata": {},
     "output_type": "display_data"
    },
    {
     "data": {
      "image/png": "[encoded data removed]",
      "text/plain": [
       "<Figure size 72x72 with 1 Axes>"
      ]
     },
     "metadata": {},
     "output_type": "display_data"
    },
    {
     "data": {
      "image/png": "[encoded data removed]",
      "text/plain": [
       "<Figure size 72x72 with 1 Axes>"
      ]
     },
     "metadata": {},
     "output_type": "display_data"
    },
    {
     "data": {
      "image/png": "[encoded data removed]",
      "text/plain": [
       "<Figure size 72x72 with 1 Axes>"
      ]
     },
     "metadata": {},
     "output_type": "display_data"
    },
    {
     "data": {
      "image/png": "[encoded data removed]",
      "text/plain": [
       "<Figure size 72x72 with 1 Axes>"
      ]
     },
     "metadata": {},
     "output_type": "display_data"
    },
    {
     "data": {
      "image/png": "[encoded data removed]",
      "text/plain": [
       "<Figure size 72x72 with 1 Axes>"
      ]
     },
     "metadata": {},
     "output_type": "display_data"
    },
    {
     "data": {
      "image/png": "[encoded data removed]",
      "text/plain": [
       "<Figure size 72x72 with 1 Axes>"
      ]
     },
     "metadata": {},
     "output_type": "display_data"
    },
    {
     "data": {
      "image/png": "[encoded data removed]",
      "text/plain": [
       "<Figure size 72x72 with 1 Axes>"
      ]
     },
     "metadata": {},
     "output_type": "display_data"
    },
    {
     "data": {
      "image/png": "[encoded data removed]",
      "text/plain": [
       "<Figure size 72x72 with 1 Axes>"
      ]
     },
     "metadata": {},
     "output_type": "display_data"
    },
    {
     "data": {
      "image/png": "[encoded data removed]",
      "text/plain": [
       "<Figure size 72x72 with 1 Axes>"
      ]
     },
     "metadata": {},
     "output_type": "display_data"
    },
    {
     "name": "stdout",
     "output_type": "stream",
     "text": [
      "Train on 31500 samples, validate on 10500 samples\n",
      "Epoch 1/100\n",
      "31500/31500 [==============================] - 1s 41us/step - loss: 0.0853 - val_loss: 0.0858\n",
      "Epoch 2/100\n",
      "31500/31500 [==============================] - 1s 42us/step - loss: 0.0853 - val_loss: 0.0854\n",
      "Epoch 3/100\n",
      "31500/31500 [==============================] - 1s 41us/step - loss: 0.0850 - val_loss: 0.0855\n",
      "Epoch 4/100\n",
      "31500/31500 [==============================] - 1s 41us/step - loss: 0.0849 - val_loss: 0.0852\n",
      "Epoch 5/100\n",
      "31500/31500 [==============================] - 1s 42us/step - loss: 0.0848 - val_loss: 0.0852\n",
      "Epoch 6/100\n",
      "31500/31500 [==============================] - 1s 41us/step - loss: 0.0846 - val_loss: 0.0850\n",
      "Epoch 7/100\n",
      "31500/31500 [==============================] - 1s 41us/step - loss: 0.0845 - val_loss: 0.0849\n",
      "Epoch 8/100\n",
      "31500/31500 [==============================] - 1s 41us/step - loss: 0.0843 - val_loss: 0.0847\n",
      "Epoch 9/100\n",
      "31500/31500 [==============================] - 1s 41us/step - loss: 0.0843 - val_loss: 0.0846\n",
      "Epoch 10/100\n",
      "31500/31500 [==============================] - 1s 42us/step - loss: 0.0840 - val_loss: 0.0844\n",
      "Epoch 11/100\n",
      "31500/31500 [==============================] - 1s 42us/step - loss: 0.0839 - val_loss: 0.0843\n",
      "Epoch 12/100\n",
      "31500/31500 [==============================] - 1s 40us/step - loss: 0.0839 - val_loss: 0.0842\n",
      "Epoch 13/100\n",
      "31500/31500 [==============================] - 1s 44us/step - loss: 0.0836 - val_loss: 0.0842\n",
      "Epoch 14/100\n",
      "31500/31500 [==============================] - 1s 41us/step - loss: 0.0836 - val_loss: 0.0840\n",
      "Epoch 15/100\n",
      "31500/31500 [==============================] - 1s 42us/step - loss: 0.0834 - val_loss: 0.0839\n",
      "Epoch 16/100\n",
      "31500/31500 [==============================] - 1s 46us/step - loss: 0.0834 - val_loss: 0.0838\n",
      "Epoch 17/100\n",
      "31500/31500 [==============================] - 1s 43us/step - loss: 0.0832 - val_loss: 0.0836\n",
      "Epoch 18/100\n",
      "31500/31500 [==============================] - 1s 40us/step - loss: 0.0831 - val_loss: 0.0836\n",
      "Epoch 19/100\n",
      "31500/31500 [==============================] - 1s 42us/step - loss: 0.0830 - val_loss: 0.0835\n",
      "Epoch 20/100\n",
      "31500/31500 [==============================] - 1s 44us/step - loss: 0.0830 - val_loss: 0.0834\n",
      "Epoch 21/100\n",
      "31500/31500 [==============================] - 1s 42us/step - loss: 0.0827 - val_loss: 0.0831\n",
      "Epoch 22/100\n",
      "31500/31500 [==============================] - 1s 41us/step - loss: 0.0826 - val_loss: 0.0833\n",
      "Epoch 23/100\n",
      "31500/31500 [==============================] - 1s 40us/step - loss: 0.0826 - val_loss: 0.0829\n",
      "Epoch 24/100\n",
      "31500/31500 [==============================] - 1s 39us/step - loss: 0.0824 - val_loss: 0.0829\n",
      "Epoch 25/100\n",
      "31500/31500 [==============================] - 1s 38us/step - loss: 0.0823 - val_loss: 0.0829\n",
      "Epoch 26/100\n",
      "31500/31500 [==============================] - 1s 41us/step - loss: 0.0822 - val_loss: 0.0826\n",
      "Epoch 27/100\n",
      "31500/31500 [==============================] - 1s 41us/step - loss: 0.0823 - val_loss: 0.0826\n",
      "Epoch 28/100\n",
      "31500/31500 [==============================] - 1s 43us/step - loss: 0.0820 - val_loss: 0.0827\n",
      "Epoch 29/100\n",
      "31500/31500 [==============================] - 1s 43us/step - loss: 0.0820 - val_loss: 0.0824\n",
      "Epoch 30/100\n",
      "31500/31500 [==============================] - 1s 43us/step - loss: 0.0818 - val_loss: 0.0823\n",
      "Epoch 31/100\n",
      "31500/31500 [==============================] - 1s 43us/step - loss: 0.0818 - val_loss: 0.0823\n",
      "Epoch 32/100\n",
      "31500/31500 [==============================] - 1s 42us/step - loss: 0.0817 - val_loss: 0.0823\n",
      "Epoch 33/100\n",
      "31500/31500 [==============================] - 1s 41us/step - loss: 0.0816 - val_loss: 0.0820\n",
      "Epoch 34/100\n",
      "31500/31500 [==============================] - 1s 41us/step - loss: 0.0816 - val_loss: 0.0822\n",
      "Epoch 35/100\n",
      "31500/31500 [==============================] - 1s 41us/step - loss: 0.0814 - val_loss: 0.0818\n",
      "Epoch 36/100\n",
      "31500/31500 [==============================] - 1s 41us/step - loss: 0.0814 - val_loss: 0.0819\n",
      "Epoch 37/100\n",
      "31500/31500 [==============================] - 1s 42us/step - loss: 0.0813 - val_loss: 0.0816\n",
      "Epoch 38/100\n",
      "31500/31500 [==============================] - 1s 41us/step - loss: 0.0811 - val_loss: 0.0817\n",
      "Epoch 39/100\n",
      "31500/31500 [==============================] - 1s 42us/step - loss: 0.0811 - val_loss: 0.0815\n",
      "Epoch 40/100\n",
      "31500/31500 [==============================] - 1s 42us/step - loss: 0.0810 - val_loss: 0.0815\n",
      "Epoch 41/100\n",
      "31500/31500 [==============================] - 1s 41us/step - loss: 0.0810 - val_loss: 0.0815\n",
      "Epoch 42/100\n",
      "31500/31500 [==============================] - 1s 42us/step - loss: 0.0808 - val_loss: 0.0814\n",
      "Epoch 43/100\n",
      "31500/31500 [==============================] - 1s 41us/step - loss: 0.0809 - val_loss: 0.0812\n",
      "Epoch 44/100\n",
      "31500/31500 [==============================] - 1s 41us/step - loss: 0.0807 - val_loss: 0.0812\n",
      "Epoch 45/100\n",
      "31500/31500 [==============================] - 1s 41us/step - loss: 0.0807 - val_loss: 0.0812\n",
      "Epoch 46/100\n",
      "31500/31500 [==============================] - 1s 42us/step - loss: 0.0806 - val_loss: 0.0810\n",
      "Epoch 47/100\n",
      "31500/31500 [==============================] - 1s 41us/step - loss: 0.0805 - val_loss: 0.0811\n",
      "Epoch 48/100\n",
      "31500/31500 [==============================] - 1s 41us/step - loss: 0.0805 - val_loss: 0.0809\n",
      "Epoch 49/100\n",
      "31500/31500 [==============================] - 1s 42us/step - loss: 0.0803 - val_loss: 0.0810\n",
      "Epoch 50/100\n",
      "31500/31500 [==============================] - 1s 42us/step - loss: 0.0803 - val_loss: 0.0809\n",
      "Epoch 51/100\n",
      "31500/31500 [==============================] - 1s 41us/step - loss: 0.0802 - val_loss: 0.0807\n",
      "Epoch 52/100\n",
      "31500/31500 [==============================] - 1s 42us/step - loss: 0.0802 - val_loss: 0.0807\n",
      "Epoch 53/100\n",
      "31500/31500 [==============================] - 1s 41us/step - loss: 0.0801 - val_loss: 0.0806\n",
      "Epoch 54/100\n",
      "31500/31500 [==============================] - 1s 42us/step - loss: 0.0800 - val_loss: 0.0806\n",
      "Epoch 55/100\n",
      "31500/31500 [==============================] - 1s 41us/step - loss: 0.0799 - val_loss: 0.0805\n",
      "Epoch 56/100\n",
      "31500/31500 [==============================] - 1s 41us/step - loss: 0.0801 - val_loss: 0.0804\n",
      "Epoch 57/100\n",
      "31500/31500 [==============================] - 1s 41us/step - loss: 0.0797 - val_loss: 0.0804\n",
      "Epoch 58/100\n",
      "31500/31500 [==============================] - 1s 41us/step - loss: 0.0799 - val_loss: 0.0803\n",
      "Epoch 59/100\n",
      "31500/31500 [==============================] - 1s 41us/step - loss: 0.0797 - val_loss: 0.0803\n",
      "Epoch 60/100\n",
      "31500/31500 [==============================] - 1s 41us/step - loss: 0.0796 - val_loss: 0.0802\n",
      "Epoch 61/100\n",
      "31500/31500 [==============================] - 1s 41us/step - loss: 0.0797 - val_loss: 0.0802\n",
      "Epoch 62/100\n",
      "31500/31500 [==============================] - 1s 42us/step - loss: 0.0796 - val_loss: 0.0801\n",
      "Epoch 63/100\n",
      "31500/31500 [==============================] - 1s 42us/step - loss: 0.0795 - val_loss: 0.0800\n",
      "Epoch 64/100\n",
      "31500/31500 [==============================] - 1s 41us/step - loss: 0.0794 - val_loss: 0.0798\n",
      "Epoch 65/100\n",
      "31500/31500 [==============================] - 1s 41us/step - loss: 0.0793 - val_loss: 0.0799\n",
      "Epoch 66/100\n",
      "31500/31500 [==============================] - 1s 41us/step - loss: 0.0793 - val_loss: 0.0798\n",
      "Epoch 67/100\n",
      "31500/31500 [==============================] - 1s 41us/step - loss: 0.0793 - val_loss: 0.0797\n",
      "Epoch 68/100\n",
      "31500/31500 [==============================] - 1s 42us/step - loss: 0.0793 - val_loss: 0.0797\n",
      "Epoch 69/100\n",
      "31500/31500 [==============================] - 1s 41us/step - loss: 0.0791 - val_loss: 0.0798\n",
      "Epoch 70/100\n",
      "31500/31500 [==============================] - 1s 42us/step - loss: 0.0790 - val_loss: 0.0796\n",
      "Epoch 71/100\n",
      "31500/31500 [==============================] - 1s 41us/step - loss: 0.0791 - val_loss: 0.0796\n",
      "Epoch 72/100\n",
      "31500/31500 [==============================] - 1s 41us/step - loss: 0.0789 - val_loss: 0.0797\n",
      "Epoch 73/100\n",
      "31500/31500 [==============================] - 1s 40us/step - loss: 0.0790 - val_loss: 0.0795\n",
      "Epoch 74/100\n",
      "31500/31500 [==============================] - 1s 41us/step - loss: 0.0788 - val_loss: 0.0793\n",
      "Epoch 75/100\n",
      "31500/31500 [==============================] - 1s 43us/step - loss: 0.0788 - val_loss: 0.0794\n",
      "Epoch 76/100\n",
      "31500/31500 [==============================] - 1s 39us/step - loss: 0.0788 - val_loss: 0.0794\n",
      "Epoch 77/100\n"
     ]
    },
    {
     "name": "stdout",
     "output_type": "stream",
     "text": [
      "31500/31500 [==============================] - 1s 40us/step - loss: 0.0788 - val_loss: 0.0793\n",
      "Epoch 78/100\n",
      "31500/31500 [==============================] - 1s 39us/step - loss: 0.0787 - val_loss: 0.0793\n",
      "Epoch 79/100\n",
      "31500/31500 [==============================] - 1s 40us/step - loss: 0.0786 - val_loss: 0.0792\n",
      "Epoch 80/100\n",
      "31500/31500 [==============================] - 1s 40us/step - loss: 0.0785 - val_loss: 0.0793\n",
      "Epoch 81/100\n",
      "31500/31500 [==============================] - 1s 44us/step - loss: 0.0786 - val_loss: 0.0790\n",
      "Epoch 82/100\n",
      "31500/31500 [==============================] - 1s 41us/step - loss: 0.0785 - val_loss: 0.0793\n",
      "Epoch 83/100\n",
      "31500/31500 [==============================] - 1s 42us/step - loss: 0.0784 - val_loss: 0.0790\n",
      "Epoch 84/100\n",
      "31500/31500 [==============================] - 1s 41us/step - loss: 0.0785 - val_loss: 0.0793\n",
      "Epoch 85/100\n",
      "31500/31500 [==============================] - 1s 45us/step - loss: 0.0783 - val_loss: 0.0787\n",
      "Epoch 86/100\n",
      "31500/31500 [==============================] - 1s 40us/step - loss: 0.0783 - val_loss: 0.0789\n",
      "Epoch 87/100\n",
      "31500/31500 [==============================] - 1s 43us/step - loss: 0.0783 - val_loss: 0.0788\n",
      "Epoch 88/100\n",
      "31500/31500 [==============================] - 1s 46us/step - loss: 0.0781 - val_loss: 0.0791\n",
      "Epoch 89/100\n",
      "31500/31500 [==============================] - 1s 41us/step - loss: 0.0783 - val_loss: 0.0787\n",
      "Epoch 90/100\n",
      "31500/31500 [==============================] - 1s 40us/step - loss: 0.0781 - val_loss: 0.0788\n",
      "Epoch 91/100\n",
      "31500/31500 [==============================] - 1s 39us/step - loss: 0.0780 - val_loss: 0.0786\n",
      "Epoch 92/100\n",
      "31500/31500 [==============================] - 1s 39us/step - loss: 0.0781 - val_loss: 0.0787\n",
      "Epoch 93/100\n",
      "31500/31500 [==============================] - 1s 40us/step - loss: 0.0780 - val_loss: 0.0786\n",
      "Epoch 94/100\n",
      "31500/31500 [==============================] - 1s 40us/step - loss: 0.0780 - val_loss: 0.0785\n",
      "Epoch 95/100\n",
      "31500/31500 [==============================] - 1s 42us/step - loss: 0.0780 - val_loss: 0.0784\n",
      "Epoch 96/100\n",
      "31500/31500 [==============================] - 1s 43us/step - loss: 0.0778 - val_loss: 0.0785\n",
      "Epoch 97/100\n",
      "31500/31500 [==============================] - 1s 44us/step - loss: 0.0779 - val_loss: 0.0784\n",
      "Epoch 98/100\n",
      "31500/31500 [==============================] - 1s 46us/step - loss: 0.0777 - val_loss: 0.0784\n",
      "Epoch 99/100\n",
      "31500/31500 [==============================] - 1s 43us/step - loss: 0.0778 - val_loss: 0.0784\n",
      "Epoch 100/100\n",
      "31500/31500 [==============================] - 1s 42us/step - loss: 0.0777 - val_loss: 0.0784\n"
     ]
    },
    {
     "data": {
      "image/png": "[encoded data removed]",
      "text/plain": [
       "<Figure size 432x288 with 1 Axes>"
      ]
     },
     "metadata": {},
     "output_type": "display_data"
    },
    {
     "data": {
      "image/png": "[encoded data removed]",
      "text/plain": [
       "<Figure size 72x72 with 1 Axes>"
      ]
     },
     "metadata": {},
     "output_type": "display_data"
    },
    {
     "data": {
      "image/png": "[encoded data removed]",
      "text/plain": [
       "<Figure size 72x72 with 1 Axes>"
      ]
     },
     "metadata": {},
     "output_type": "display_data"
    },
    {
     "data": {
      "image/png": "[encoded data removed]",
      "text/plain": [
       "<Figure size 72x72 with 1 Axes>"
      ]
     },
     "metadata": {},
     "output_type": "display_data"
    },
    {
     "data": {
      "image/png": "[encoded data removed]",
      "text/plain": [
       "<Figure size 72x72 with 1 Axes>"
      ]
     },
     "metadata": {},
     "output_type": "display_data"
    },
    {
     "data": {
      "image/png": "[encoded data removed]",
      "text/plain": [
       "<Figure size 72x72 with 1 Axes>"
      ]
     },
     "metadata": {},
     "output_type": "display_data"
    },
    {
     "data": {
      "image/png": "[encoded data removed]",
      "text/plain": [
       "<Figure size 72x72 with 1 Axes>"
      ]
     },
     "metadata": {},
     "output_type": "display_data"
    },
    {
     "data": {
      "image/png": "[encoded data removed]",
      "text/plain": [
       "<Figure size 72x72 with 1 Axes>"
      ]
     },
     "metadata": {},
     "output_type": "display_data"
    },
    {
     "data": {
      "image/png": "[encoded data removed]",
      "text/plain": [
       "<Figure size 72x72 with 1 Axes>"
      ]
     },
     "metadata": {},
     "output_type": "display_data"
    },
    {
     "data": {
      "image/png": "[encoded data removed]",
      "text/plain": [
       "<Figure size 72x72 with 1 Axes>"
      ]
     },
     "metadata": {},
     "output_type": "display_data"
    },
    {
     "data": {
      "image/png": "[encoded data removed]",
      "text/plain": [
       "<Figure size 72x72 with 1 Axes>"
      ]
     },
     "metadata": {},
     "output_type": "display_data"
    },
    {
     "name": "stdout",
     "output_type": "stream",
     "text": [
      "Train on 31500 samples, validate on 10500 samples\n",
      "Epoch 1/100\n",
      "31500/31500 [==============================] - 1s 38us/step - loss: 0.0777 - val_loss: 0.0783\n",
      "Epoch 2/100\n",
      "31500/31500 [==============================] - 1s 37us/step - loss: 0.0776 - val_loss: 0.0781\n",
      "Epoch 3/100\n",
      "31500/31500 [==============================] - 1s 37us/step - loss: 0.0776 - val_loss: 0.0781\n",
      "Epoch 4/100\n",
      "31500/31500 [==============================] - 1s 37us/step - loss: 0.0775 - val_loss: 0.0782\n",
      "Epoch 5/100\n",
      "31500/31500 [==============================] - 1s 38us/step - loss: 0.0776 - val_loss: 0.0783\n",
      "Epoch 6/100\n",
      "31500/31500 [==============================] - 1s 38us/step - loss: 0.0774 - val_loss: 0.0782\n",
      "Epoch 7/100\n",
      "31500/31500 [==============================] - 1s 38us/step - loss: 0.0774 - val_loss: 0.0780\n",
      "Epoch 8/100\n",
      "31500/31500 [==============================] - 1s 38us/step - loss: 0.0774 - val_loss: 0.0781\n",
      "Epoch 9/100\n",
      "31500/31500 [==============================] - 1s 38us/step - loss: 0.0773 - val_loss: 0.0781\n",
      "Epoch 10/100\n",
      "31500/31500 [==============================] - 1s 38us/step - loss: 0.0773 - val_loss: 0.0780\n",
      "Epoch 11/100\n",
      "31500/31500 [==============================] - 1s 38us/step - loss: 0.0772 - val_loss: 0.0779\n",
      "Epoch 12/100\n",
      "31500/31500 [==============================] - 1s 38us/step - loss: 0.0773 - val_loss: 0.0779\n",
      "Epoch 13/100\n",
      "31500/31500 [==============================] - 1s 38us/step - loss: 0.0772 - val_loss: 0.0778\n",
      "Epoch 14/100\n",
      "31500/31500 [==============================] - 1s 38us/step - loss: 0.0772 - val_loss: 0.0779\n",
      "Epoch 15/100\n",
      "31500/31500 [==============================] - 1s 38us/step - loss: 0.0771 - val_loss: 0.0778\n",
      "Epoch 16/100\n",
      "31500/31500 [==============================] - 1s 38us/step - loss: 0.0771 - val_loss: 0.0778\n",
      "Epoch 17/100\n",
      "31500/31500 [==============================] - 1s 38us/step - loss: 0.0771 - val_loss: 0.0778\n",
      "Epoch 18/100\n",
      "31500/31500 [==============================] - 1s 38us/step - loss: 0.0771 - val_loss: 0.0777\n",
      "Epoch 19/100\n",
      "31500/31500 [==============================] - 1s 38us/step - loss: 0.0769 - val_loss: 0.0776\n",
      "Epoch 20/100\n",
      "31500/31500 [==============================] - 1s 38us/step - loss: 0.0770 - val_loss: 0.0775\n",
      "Epoch 21/100\n",
      "31500/31500 [==============================] - 1s 38us/step - loss: 0.0769 - val_loss: 0.0775\n",
      "Epoch 22/100\n",
      "31500/31500 [==============================] - 1s 38us/step - loss: 0.0769 - val_loss: 0.0775\n",
      "Epoch 23/100\n",
      "31500/31500 [==============================] - 1s 38us/step - loss: 0.0768 - val_loss: 0.0775\n",
      "Epoch 24/100\n",
      "31500/31500 [==============================] - 1s 38us/step - loss: 0.0769 - val_loss: 0.0774\n",
      "Epoch 25/100\n",
      "31500/31500 [==============================] - 1s 38us/step - loss: 0.0768 - val_loss: 0.0775\n",
      "Epoch 26/100\n",
      "31500/31500 [==============================] - 1s 38us/step - loss: 0.0767 - val_loss: 0.0773\n",
      "Epoch 27/100\n",
      "31500/31500 [==============================] - 1s 38us/step - loss: 0.0767 - val_loss: 0.0773\n",
      "Epoch 28/100\n",
      "31500/31500 [==============================] - 1s 38us/step - loss: 0.0766 - val_loss: 0.0774\n",
      "Epoch 29/100\n",
      "31500/31500 [==============================] - 1s 38us/step - loss: 0.0767 - val_loss: 0.0774\n",
      "Epoch 30/100\n",
      "31500/31500 [==============================] - 1s 39us/step - loss: 0.0766 - val_loss: 0.0773\n",
      "Epoch 31/100\n",
      "31500/31500 [==============================] - 1s 38us/step - loss: 0.0765 - val_loss: 0.0773\n",
      "Epoch 32/100\n",
      "31500/31500 [==============================] - 1s 38us/step - loss: 0.0766 - val_loss: 0.0773\n",
      "\n",
      "Epoch 00032: ReduceLROnPlateau reducing learning rate to 0.0005000000237487257.\n",
      "Epoch 33/100\n",
      "31500/31500 [==============================] - 1s 38us/step - loss: 0.0759 - val_loss: 0.0764\n",
      "Epoch 34/100\n",
      "31500/31500 [==============================] - 1s 38us/step - loss: 0.0757 - val_loss: 0.0764\n",
      "Epoch 35/100\n",
      "31500/31500 [==============================] - 1s 38us/step - loss: 0.0759 - val_loss: 0.0765\n",
      "Epoch 36/100\n",
      "31500/31500 [==============================] - 1s 38us/step - loss: 0.0759 - val_loss: 0.0765\n",
      "Epoch 37/100\n",
      "31500/31500 [==============================] - 1s 38us/step - loss: 0.0758 - val_loss: 0.0765\n",
      "Epoch 38/100\n",
      "31500/31500 [==============================] - 1s 38us/step - loss: 0.0758 - val_loss: 0.0765\n",
      "Epoch 39/100\n",
      "31500/31500 [==============================] - 1s 38us/step - loss: 0.0758 - val_loss: 0.0765\n",
      "\n",
      "Epoch 00039: ReduceLROnPlateau reducing learning rate to 0.0002500000118743628.\n",
      "Epoch 40/100\n",
      "31500/31500 [==============================] - 1s 38us/step - loss: 0.0756 - val_loss: 0.0762\n",
      "Epoch 41/100\n",
      "31500/31500 [==============================] - 1s 39us/step - loss: 0.0755 - val_loss: 0.0762\n",
      "Epoch 42/100\n",
      "31500/31500 [==============================] - 1s 39us/step - loss: 0.0755 - val_loss: 0.0762\n",
      "Epoch 43/100\n",
      "31500/31500 [==============================] - 1s 39us/step - loss: 0.0755 - val_loss: 0.0762\n",
      "Epoch 44/100\n",
      "31500/31500 [==============================] - 1s 39us/step - loss: 0.0755 - val_loss: 0.0762\n",
      "Epoch 45/100\n",
      "31500/31500 [==============================] - 1s 38us/step - loss: 0.0755 - val_loss: 0.0761\n",
      "Epoch 46/100\n",
      "31500/31500 [==============================] - 1s 38us/step - loss: 0.0754 - val_loss: 0.0761\n",
      "\n",
      "Epoch 00046: ReduceLROnPlateau reducing learning rate to 0.0001250000059371814.\n",
      "Epoch 47/100\n",
      "31500/31500 [==============================] - 1s 38us/step - loss: 0.0754 - val_loss: 0.0760\n",
      "Epoch 48/100\n",
      "31500/31500 [==============================] - 1s 38us/step - loss: 0.0754 - val_loss: 0.0760\n",
      "Epoch 49/100\n",
      "31500/31500 [==============================] - 1s 38us/step - loss: 0.0753 - val_loss: 0.0760\n",
      "Epoch 50/100\n",
      "31500/31500 [==============================] - 1s 38us/step - loss: 0.0753 - val_loss: 0.0760\n",
      "Epoch 51/100\n",
      "31500/31500 [==============================] - 1s 38us/step - loss: 0.0753 - val_loss: 0.0760\n",
      "Epoch 52/100\n",
      "31500/31500 [==============================] - 1s 40us/step - loss: 0.0753 - val_loss: 0.0760\n",
      "Epoch 53/100\n",
      "31500/31500 [==============================] - 1s 38us/step - loss: 0.0753 - val_loss: 0.0760\n",
      "\n",
      "Epoch 00053: ReduceLROnPlateau reducing learning rate to 6.25000029685907e-05.\n",
      "Epoch 54/100\n",
      "31500/31500 [==============================] - 1s 39us/step - loss: 0.0752 - val_loss: 0.0759\n",
      "Epoch 55/100\n",
      "31500/31500 [==============================] - 1s 38us/step - loss: 0.0752 - val_loss: 0.0759\n",
      "Epoch 56/100\n",
      "31500/31500 [==============================] - 1s 38us/step - loss: 0.0752 - val_loss: 0.0759\n",
      "Epoch 57/100\n",
      "31500/31500 [==============================] - 1s 38us/step - loss: 0.0752 - val_loss: 0.0759\n",
      "Epoch 58/100\n",
      "31500/31500 [==============================] - 1s 39us/step - loss: 0.0752 - val_loss: 0.0759\n",
      "Epoch 59/100\n",
      "31500/31500 [==============================] - 1s 40us/step - loss: 0.0752 - val_loss: 0.0759\n",
      "Epoch 60/100\n",
      "31500/31500 [==============================] - 1s 38us/step - loss: 0.0752 - val_loss: 0.0759\n",
      "\n",
      "Epoch 00060: ReduceLROnPlateau reducing learning rate to 3.125000148429535e-05.\n",
      "Epoch 61/100\n",
      "31500/31500 [==============================] - 1s 38us/step - loss: 0.0752 - val_loss: 0.0759\n",
      "Epoch 62/100\n",
      "31500/31500 [==============================] - 1s 38us/step - loss: 0.0752 - val_loss: 0.0759\n",
      "Epoch 63/100\n",
      "31500/31500 [==============================] - 1s 39us/step - loss: 0.0752 - val_loss: 0.0758\n",
      "Epoch 64/100\n",
      "31500/31500 [==============================] - 1s 38us/step - loss: 0.0752 - val_loss: 0.0758\n",
      "Epoch 65/100\n",
      "31500/31500 [==============================] - 1s 38us/step - loss: 0.0751 - val_loss: 0.0758\n",
      "\n",
      "Epoch 00065: ReduceLROnPlateau reducing learning rate to 1.5625000742147677e-05.\n",
      "Epoch 66/100\n",
      "31500/31500 [==============================] - 1s 38us/step - loss: 0.0751 - val_loss: 0.0758\n",
      "Epoch 67/100\n",
      "31500/31500 [==============================] - 1s 38us/step - loss: 0.0751 - val_loss: 0.0758\n",
      "Epoch 68/100\n",
      "31500/31500 [==============================] - 1s 38us/step - loss: 0.0751 - val_loss: 0.0758\n",
      "Epoch 69/100\n",
      "31500/31500 [==============================] - 1s 38us/step - loss: 0.0751 - val_loss: 0.0758\n",
      "Epoch 70/100\n",
      "31500/31500 [==============================] - 1s 38us/step - loss: 0.0751 - val_loss: 0.0758\n",
      "Epoch 71/100\n",
      "31500/31500 [==============================] - 1s 38us/step - loss: 0.0751 - val_loss: 0.0758\n",
      "Epoch 72/100\n"
     ]
    },
    {
     "name": "stdout",
     "output_type": "stream",
     "text": [
      "31500/31500 [==============================] - 1s 38us/step - loss: 0.0751 - val_loss: 0.0758\n",
      "Epoch 73/100\n",
      "31500/31500 [==============================] - 1s 38us/step - loss: 0.0751 - val_loss: 0.0758\n",
      "Epoch 74/100\n",
      "31500/31500 [==============================] - 1s 38us/step - loss: 0.0751 - val_loss: 0.0758\n",
      "Epoch 75/100\n",
      "31500/31500 [==============================] - 1s 38us/step - loss: 0.0751 - val_loss: 0.0758\n",
      "\n",
      "Epoch 00075: ReduceLROnPlateau reducing learning rate to 7.812500371073838e-06.\n",
      "Epoch 76/100\n",
      "31500/31500 [==============================] - 1s 39us/step - loss: 0.0751 - val_loss: 0.0758\n",
      "Epoch 77/100\n",
      "31500/31500 [==============================] - 1s 38us/step - loss: 0.0751 - val_loss: 0.0758\n",
      "Epoch 78/100\n",
      "31500/31500 [==============================] - 1s 38us/step - loss: 0.0751 - val_loss: 0.0758\n",
      "Epoch 79/100\n",
      "31500/31500 [==============================] - 1s 38us/step - loss: 0.0751 - val_loss: 0.0758\n",
      "Epoch 80/100\n",
      "31500/31500 [==============================] - 1s 38us/step - loss: 0.0751 - val_loss: 0.0758\n",
      "\n",
      "Epoch 00080: ReduceLROnPlateau reducing learning rate to 3.906250185536919e-06.\n",
      "Epoch 81/100\n",
      "31500/31500 [==============================] - 1s 38us/step - loss: 0.0751 - val_loss: 0.0758\n",
      "Epoch 82/100\n",
      "31500/31500 [==============================] - 1s 38us/step - loss: 0.0751 - val_loss: 0.0758\n",
      "Epoch 83/100\n",
      "31500/31500 [==============================] - 1s 38us/step - loss: 0.0751 - val_loss: 0.0758\n",
      "Epoch 84/100\n",
      "31500/31500 [==============================] - 1s 38us/step - loss: 0.0751 - val_loss: 0.0758\n",
      "Epoch 85/100\n",
      "31500/31500 [==============================] - 1s 38us/step - loss: 0.0751 - val_loss: 0.0758\n",
      "\n",
      "Epoch 00085: ReduceLROnPlateau reducing learning rate to 1.9531250927684596e-06.\n",
      "Epoch 86/100\n",
      "31500/31500 [==============================] - 1s 38us/step - loss: 0.0751 - val_loss: 0.0758\n",
      "Epoch 87/100\n",
      "31500/31500 [==============================] - 1s 38us/step - loss: 0.0751 - val_loss: 0.0758\n",
      "Epoch 88/100\n",
      "31500/31500 [==============================] - 1s 38us/step - loss: 0.0751 - val_loss: 0.0758\n",
      "Epoch 89/100\n",
      "31500/31500 [==============================] - 1s 38us/step - loss: 0.0751 - val_loss: 0.0758\n",
      "Epoch 90/100\n",
      "31500/31500 [==============================] - 1s 38us/step - loss: 0.0751 - val_loss: 0.0758\n",
      "\n",
      "Epoch 00090: ReduceLROnPlateau reducing learning rate to 1e-06.\n",
      "Epoch 91/100\n",
      "31500/31500 [==============================] - 1s 38us/step - loss: 0.0751 - val_loss: 0.0758\n",
      "Epoch 92/100\n",
      "31500/31500 [==============================] - 1s 38us/step - loss: 0.0751 - val_loss: 0.0758\n",
      "Epoch 93/100\n",
      "31500/31500 [==============================] - 1s 38us/step - loss: 0.0751 - val_loss: 0.0758\n",
      "Epoch 94/100\n",
      "31500/31500 [==============================] - 1s 38us/step - loss: 0.0751 - val_loss: 0.0758\n",
      "Epoch 95/100\n",
      "31500/31500 [==============================] - 1s 39us/step - loss: 0.0751 - val_loss: 0.0758\n",
      "Epoch 96/100\n",
      "31500/31500 [==============================] - 1s 38us/step - loss: 0.0751 - val_loss: 0.0758\n",
      "Epoch 97/100\n",
      "31500/31500 [==============================] - 1s 39us/step - loss: 0.0751 - val_loss: 0.0758\n",
      "Epoch 98/100\n",
      "31500/31500 [==============================] - 1s 38us/step - loss: 0.0751 - val_loss: 0.0758\n",
      "Epoch 99/100\n",
      "31500/31500 [==============================] - 1s 38us/step - loss: 0.0751 - val_loss: 0.0758\n",
      "Epoch 100/100\n",
      "31500/31500 [==============================] - 1s 38us/step - loss: 0.0751 - val_loss: 0.0758\n"
     ]
    },
    {
     "data": {
      "image/png": "[encoded data removed]",
      "text/plain": [
       "<Figure size 432x288 with 1 Axes>"
      ]
     },
     "metadata": {},
     "output_type": "display_data"
    },
    {
     "data": {
      "image/png": "[encoded data removed]",
      "text/plain": [
       "<Figure size 72x72 with 1 Axes>"
      ]
     },
     "metadata": {},
     "output_type": "display_data"
    },
    {
     "data": {
      "image/png": "[encoded data removed]",
      "text/plain": [
       "<Figure size 72x72 with 1 Axes>"
      ]
     },
     "metadata": {},
     "output_type": "display_data"
    },
    {
     "data": {
      "image/png": "[encoded data removed]",
      "text/plain": [
       "<Figure size 72x72 with 1 Axes>"
      ]
     },
     "metadata": {},
     "output_type": "display_data"
    },
    {
     "data": {
      "image/png": "[encoded data removed]",
      "text/plain": [
       "<Figure size 72x72 with 1 Axes>"
      ]
     },
     "metadata": {},
     "output_type": "display_data"
    },
    {
     "data": {
      "image/png": "[encoded data removed]",
      "text/plain": [
       "<Figure size 72x72 with 1 Axes>"
      ]
     },
     "metadata": {},
     "output_type": "display_data"
    },
    {
     "data": {
      "image/png": "[encoded data removed]",
      "text/plain": [
       "<Figure size 72x72 with 1 Axes>"
      ]
     },
     "metadata": {},
     "output_type": "display_data"
    },
    {
     "data": {
      "image/png": "[encoded data removed]",
      "text/plain": [
       "<Figure size 72x72 with 1 Axes>"
      ]
     },
     "metadata": {},
     "output_type": "display_data"
    },
    {
     "data": {
      "image/png": "[encoded data removed]",
      "text/plain": [
       "<Figure size 72x72 with 1 Axes>"
      ]
     },
     "metadata": {},
     "output_type": "display_data"
    },
    {
     "data": {
      "image/png": "[encoded data removed]",
      "text/plain": [
       "<Figure size 72x72 with 1 Axes>"
      ]
     },
     "metadata": {},
     "output_type": "display_data"
    },
    {
     "data": {
      "image/png": "[encoded data removed]",
      "text/plain": [
       "<Figure size 72x72 with 1 Axes>"
      ]
     },
     "metadata": {},
     "output_type": "display_data"
    },
    {
     "name": "stdout",
     "output_type": "stream",
     "text": [
      "Train on 31500 samples, validate on 10500 samples\n",
      "Epoch 1/100\n",
      "31500/31500 [==============================] - 1s 38us/step - loss: 0.0751 - val_loss: 0.0758\n",
      "Epoch 2/100\n",
      "31500/31500 [==============================] - 1s 38us/step - loss: 0.0751 - val_loss: 0.0758\n",
      "Epoch 3/100\n",
      "31500/31500 [==============================] - 1s 38us/step - loss: 0.0751 - val_loss: 0.0758\n",
      "Epoch 4/100\n",
      "31500/31500 [==============================] - 1s 38us/step - loss: 0.0751 - val_loss: 0.0758\n",
      "Epoch 5/100\n",
      "31500/31500 [==============================] - 1s 38us/step - loss: 0.0751 - val_loss: 0.0758\n",
      "Epoch 6/100\n",
      "31500/31500 [==============================] - 1s 38us/step - loss: 0.0751 - val_loss: 0.0758\n",
      "Epoch 7/100\n",
      "31500/31500 [==============================] - 1s 38us/step - loss: 0.0751 - val_loss: 0.0758\n",
      "Epoch 8/100\n",
      "31500/31500 [==============================] - 1s 38us/step - loss: 0.0751 - val_loss: 0.0758\n",
      "Epoch 9/100\n",
      "31500/31500 [==============================] - 1s 37us/step - loss: 0.0751 - val_loss: 0.0758\n",
      "Epoch 10/100\n",
      "31500/31500 [==============================] - 1s 38us/step - loss: 0.0751 - val_loss: 0.0758\n",
      "Epoch 11/100\n",
      "31500/31500 [==============================] - 1s 38us/step - loss: 0.0751 - val_loss: 0.0758\n",
      "Epoch 12/100\n",
      "31500/31500 [==============================] - 1s 38us/step - loss: 0.0751 - val_loss: 0.0758\n",
      "Epoch 13/100\n",
      "31500/31500 [==============================] - 1s 38us/step - loss: 0.0751 - val_loss: 0.0758\n",
      "Epoch 14/100\n",
      "31500/31500 [==============================] - 1s 38us/step - loss: 0.0751 - val_loss: 0.0758\n",
      "Epoch 15/100\n",
      "31500/31500 [==============================] - 1s 38us/step - loss: 0.0751 - val_loss: 0.0758\n",
      "Epoch 16/100\n",
      "31500/31500 [==============================] - 1s 38us/step - loss: 0.0751 - val_loss: 0.0758\n",
      "Epoch 17/100\n",
      "31500/31500 [==============================] - 1s 38us/step - loss: 0.0751 - val_loss: 0.0758\n",
      "Epoch 18/100\n",
      "31500/31500 [==============================] - 1s 37us/step - loss: 0.0751 - val_loss: 0.0758\n",
      "Epoch 19/100\n",
      "31500/31500 [==============================] - 1s 37us/step - loss: 0.0751 - val_loss: 0.0758\n",
      "Epoch 20/100\n",
      "31500/31500 [==============================] - 1s 38us/step - loss: 0.0751 - val_loss: 0.0758\n",
      "Epoch 21/100\n",
      "31500/31500 [==============================] - 1s 37us/step - loss: 0.0751 - val_loss: 0.0758\n",
      "Epoch 22/100\n",
      "31500/31500 [==============================] - 1s 38us/step - loss: 0.0751 - val_loss: 0.0758\n",
      "Epoch 23/100\n",
      "31500/31500 [==============================] - 1s 40us/step - loss: 0.0751 - val_loss: 0.0758\n",
      "Epoch 24/100\n",
      "31500/31500 [==============================] - 1s 37us/step - loss: 0.0751 - val_loss: 0.0758\n",
      "Epoch 25/100\n",
      "31500/31500 [==============================] - 1s 39us/step - loss: 0.0751 - val_loss: 0.0758\n",
      "Epoch 26/100\n",
      "31500/31500 [==============================] - 1s 37us/step - loss: 0.0751 - val_loss: 0.0758\n",
      "Epoch 27/100\n",
      "31500/31500 [==============================] - 1s 39us/step - loss: 0.0751 - val_loss: 0.0758\n",
      "Epoch 28/100\n",
      "31500/31500 [==============================] - 1s 39us/step - loss: 0.0751 - val_loss: 0.0758\n",
      "Epoch 29/100\n",
      "31500/31500 [==============================] - 1s 37us/step - loss: 0.0751 - val_loss: 0.0758\n",
      "Epoch 30/100\n",
      "31500/31500 [==============================] - 1s 39us/step - loss: 0.0751 - val_loss: 0.0758\n",
      "Epoch 31/100\n",
      "31500/31500 [==============================] - 1s 39us/step - loss: 0.0751 - val_loss: 0.0758\n",
      "Epoch 32/100\n",
      "31500/31500 [==============================] - 1s 38us/step - loss: 0.0751 - val_loss: 0.0758\n",
      "Epoch 33/100\n",
      "31500/31500 [==============================] - 1s 36us/step - loss: 0.0751 - val_loss: 0.0758\n",
      "Epoch 34/100\n",
      "31500/31500 [==============================] - 1s 37us/step - loss: 0.0751 - val_loss: 0.0758\n",
      "Epoch 35/100\n",
      "31500/31500 [==============================] - 1s 38us/step - loss: 0.0751 - val_loss: 0.0758\n",
      "Epoch 36/100\n",
      "31500/31500 [==============================] - 1s 40us/step - loss: 0.0751 - val_loss: 0.0758\n",
      "Epoch 37/100\n",
      "31500/31500 [==============================] - 1s 38us/step - loss: 0.0751 - val_loss: 0.0758\n",
      "Epoch 38/100\n",
      "31500/31500 [==============================] - 1s 37us/step - loss: 0.0751 - val_loss: 0.0758\n",
      "Epoch 39/100\n",
      "31500/31500 [==============================] - 1s 37us/step - loss: 0.0751 - val_loss: 0.0758\n",
      "Epoch 40/100\n",
      "31500/31500 [==============================] - 1s 38us/step - loss: 0.0751 - val_loss: 0.0758\n",
      "Epoch 41/100\n",
      "31500/31500 [==============================] - 1s 37us/step - loss: 0.0751 - val_loss: 0.0758\n",
      "Epoch 42/100\n",
      "31500/31500 [==============================] - 1s 37us/step - loss: 0.0751 - val_loss: 0.0758\n",
      "Epoch 43/100\n",
      "31500/31500 [==============================] - 1s 37us/step - loss: 0.0751 - val_loss: 0.0758\n",
      "Epoch 44/100\n",
      "31500/31500 [==============================] - 1s 38us/step - loss: 0.0751 - val_loss: 0.0758\n",
      "Epoch 45/100\n",
      "31500/31500 [==============================] - 1s 37us/step - loss: 0.0751 - val_loss: 0.0758\n",
      "Epoch 46/100\n",
      "31500/31500 [==============================] - 1s 37us/step - loss: 0.0751 - val_loss: 0.0758\n",
      "Epoch 47/100\n",
      "31500/31500 [==============================] - 1s 38us/step - loss: 0.0751 - val_loss: 0.0758\n",
      "Epoch 48/100\n",
      "31500/31500 [==============================] - 1s 37us/step - loss: 0.0751 - val_loss: 0.0758\n",
      "Epoch 49/100\n",
      "31500/31500 [==============================] - 1s 37us/step - loss: 0.0751 - val_loss: 0.0758\n",
      "Epoch 50/100\n",
      "31500/31500 [==============================] - 1s 37us/step - loss: 0.0751 - val_loss: 0.0758\n",
      "Epoch 51/100\n",
      "31500/31500 [==============================] - 1s 39us/step - loss: 0.0751 - val_loss: 0.0758\n",
      "Epoch 52/100\n",
      "31500/31500 [==============================] - 1s 38us/step - loss: 0.0751 - val_loss: 0.0758\n",
      "Epoch 53/100\n",
      "31500/31500 [==============================] - 1s 37us/step - loss: 0.0751 - val_loss: 0.0758\n",
      "Epoch 54/100\n",
      "31500/31500 [==============================] - 1s 38us/step - loss: 0.0751 - val_loss: 0.0758\n",
      "Epoch 55/100\n",
      "31500/31500 [==============================] - 1s 38us/step - loss: 0.0751 - val_loss: 0.0758\n",
      "Epoch 56/100\n",
      "31500/31500 [==============================] - 1s 37us/step - loss: 0.0751 - val_loss: 0.0758\n",
      "Epoch 57/100\n",
      "31500/31500 [==============================] - 1s 37us/step - loss: 0.0751 - val_loss: 0.0758\n",
      "Epoch 58/100\n",
      "31500/31500 [==============================] - 1s 37us/step - loss: 0.0751 - val_loss: 0.0758\n",
      "Epoch 59/100\n",
      "31500/31500 [==============================] - 1s 37us/step - loss: 0.0751 - val_loss: 0.0758\n",
      "Epoch 60/100\n",
      "31500/31500 [==============================] - 1s 37us/step - loss: 0.0751 - val_loss: 0.0758\n",
      "Epoch 61/100\n",
      "31500/31500 [==============================] - 1s 40us/step - loss: 0.0751 - val_loss: 0.0758\n",
      "Epoch 62/100\n",
      "31500/31500 [==============================] - 1s 37us/step - loss: 0.0751 - val_loss: 0.0758\n",
      "Epoch 63/100\n",
      "31500/31500 [==============================] - 1s 37us/step - loss: 0.0751 - val_loss: 0.0758\n",
      "Epoch 64/100\n",
      "31500/31500 [==============================] - 1s 42us/step - loss: 0.0751 - val_loss: 0.0758\n",
      "Epoch 65/100\n",
      "31500/31500 [==============================] - 1s 36us/step - loss: 0.0751 - val_loss: 0.0758\n",
      "Epoch 66/100\n",
      "31500/31500 [==============================] - 1s 36us/step - loss: 0.0751 - val_loss: 0.0758\n",
      "Epoch 67/100\n",
      "31500/31500 [==============================] - 1s 36us/step - loss: 0.0751 - val_loss: 0.0758\n",
      "Epoch 68/100\n",
      "31500/31500 [==============================] - 1s 36us/step - loss: 0.0751 - val_loss: 0.0758\n",
      "Epoch 69/100\n",
      "31500/31500 [==============================] - 1s 37us/step - loss: 0.0751 - val_loss: 0.0758\n",
      "Epoch 70/100\n",
      "31500/31500 [==============================] - 1s 36us/step - loss: 0.0751 - val_loss: 0.0758\n",
      "Epoch 71/100\n",
      "31500/31500 [==============================] - 1s 36us/step - loss: 0.0751 - val_loss: 0.0758\n",
      "Epoch 72/100\n",
      "31500/31500 [==============================] - 1s 36us/step - loss: 0.0751 - val_loss: 0.0758\n",
      "Epoch 73/100\n",
      "31500/31500 [==============================] - 1s 37us/step - loss: 0.0751 - val_loss: 0.0758\n",
      "Epoch 74/100\n",
      "31500/31500 [==============================] - 1s 36us/step - loss: 0.0751 - val_loss: 0.0758\n",
      "Epoch 75/100\n",
      "31500/31500 [==============================] - 1s 41us/step - loss: 0.0751 - val_loss: 0.0758\n",
      "Epoch 76/100\n",
      "31500/31500 [==============================] - 1s 38us/step - loss: 0.0751 - val_loss: 0.0758\n",
      "Epoch 77/100\n"
     ]
    },
    {
     "name": "stdout",
     "output_type": "stream",
     "text": [
      "31500/31500 [==============================] - 1s 37us/step - loss: 0.0751 - val_loss: 0.0758\n",
      "Epoch 78/100\n",
      "31500/31500 [==============================] - 1s 36us/step - loss: 0.0751 - val_loss: 0.0758\n",
      "Epoch 79/100\n",
      "31500/31500 [==============================] - 1s 36us/step - loss: 0.0751 - val_loss: 0.0758\n",
      "Epoch 80/100\n",
      "31500/31500 [==============================] - 1s 37us/step - loss: 0.0751 - val_loss: 0.0758\n",
      "Epoch 81/100\n",
      "31500/31500 [==============================] - 1s 39us/step - loss: 0.0751 - val_loss: 0.0758\n",
      "Epoch 82/100\n",
      "31500/31500 [==============================] - 1s 38us/step - loss: 0.0751 - val_loss: 0.0758\n",
      "Epoch 83/100\n",
      "31500/31500 [==============================] - 1s 37us/step - loss: 0.0751 - val_loss: 0.0758\n",
      "Epoch 84/100\n",
      "31500/31500 [==============================] - 1s 37us/step - loss: 0.0751 - val_loss: 0.0758\n",
      "Epoch 85/100\n",
      "31500/31500 [==============================] - 1s 36us/step - loss: 0.0751 - val_loss: 0.0758\n",
      "Epoch 86/100\n",
      "31500/31500 [==============================] - 1s 36us/step - loss: 0.0751 - val_loss: 0.0758\n",
      "Epoch 87/100\n",
      "31500/31500 [==============================] - 1s 36us/step - loss: 0.0751 - val_loss: 0.0758\n",
      "Epoch 88/100\n",
      "31500/31500 [==============================] - 1s 38us/step - loss: 0.0751 - val_loss: 0.0758\n",
      "Epoch 89/100\n",
      "31500/31500 [==============================] - 1s 37us/step - loss: 0.0751 - val_loss: 0.0758\n",
      "Epoch 90/100\n",
      "31500/31500 [==============================] - 1s 36us/step - loss: 0.0751 - val_loss: 0.0758\n",
      "Epoch 91/100\n",
      "31500/31500 [==============================] - 1s 36us/step - loss: 0.0751 - val_loss: 0.0758\n",
      "Epoch 92/100\n",
      "31500/31500 [==============================] - 1s 36us/step - loss: 0.0751 - val_loss: 0.0758\n",
      "Epoch 93/100\n",
      "31500/31500 [==============================] - 1s 36us/step - loss: 0.0751 - val_loss: 0.0758\n",
      "Epoch 94/100\n",
      "31500/31500 [==============================] - 1s 37us/step - loss: 0.0751 - val_loss: 0.0758\n",
      "Epoch 95/100\n",
      "31500/31500 [==============================] - 1s 36us/step - loss: 0.0751 - val_loss: 0.0758\n",
      "Epoch 96/100\n",
      "31500/31500 [==============================] - 1s 37us/step - loss: 0.0751 - val_loss: 0.0758\n",
      "Epoch 97/100\n",
      "31500/31500 [==============================] - 1s 36us/step - loss: 0.0751 - val_loss: 0.0758\n",
      "Epoch 98/100\n",
      "31500/31500 [==============================] - 1s 36us/step - loss: 0.0751 - val_loss: 0.0758\n",
      "Epoch 99/100\n",
      "31500/31500 [==============================] - 1s 36us/step - loss: 0.0751 - val_loss: 0.0758\n",
      "Epoch 100/100\n",
      "31500/31500 [==============================] - 1s 37us/step - loss: 0.0751 - val_loss: 0.0758\n"
     ]
    },
    {
     "data": {
      "image/png": "[encoded data removed]",
      "text/plain": [
       "<Figure size 432x288 with 1 Axes>"
      ]
     },
     "metadata": {},
     "output_type": "display_data"
    },
    {
     "data": {
      "image/png": "[encoded data removed]",
      "text/plain": [
       "<Figure size 72x72 with 1 Axes>"
      ]
     },
     "metadata": {},
     "output_type": "display_data"
    },
    {
     "data": {
      "image/png": "[encoded data removed]",
      "text/plain": [
       "<Figure size 72x72 with 1 Axes>"
      ]
     },
     "metadata": {},
     "output_type": "display_data"
    },
    {
     "data": {
      "image/png": "[encoded data removed]",
      "text/plain": [
       "<Figure size 72x72 with 1 Axes>"
      ]
     },
     "metadata": {},
     "output_type": "display_data"
    },
    {
     "data": {
      "image/png": "[encoded data removed]",
      "text/plain": [
       "<Figure size 72x72 with 1 Axes>"
      ]
     },
     "metadata": {},
     "output_type": "display_data"
    },
    {
     "data": {
      "image/png": "[encoded data removed]",
      "text/plain": [
       "<Figure size 72x72 with 1 Axes>"
      ]
     },
     "metadata": {},
     "output_type": "display_data"
    },
    {
     "data": {
      "image/png": "[encoded data removed]",
      "text/plain": [
       "<Figure size 72x72 with 1 Axes>"
      ]
     },
     "metadata": {},
     "output_type": "display_data"
    },
    {
     "data": {
      "image/png": "[encoded data removed]",
      "text/plain": [
       "<Figure size 72x72 with 1 Axes>"
      ]
     },
     "metadata": {},
     "output_type": "display_data"
    },
    {
     "data": {
      "image/png": "[encoded data removed]",
      "text/plain": [
       "<Figure size 72x72 with 1 Axes>"
      ]
     },
     "metadata": {},
     "output_type": "display_data"
    },
    {
     "data": {
      "image/png": "[encoded data removed]",
      "text/plain": [
       "<Figure size 72x72 with 1 Axes>"
      ]
     },
     "metadata": {},
     "output_type": "display_data"
    },
    {
     "data": {
      "image/png": "[encoded data removed]",
      "text/plain": [
       "<Figure size 72x72 with 1 Axes>"
      ]
     },
     "metadata": {},
     "output_type": "display_data"
    },
    {
     "name": "stdout",
     "output_type": "stream",
     "text": [
      "Train on 31500 samples, validate on 10500 samples\n",
      "Epoch 1/100\n",
      "31500/31500 [==============================] - 1s 39us/step - loss: 0.0751 - val_loss: 0.0758\n",
      "Epoch 2/100\n",
      "31500/31500 [==============================] - 1s 39us/step - loss: 0.0751 - val_loss: 0.0758\n",
      "Epoch 3/100\n",
      "31500/31500 [==============================] - 1s 38us/step - loss: 0.0751 - val_loss: 0.0758\n",
      "Epoch 4/100\n",
      "31500/31500 [==============================] - 1s 38us/step - loss: 0.0751 - val_loss: 0.0758\n",
      "Epoch 5/100\n",
      "31500/31500 [==============================] - 1s 38us/step - loss: 0.0751 - val_loss: 0.0758\n",
      "Epoch 6/100\n",
      "31500/31500 [==============================] - 1s 38us/step - loss: 0.0751 - val_loss: 0.0758\n",
      "Epoch 7/100\n",
      "31500/31500 [==============================] - 1s 40us/step - loss: 0.0751 - val_loss: 0.0758\n",
      "Epoch 8/100\n",
      "31500/31500 [==============================] - 1s 40us/step - loss: 0.0751 - val_loss: 0.0758\n",
      "Epoch 9/100\n",
      "31500/31500 [==============================] - 1s 39us/step - loss: 0.0751 - val_loss: 0.0758\n",
      "Epoch 10/100\n",
      "31500/31500 [==============================] - 1s 39us/step - loss: 0.0751 - val_loss: 0.0758\n",
      "Epoch 11/100\n",
      "31500/31500 [==============================] - 1s 40us/step - loss: 0.0751 - val_loss: 0.0758\n",
      "Epoch 12/100\n",
      "31500/31500 [==============================] - 1s 42us/step - loss: 0.0751 - val_loss: 0.0758\n",
      "Epoch 13/100\n",
      "31500/31500 [==============================] - 1s 40us/step - loss: 0.0751 - val_loss: 0.0758\n",
      "Epoch 14/100\n",
      "31500/31500 [==============================] - 1s 38us/step - loss: 0.0751 - val_loss: 0.0758\n",
      "Epoch 15/100\n",
      "31500/31500 [==============================] - 1s 38us/step - loss: 0.0751 - val_loss: 0.0758\n",
      "Epoch 16/100\n",
      "31500/31500 [==============================] - 1s 42us/step - loss: 0.0751 - val_loss: 0.0758\n",
      "Epoch 17/100\n",
      "31500/31500 [==============================] - 1s 44us/step - loss: 0.0751 - val_loss: 0.0758\n",
      "Epoch 18/100\n",
      "31500/31500 [==============================] - 1s 39us/step - loss: 0.0751 - val_loss: 0.0758\n",
      "Epoch 19/100\n",
      "31500/31500 [==============================] - 1s 39us/step - loss: 0.0751 - val_loss: 0.0758\n",
      "Epoch 20/100\n",
      "31500/31500 [==============================] - 1s 39us/step - loss: 0.0751 - val_loss: 0.0758\n",
      "Epoch 21/100\n",
      "31500/31500 [==============================] - 1s 41us/step - loss: 0.0751 - val_loss: 0.0758\n",
      "Epoch 22/100\n",
      "31500/31500 [==============================] - 1s 41us/step - loss: 0.0751 - val_loss: 0.0758\n",
      "Epoch 23/100\n",
      "31500/31500 [==============================] - 1s 38us/step - loss: 0.0751 - val_loss: 0.0758\n",
      "Epoch 24/100\n",
      "31500/31500 [==============================] - 1s 39us/step - loss: 0.0751 - val_loss: 0.0758\n",
      "Epoch 25/100\n",
      "31500/31500 [==============================] - 1s 38us/step - loss: 0.0751 - val_loss: 0.0758\n",
      "Epoch 26/100\n",
      "31500/31500 [==============================] - 1s 40us/step - loss: 0.0751 - val_loss: 0.0758\n",
      "Epoch 27/100\n",
      "31500/31500 [==============================] - 1s 39us/step - loss: 0.0751 - val_loss: 0.0758\n",
      "Epoch 28/100\n",
      "31500/31500 [==============================] - 1s 40us/step - loss: 0.0751 - val_loss: 0.0758\n",
      "Epoch 29/100\n",
      "31500/31500 [==============================] - 1s 40us/step - loss: 0.0751 - val_loss: 0.0758\n",
      "Epoch 30/100\n",
      "31500/31500 [==============================] - 1s 40us/step - loss: 0.0751 - val_loss: 0.0758\n",
      "Epoch 31/100\n",
      "31500/31500 [==============================] - 1s 38us/step - loss: 0.0751 - val_loss: 0.0758\n",
      "Epoch 32/100\n",
      "31500/31500 [==============================] - 1s 39us/step - loss: 0.0751 - val_loss: 0.0758\n",
      "Epoch 33/100\n",
      "31500/31500 [==============================] - 1s 38us/step - loss: 0.0751 - val_loss: 0.0758\n",
      "Epoch 34/100\n",
      "31500/31500 [==============================] - 1s 38us/step - loss: 0.0751 - val_loss: 0.0758\n",
      "Epoch 35/100\n",
      "31500/31500 [==============================] - 1s 39us/step - loss: 0.0751 - val_loss: 0.0758\n",
      "Epoch 36/100\n",
      "31500/31500 [==============================] - 1s 38us/step - loss: 0.0751 - val_loss: 0.0758\n",
      "Epoch 37/100\n",
      "31500/31500 [==============================] - 1s 40us/step - loss: 0.0751 - val_loss: 0.0758\n",
      "Epoch 38/100\n",
      "31500/31500 [==============================] - 1s 40us/step - loss: 0.0751 - val_loss: 0.0758\n",
      "Epoch 39/100\n",
      "31500/31500 [==============================] - 1s 39us/step - loss: 0.0751 - val_loss: 0.0758\n",
      "Epoch 40/100\n",
      "31500/31500 [==============================] - 1s 39us/step - loss: 0.0751 - val_loss: 0.0758\n",
      "Epoch 41/100\n",
      "31500/31500 [==============================] - 1s 39us/step - loss: 0.0751 - val_loss: 0.0758\n",
      "Epoch 42/100\n",
      "31500/31500 [==============================] - 1s 39us/step - loss: 0.0751 - val_loss: 0.0758\n",
      "Epoch 43/100\n",
      "31500/31500 [==============================] - 1s 40us/step - loss: 0.0751 - val_loss: 0.0758\n",
      "Epoch 44/100\n",
      "31500/31500 [==============================] - 1s 41us/step - loss: 0.0751 - val_loss: 0.0758\n",
      "Epoch 45/100\n",
      "31500/31500 [==============================] - 1s 39us/step - loss: 0.0751 - val_loss: 0.0758\n",
      "Epoch 46/100\n",
      "31500/31500 [==============================] - 1s 39us/step - loss: 0.0751 - val_loss: 0.0758\n",
      "Epoch 47/100\n",
      "31500/31500 [==============================] - 1s 41us/step - loss: 0.0751 - val_loss: 0.0758\n",
      "Epoch 48/100\n",
      "31500/31500 [==============================] - 1s 39us/step - loss: 0.0751 - val_loss: 0.0758\n",
      "Epoch 49/100\n",
      "31500/31500 [==============================] - 1s 39us/step - loss: 0.0751 - val_loss: 0.0758\n",
      "Epoch 50/100\n",
      "31500/31500 [==============================] - 1s 42us/step - loss: 0.0751 - val_loss: 0.0758\n",
      "Epoch 51/100\n",
      "31500/31500 [==============================] - 1s 40us/step - loss: 0.0751 - val_loss: 0.0758\n",
      "Epoch 52/100\n",
      "31500/31500 [==============================] - 1s 39us/step - loss: 0.0751 - val_loss: 0.0758\n",
      "Epoch 53/100\n",
      "31500/31500 [==============================] - 1s 40us/step - loss: 0.0751 - val_loss: 0.0758\n",
      "Epoch 54/100\n",
      "31500/31500 [==============================] - 1s 39us/step - loss: 0.0751 - val_loss: 0.0758\n",
      "Epoch 55/100\n",
      "31500/31500 [==============================] - 1s 40us/step - loss: 0.0751 - val_loss: 0.0758\n",
      "Epoch 56/100\n",
      "31500/31500 [==============================] - 1s 38us/step - loss: 0.0751 - val_loss: 0.0758\n",
      "Epoch 57/100\n",
      "31500/31500 [==============================] - 1s 39us/step - loss: 0.0751 - val_loss: 0.0758\n",
      "Epoch 58/100\n",
      "31500/31500 [==============================] - 1s 39us/step - loss: 0.0751 - val_loss: 0.0758\n",
      "Epoch 59/100\n",
      "31500/31500 [==============================] - 1s 40us/step - loss: 0.0751 - val_loss: 0.0758\n",
      "Epoch 60/100\n",
      "31500/31500 [==============================] - 1s 40us/step - loss: 0.0751 - val_loss: 0.0758\n",
      "Epoch 61/100\n",
      "31500/31500 [==============================] - 1s 39us/step - loss: 0.0751 - val_loss: 0.0758\n",
      "Epoch 62/100\n",
      "31500/31500 [==============================] - 1s 38us/step - loss: 0.0751 - val_loss: 0.0758\n",
      "Epoch 63/100\n",
      "31500/31500 [==============================] - 1s 39us/step - loss: 0.0751 - val_loss: 0.0758\n",
      "Epoch 64/100\n",
      "31500/31500 [==============================] - 1s 40us/step - loss: 0.0751 - val_loss: 0.0758\n",
      "Epoch 65/100\n",
      "31500/31500 [==============================] - 1s 40us/step - loss: 0.0751 - val_loss: 0.0758\n",
      "Epoch 66/100\n",
      "31500/31500 [==============================] - 1s 41us/step - loss: 0.0751 - val_loss: 0.0758\n",
      "Epoch 67/100\n",
      "31500/31500 [==============================] - 1s 39us/step - loss: 0.0751 - val_loss: 0.0758\n",
      "Epoch 68/100\n",
      "31500/31500 [==============================] - 1s 39us/step - loss: 0.0751 - val_loss: 0.0758\n",
      "Epoch 69/100\n",
      "31500/31500 [==============================] - 1s 43us/step - loss: 0.0751 - val_loss: 0.0758\n",
      "Epoch 70/100\n",
      "31500/31500 [==============================] - 1s 39us/step - loss: 0.0751 - val_loss: 0.0758\n",
      "Epoch 71/100\n",
      "31500/31500 [==============================] - 1s 41us/step - loss: 0.0751 - val_loss: 0.0758\n",
      "Epoch 72/100\n",
      "31500/31500 [==============================] - 1s 44us/step - loss: 0.0751 - val_loss: 0.0758\n",
      "Epoch 73/100\n",
      "31500/31500 [==============================] - 1s 38us/step - loss: 0.0751 - val_loss: 0.0758\n",
      "Epoch 74/100\n",
      "31500/31500 [==============================] - 1s 39us/step - loss: 0.0751 - val_loss: 0.0758\n",
      "Epoch 75/100\n",
      "31500/31500 [==============================] - 1s 38us/step - loss: 0.0751 - val_loss: 0.0758\n",
      "Epoch 76/100\n",
      "31500/31500 [==============================] - 1s 39us/step - loss: 0.0751 - val_loss: 0.0758\n",
      "Epoch 77/100\n"
     ]
    },
    {
     "name": "stdout",
     "output_type": "stream",
     "text": [
      "31500/31500 [==============================] - 1s 39us/step - loss: 0.0751 - val_loss: 0.0758\n",
      "Epoch 78/100\n",
      "31500/31500 [==============================] - 1s 39us/step - loss: 0.0751 - val_loss: 0.0758\n",
      "Epoch 79/100\n",
      "31500/31500 [==============================] - 1s 39us/step - loss: 0.0751 - val_loss: 0.0758\n",
      "Epoch 80/100\n",
      "31500/31500 [==============================] - 1s 40us/step - loss: 0.0751 - val_loss: 0.0758\n",
      "Epoch 81/100\n",
      "31500/31500 [==============================] - 1s 40us/step - loss: 0.0751 - val_loss: 0.0758\n",
      "Epoch 82/100\n",
      "31500/31500 [==============================] - 1s 39us/step - loss: 0.0751 - val_loss: 0.0758\n",
      "Epoch 83/100\n",
      "31500/31500 [==============================] - 1s 39us/step - loss: 0.0751 - val_loss: 0.0758\n",
      "Epoch 84/100\n",
      "31500/31500 [==============================] - 1s 41us/step - loss: 0.0751 - val_loss: 0.0758\n",
      "Epoch 85/100\n",
      "31500/31500 [==============================] - 1s 39us/step - loss: 0.0751 - val_loss: 0.0758\n",
      "Epoch 86/100\n",
      "31500/31500 [==============================] - 1s 39us/step - loss: 0.0751 - val_loss: 0.0758\n",
      "Epoch 87/100\n",
      "31500/31500 [==============================] - 1s 38us/step - loss: 0.0751 - val_loss: 0.0758\n",
      "Epoch 88/100\n",
      "31500/31500 [==============================] - 1s 39us/step - loss: 0.0751 - val_loss: 0.0758\n",
      "Epoch 89/100\n",
      "31500/31500 [==============================] - 1s 38us/step - loss: 0.0751 - val_loss: 0.0758\n",
      "Epoch 90/100\n",
      "31500/31500 [==============================] - 1s 39us/step - loss: 0.0751 - val_loss: 0.0758\n",
      "Epoch 91/100\n",
      "31500/31500 [==============================] - 1s 38us/step - loss: 0.0751 - val_loss: 0.0758\n",
      "Epoch 92/100\n",
      "31500/31500 [==============================] - 1s 40us/step - loss: 0.0751 - val_loss: 0.0758\n",
      "Epoch 93/100\n",
      "31500/31500 [==============================] - 1s 39us/step - loss: 0.0751 - val_loss: 0.0758\n",
      "Epoch 94/100\n",
      "31500/31500 [==============================] - 1s 40us/step - loss: 0.0751 - val_loss: 0.0758\n",
      "Epoch 95/100\n",
      "31500/31500 [==============================] - 1s 39us/step - loss: 0.0751 - val_loss: 0.0758\n",
      "Epoch 96/100\n",
      "31500/31500 [==============================] - 1s 39us/step - loss: 0.0751 - val_loss: 0.0758\n",
      "Epoch 97/100\n",
      "31500/31500 [==============================] - 1s 39us/step - loss: 0.0751 - val_loss: 0.0758\n",
      "Epoch 98/100\n",
      "31500/31500 [==============================] - 1s 39us/step - loss: 0.0751 - val_loss: 0.0758\n",
      "Epoch 99/100\n",
      "31500/31500 [==============================] - 1s 37us/step - loss: 0.0751 - val_loss: 0.0758\n",
      "Epoch 100/100\n",
      "31500/31500 [==============================] - 1s 39us/step - loss: 0.0751 - val_loss: 0.0758\n"
     ]
    },
    {
     "data": {
      "image/png": "[encoded data removed]",
      "text/plain": [
       "<Figure size 432x288 with 1 Axes>"
      ]
     },
     "metadata": {},
     "output_type": "display_data"
    },
    {
     "name": "stdout",
     "output_type": "stream",
     "text": [
      "CPU times: user 44min 41s, sys: 8min 37s, total: 53min 18s\n",
      "Wall time: 10min 30s\n"
     ]
    }
   ],
   "source": [
    "%%time\n",
    "# Fit model! (n*100) epochs\n",
    "for _ in range(5):\n",
    "    # Check fit\n",
    "    for i_img in range(5):\n",
    "        number_i = vec_to_array(x_train[i_img, :]).T\n",
    "        \n",
    "        plot_number(number_i, 'in')\n",
    "        plot_number(autoencoder.predict(number_i), 'out')\n",
    "    \n",
    "    # Train\n",
    "    hist = autoencoder.fit(\n",
    "        x_train, x_train,\n",
    "        epochs=100, validation_data=(x_test, x_test), batch_size=4096,\n",
    "        callbacks=[\n",
    "            EarlyStopping(monitor='val_loss', patience=15),\n",
    "            ReduceLROnPlateau(monitor='val_loss', patience=5, factor=0.5, min_lr=1e-6, verbose=1),\n",
    "            ModelCheckpoint('data/model.ckp', monitor='val_loss', save_best_only=True)\n",
    "        ],\n",
    "        shuffle=True\n",
    "    )\n",
    "    \n",
    "    # Summary of performance\n",
    "    graph.plot(hist.history['loss'], label='Train Score')\n",
    "    graph.plot(hist.history['val_loss'], label='Validation Score')\n",
    "    graph.legend()\n",
    "    graph.show()"
   ]
  },
  {
   "cell_type": "code",
   "execution_count": 8,
   "metadata": {},
   "outputs": [
    {
     "data": {
      "image/png": "[encoded data removed]",
      "text/plain": [
       "<Figure size 72x72 with 1 Axes>"
      ]
     },
     "metadata": {},
     "output_type": "display_data"
    },
    {
     "data": {
      "image/png": "[encoded data removed]",
      "text/plain": [
       "<Figure size 72x72 with 1 Axes>"
      ]
     },
     "metadata": {},
     "output_type": "display_data"
    },
    {
     "data": {
      "image/png": "[encoded data removed]",
      "text/plain": [
       "<Figure size 72x72 with 1 Axes>"
      ]
     },
     "metadata": {},
     "output_type": "display_data"
    },
    {
     "data": {
      "image/png": "[encoded data removed]",
      "text/plain": [
       "<Figure size 72x72 with 1 Axes>"
      ]
     },
     "metadata": {},
     "output_type": "display_data"
    },
    {
     "data": {
      "image/png": "[encoded data removed]",
      "text/plain": [
       "<Figure size 72x72 with 1 Axes>"
      ]
     },
     "metadata": {},
     "output_type": "display_data"
    },
    {
     "data": {
      "image/png": "[encoded data removed]",
      "text/plain": [
       "<Figure size 72x72 with 1 Axes>"
      ]
     },
     "metadata": {},
     "output_type": "display_data"
    }
   ],
   "source": [
    "# After Fitting!\n",
    "for i in range(3):\n",
    "    number = vec_to_array(x_train[i, :]).T\n",
    "\n",
    "    plot_number(number)\n",
    "    plot_number(autoencoder.predict(number))"
   ]
  },
  {
   "cell_type": "code",
   "execution_count": 9,
   "metadata": {
    "scrolled": false
   },
   "outputs": [
    {
     "data": {
      "image/png": "[encoded data removed]",
      "text/plain": [
       "<Figure size 72x72 with 1 Axes>"
      ]
     },
     "metadata": {},
     "output_type": "display_data"
    },
    {
     "data": {
      "image/png": "[encoded data removed]",
      "text/plain": [
       "<Figure size 432x288 with 2 Axes>"
      ]
     },
     "metadata": {},
     "output_type": "display_data"
    },
    {
     "name": "stdout",
     "output_type": "stream",
     "text": [
      "Representation\n"
     ]
    },
    {
     "data": {
      "image/png": "[encoded data removed]",
      "text/plain": [
       "<Figure size 432x288 with 2 Axes>"
      ]
     },
     "metadata": {},
     "output_type": "display_data"
    },
    {
     "name": "stdout",
     "output_type": "stream",
     "text": [
      "\n"
     ]
    },
    {
     "data": {
      "image/png": "[encoded data removed]",
      "text/plain": [
       "<Figure size 72x72 with 1 Axes>"
      ]
     },
     "metadata": {},
     "output_type": "display_data"
    },
    {
     "data": {
      "image/png": "[encoded data removed]",
      "text/plain": [
       "<Figure size 432x288 with 2 Axes>"
      ]
     },
     "metadata": {},
     "output_type": "display_data"
    }
   ],
   "source": [
    "new_number = vec_to_array(x_test[1013, :]).T\n",
    "\n",
    "plot_number(new_number)\n",
    "\n",
    "sns.heatmap(new_number.reshape((28, 28)), square=True)\n",
    "graph.show()\n",
    "\n",
    "print('Representation')\n",
    "sns.heatmap(encoder.predict(new_number))\n",
    "graph.show()\n",
    "\n",
    "print('')\n",
    "plot_number(autoencoder.predict(new_number))\n",
    "\n",
    "sns.heatmap(autoencoder.predict(new_number).reshape((28, 28)), square=True)\n",
    "graph.show()"
   ]
  },
  {
   "cell_type": "code",
   "execution_count": 10,
   "metadata": {
    "scrolled": false
   },
   "outputs": [
    {
     "data": {
      "image/png": "[encoded data removed]",
      "text/plain": [
       "<Figure size 72x72 with 1 Axes>"
      ]
     },
     "metadata": {},
     "output_type": "display_data"
    },
    {
     "data": {
      "image/png": "[encoded data removed]",
      "text/plain": [
       "<Figure size 72x72 with 1 Axes>"
      ]
     },
     "metadata": {},
     "output_type": "display_data"
    },
    {
     "data": {
      "image/png": "[encoded data removed]",
      "text/plain": [
       "<Figure size 72x72 with 1 Axes>"
      ]
     },
     "metadata": {},
     "output_type": "display_data"
    },
    {
     "data": {
      "image/png": "[encoded data removed]",
      "text/plain": [
       "<Figure size 72x72 with 1 Axes>"
      ]
     },
     "metadata": {},
     "output_type": "display_data"
    },
    {
     "data": {
      "image/png": "[encoded data removed]",
      "text/plain": [
       "<Figure size 72x72 with 1 Axes>"
      ]
     },
     "metadata": {},
     "output_type": "display_data"
    },
    {
     "data": {
      "image/png": "[encoded data removed]",
      "text/plain": [
       "<Figure size 72x72 with 1 Axes>"
      ]
     },
     "metadata": {},
     "output_type": "display_data"
    },
    {
     "data": {
      "image/png": "[encoded data removed]",
      "text/plain": [
       "<Figure size 72x72 with 1 Axes>"
      ]
     },
     "metadata": {},
     "output_type": "display_data"
    },
    {
     "data": {
      "image/png": "[encoded data removed]",
      "text/plain": [
       "<Figure size 72x72 with 1 Axes>"
      ]
     },
     "metadata": {},
     "output_type": "display_data"
    },
    {
     "data": {
      "image/png": "[encoded data removed]",
      "text/plain": [
       "<Figure size 72x72 with 1 Axes>"
      ]
     },
     "metadata": {},
     "output_type": "display_data"
    },
    {
     "data": {
      "image/png": "[encoded data removed]",
      "text/plain": [
       "<Figure size 72x72 with 1 Axes>"
      ]
     },
     "metadata": {},
     "output_type": "display_data"
    },
    {
     "data": {
      "image/png": "[encoded data removed]",
      "text/plain": [
       "<Figure size 72x72 with 1 Axes>"
      ]
     },
     "metadata": {},
     "output_type": "display_data"
    },
    {
     "data": {
      "image/png": "[encoded data removed]",
      "text/plain": [
       "<Figure size 72x72 with 1 Axes>"
      ]
     },
     "metadata": {},
     "output_type": "display_data"
    },
    {
     "data": {
      "image/png": "[encoded data removed]",
      "text/plain": [
       "<Figure size 72x72 with 1 Axes>"
      ]
     },
     "metadata": {},
     "output_type": "display_data"
    },
    {
     "data": {
      "image/png": "[encoded data removed]",
      "text/plain": [
       "<Figure size 72x72 with 1 Axes>"
      ]
     },
     "metadata": {},
     "output_type": "display_data"
    },
    {
     "data": {
      "image/png": "[encoded data removed]",
      "text/plain": [
       "<Figure size 72x72 with 1 Axes>"
      ]
     },
     "metadata": {},
     "output_type": "display_data"
    },
    {
     "data": {
      "image/png": "[encoded data removed]",
      "text/plain": [
       "<Figure size 72x72 with 1 Axes>"
      ]
     },
     "metadata": {},
     "output_type": "display_data"
    },
    {
     "data": {
      "image/png": "[encoded data removed]",
      "text/plain": [
       "<Figure size 72x72 with 1 Axes>"
      ]
     },
     "metadata": {},
     "output_type": "display_data"
    },
    {
     "data": {
      "image/png": "[encoded data removed]",
      "text/plain": [
       "<Figure size 72x72 with 1 Axes>"
      ]
     },
     "metadata": {},
     "output_type": "display_data"
    },
    {
     "data": {
      "image/png": "[encoded data removed]",
      "text/plain": [
       "<Figure size 72x72 with 1 Axes>"
      ]
     },
     "metadata": {},
     "output_type": "display_data"
    },
    {
     "data": {
      "image/png": "[encoded data removed]",
      "text/plain": [
       "<Figure size 72x72 with 1 Axes>"
      ]
     },
     "metadata": {},
     "output_type": "display_data"
    }
   ],
   "source": [
    "# Test set fits!\n",
    "for i in range(10):\n",
    "    number = vec_to_array(x_test[i, :]).T\n",
    "\n",
    "    plot_number(number, 'Input')\n",
    "    plot_number(autoencoder.predict(number), 'Output')"
   ]
  }
 ],
 "metadata": {
  "kernelspec": {
   "display_name": "Python 3",
   "language": "python",
   "name": "python3"
  },
  "language_info": {
   "codemirror_mode": {
    "name": "ipython",
    "version": 3
   },
   "file_extension": ".py",
   "mimetype": "text/x-python",
   "name": "python",
   "nbconvert_exporter": "python",
   "pygments_lexer": "ipython3",
   "version": "3.6.4"
  }
 },
 "nbformat": 4,
 "nbformat_minor": 2
}
